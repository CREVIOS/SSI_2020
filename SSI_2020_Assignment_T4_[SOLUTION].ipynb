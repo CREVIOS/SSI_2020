{
  "nbformat": 4,
  "nbformat_minor": 0,
  "metadata": {
    "colab": {
      "name": "SSI 2020 Assignment T4 [SOLUTION]",
      "provenance": [],
      "collapsed_sections": [
        "wSrIFazetNAW",
        "D_RPqO4UPwRz",
        "s2OBOQtltUwM",
        "cYC7Itksfpz_",
        "JnD5A6FAfBul"
      ],
      "toc_visible": true,
      "include_colab_link": true
    },
    "kernelspec": {
      "name": "python3",
      "display_name": "Python 3"
    }
  },
  "cells": [
    {
      "cell_type": "markdown",
      "metadata": {
        "id": "view-in-github",
        "colab_type": "text"
      },
      "source": [
        "<a href=\"https://colab.research.google.com/github/CREVIOS/SSI_2020/blob/master/SSI_2020_Assignment_T4_%5BSOLUTION%5D.ipynb\" target=\"_parent\"><img src=\"https://colab.research.google.com/assets/colab-badge.svg\" alt=\"Open In Colab\"/></a>"
      ]
    },
    {
      "cell_type": "markdown",
      "metadata": {
        "id": "-f9oU-Fzcnmf",
        "colab_type": "text"
      },
      "source": [
        "# Assignment T4 Solutions\n",
        "\n",
        "*Assignment written by Aleks Jovcic, with help from Alex Tsun and Adam Pahlavan*\n",
        "\n",
        "In the following assignment, you will conduct your first foray into Machine Learning with Multiple Linear Regression, Feature Manipulation, and LASSO Regression!"
      ]
    },
    {
      "cell_type": "markdown",
      "metadata": {
        "id": "l1VGOd2-czOa",
        "colab_type": "text"
      },
      "source": [
        "---\n",
        "\n",
        "## Overview\n",
        "In this assignment you will be working with a simulated dataset that we've created called `T4_data.txt`. This simulated dataset represents the fictional scenario of the mysterious **Disease Q** spreading through populations. You are taking the role of a data scientist who has been tasked with gleaning from this data information that could be beneficial in the fight against the mysterious pathogen.\n",
        "\n",
        "Each row in the data is a single **data point**, which represents a **population region**, and contains values for each of 4 columns. You are going to be writing code throughout this assignment to try and predict the label column $Y$, based on the three feature columns, $X_1, X_2,$ and $X_3$. Remember that this is the crux of Machine Learning: predicting **labels** based on **features**.\n",
        "\n",
        "Let's talk about what each of these columns represent:\n",
        "* $Y$: Represents the percent of the population that has been infected with Disease Q 10 days after the first case.\n",
        "* $X_1$: Represents the average number of cars passing a common toll booth on the border of this population region per minute over this 10 day period. If the value is positive, that means more cars are coming *into* the region than are leaving, and if it is negative, the opposite is true. *(E.g.: a value of 7.32 means that on average, 7.32 more cars drove into this region than out of it, per minute).*\n",
        "* $X_2$: Represents the change in the average amount of people in outdoor spaces at peak hours since the first case. A positive value means, generally, the amount of people outside has increased. *(E.g.: A value of -3.09 means that there are, on average, 3.09 less people in a given outdoor space at the end of these 10 days, then there were at the start).*\n",
        "* $X_3$: Represents the average number of one-time-use masks being produced per hour in this region. If the number is positive, it means they are being produced in excess, and if it is negative, that means that they are being used faster than they are being produced. *(E.g: A value of exactly 0, means that, on average, masks are being used and expended as fast as they are being produced).*\n",
        "\n",
        "The data we have provided is 100,000 rows of data points, each of which is a region. Over the course of this assignment, you are going to train various Machine Learning models to learn from this data, and be able to make predictions as to how much of a population will be infected based on the practices of the area.\n",
        "\n",
        "Obviously, this data is a simplified version of how such things work, and a Machine Learning model will rarely work as well as they will in this assignment. However, hopefully the real-world connections to this are apparent. The techniques we are going to use are real techniques employed in Machine Learning all the time, and are generalizable to so many topics, issues, and experiments. What we hope to demonstrate, above all else, is the power of Machine Learning, and how that power is in your hands.\n",
        "\n",
        "*Digression: You may notice throughout the assignment parts marked as \"Digressions\", like this one. This just means these bits of information are not necessary to complete the assignment, but you may find them interesting.*"
      ]
    },
    {
      "cell_type": "markdown",
      "metadata": {
        "id": "B2FY3NUxs7HW",
        "colab_type": "text"
      },
      "source": [
        "---\n",
        "\n",
        "# Problem 1: Multiple Linear Regression\n",
        "\n",
        "In Problem 1, you will be performing Multiple Linear Regression as we've shown in lecture."
      ]
    },
    {
      "cell_type": "markdown",
      "metadata": {
        "id": "a7W2LQHFCHJB",
        "colab_type": "text"
      },
      "source": [
        "## **Save a Copy in Drive**\n",
        "\n",
        "BEFORE YOU DO ANYTHING ELSE, make sure you save a copy of this Colab Notebook in your Google Drive. If you don't, none of your work will be saved!"
      ]
    },
    {
      "cell_type": "markdown",
      "metadata": {
        "id": "8Ae07BxaDEo4",
        "colab_type": "text"
      },
      "source": [
        "## **(a) Hypothesize the Relationship**\n",
        "\n",
        "Before we go about manipulating our data, we need to make a hypothesis as to how it is related. For each of the 3 features ($X_1$, $X_2$, and $X_3$), hypothesize what kind of relationship it has with the label ($Y$). Does it have a positive, polynomial relationship? What abot a negative, linear relationship? In other words, what impact do you think each of these features has on the label (what percentage of the population is infected with Disease Q)?"
      ]
    },
    {
      "cell_type": "markdown",
      "metadata": {
        "id": "7r8DdKBXEI6j",
        "colab_type": "text"
      },
      "source": [
        "*Write your text answer here*\n",
        "\n",
        "*Solution: I would hypothesize that $X_1$ has a positive, linear relationship (more cars coming in means more people are infected), $X_2$ has a similarily positive, linear relationship (more people outside means more opportunity for transmission), and $X_3$ has a linear, negative relationship (more masks being produced means lower chance of transmission).*"
      ]
    },
    {
      "cell_type": "markdown",
      "metadata": {
        "id": "Jaa0S1UUAZC5",
        "colab_type": "text"
      },
      "source": [
        "## **(b) Setup and Loading Data**\n",
        "\n",
        "To start, running the following two cells to import most of the necessary libraries for this assignment (there are some libraries it will be on you to import yourself later) and load in the dataset. After running the second cell, the data will be in the form of a numpy array called `data`.\n",
        "\n",
        "Note that `data` is a numpy array, and thus we do not have the luxury of column names. Know that columns 0, 1, 2, and 3 represent $X_1$, $X_2$, $X_3$, and $Y$ respectively.\n",
        "\n",
        "*Digression: You'll notice that we first use `pd.read_csv` to load in the data. This is because numpy doesn't have the capability to load data from a URL like Pandas does. However, we want our data in the form of a numpy array for ease of usage later. For this reason, we then convert it to a numpy array using `data.to_numpy()`. This is a wonderful example of the libraries we're using playing nicely with each other.*"
      ]
    },
    {
      "cell_type": "code",
      "metadata": {
        "id": "nUKKF_O5Wx69",
        "colab_type": "code",
        "colab": {}
      },
      "source": [
        "import numpy as np\n",
        "import pandas as pd\n",
        "import sklearn"
      ],
      "execution_count": null,
      "outputs": []
    },
    {
      "cell_type": "code",
      "metadata": {
        "id": "i4sWX3CIA-0m",
        "colab_type": "code",
        "colab": {
          "base_uri": "https://localhost:8080/",
          "height": 137
        },
        "outputId": "b3d08df8-3a1f-4642-dff7-d891e7560ed5"
      },
      "source": [
        "DATA_URL = \"https://raw.githubusercontent.com/alextsun/ssi-ds-bootcamp-2020/master/T4_data.txt\"\n",
        "\n",
        "data = pd.read_csv(DATA_URL, names=[\"X1\", \"X2\", \"X3\", \"y\"], header=None, sep=\" \")\n",
        "data = data.to_numpy()\n",
        "data"
      ],
      "execution_count": null,
      "outputs": [
        {
          "output_type": "execute_result",
          "data": {
            "text/plain": [
              "array([[  0.31067321,   3.58705809, -14.74152841,  22.85653472],\n",
              "       [  2.15902988,   1.05183608,   4.78644108,  16.84843659],\n",
              "       [  7.62320217,  -4.37078052,  -4.81588852,  24.62265439],\n",
              "       ...,\n",
              "       [  5.7867169 ,  -1.26512953,  16.61337466,  18.5815376 ],\n",
              "       [ -3.96598324,   4.7914319 ,  13.93511575,  14.15450107],\n",
              "       [  1.09613082,   0.04386569,   7.37711117,  13.28239108]])"
            ]
          },
          "metadata": {
            "tags": []
          },
          "execution_count": 2
        }
      ]
    },
    {
      "cell_type": "markdown",
      "metadata": {
        "id": "lFYkmDOjtAWF",
        "colab_type": "text"
      },
      "source": [
        "## **(c) Splitting into Train, Val, and Test**\n",
        "\n",
        "Split `data` into `X_train`, `X_val`, `X_test`, `y_train`, `y_val`, and `y_test` in ratios of 80%, 10%, and 10%.\n",
        "\n",
        "*Hint: Use the numpy function [np.split()](https://numpy.org/devdocs/reference/generated/numpy.split.html)*\n",
        "\n",
        "*Digression: You may notice (and be annoyed by) the fact that X is capitalized while y is not. The reason for this is that under ML convention, X is capitalized because it is a matrix, whereas y is lowercase because it is a vector.*\n"
      ]
    },
    {
      "cell_type": "code",
      "metadata": {
        "id": "cmC2dIT2DZqK",
        "colab_type": "code",
        "colab": {}
      },
      "source": [
        "# write your code here\n",
        "X, y = data[:, :3], data[:, 3]\n",
        "\n",
        "X_train, X_val, X_test = np.split(X, [int(X.shape[0] * 0.8), int(X.shape[0] * 0.9)])\n",
        "y_train, y_val, y_test = np.split(y, [int(y.shape[0] * 0.8), int(y.shape[0] * 0.9)])"
      ],
      "execution_count": null,
      "outputs": []
    },
    {
      "cell_type": "markdown",
      "metadata": {
        "id": "9Ohlt8A7KnK5",
        "colab_type": "text"
      },
      "source": [
        "## **(d) Creating and Fitting a Multiple Linear Regression Model**\n",
        "\n",
        "Create a Multiple Linear Regression model called `model`, train it on `X_train` and `y_train`, and print the weights and bias. You will first need to import `LinearRegression` from `sklearn.linear_model`.\n",
        "\n",
        "*Hint: If you are unsure how to perform these tasks, try reading the documentation for sklearn's [LinearRegression](https://scikit-learn.org/stable/modules/generated/sklearn.linear_model.LinearRegression.html) class.*"
      ]
    },
    {
      "cell_type": "code",
      "metadata": {
        "id": "U-mq1IekLugl",
        "colab_type": "code",
        "colab": {
          "base_uri": "https://localhost:8080/",
          "height": 51
        },
        "outputId": "aa6cb99d-c82b-47b9-d641-54a2b74bb46e"
      },
      "source": [
        "# write your code here\n",
        "from sklearn.linear_model import LinearRegression\n",
        "\n",
        "model = LinearRegression()\n",
        "model.fit(X_train, y_train)\n",
        "weights = model.coef_\n",
        "bias = model.intercept_\n",
        "print(weights)\n",
        "print(bias)"
      ],
      "execution_count": null,
      "outputs": [
        {
          "output_type": "stream",
          "text": [
            "[ 1.2947664   1.19953399 -0.49847589]\n",
            "19.013167046965712\n"
          ],
          "name": "stdout"
        }
      ]
    },
    {
      "cell_type": "markdown",
      "metadata": {
        "id": "n1Ciosf3dDi0",
        "colab_type": "text"
      },
      "source": [
        "## **(e) Giving the Y-hat Equation**\n",
        "\n",
        "Based on the weights and bias you recieved from your Linear Regression model, write an equation for $\\hat{Y}$ in $\\LaTeX$. Round your weights to two decimal places.\n",
        "\n",
        "*Hint: To find out how to write $\\hat{Y}$ in $\\LaTeX$, double click on this text box!*"
      ]
    },
    {
      "cell_type": "markdown",
      "metadata": {
        "id": "ddicNCLxdFrh",
        "colab_type": "text"
      },
      "source": [
        "Write your $\\LaTeX$ statement here.\n",
        "\n",
        "$\\hat{Y} = 1.29X_1 + 1.20X_2 - 0.50X_3 + 19.01$"
      ]
    },
    {
      "cell_type": "markdown",
      "metadata": {
        "id": "3Z1OCXXrdMpz",
        "colab_type": "text"
      },
      "source": [
        "## **(f) Finding Train and Val MSE**\n",
        "\n",
        "Find and print the Mean Squared Error (MSE) for `model`'s prediction on the Train set, as well as the MSE for `model`'s prediction on the Val set. You will first need to import `mean_squared_error` from `sklearn.metrics`.\n",
        "\n",
        "*Hint: If you are unsure how to perform these tasks, try reading the documentation for sklearn's [mean_squared_error](https://scikit-learn.org/stable/modules/generated/sklearn.metrics.mean_squared_error.html) function.*"
      ]
    },
    {
      "cell_type": "code",
      "metadata": {
        "id": "ZvzTb-ikKZVY",
        "colab_type": "code",
        "colab": {
          "base_uri": "https://localhost:8080/",
          "height": 51
        },
        "outputId": "61ee195c-0277-4082-f034-f8d702877ec0"
      },
      "source": [
        "# write your code here\n",
        "from sklearn.metrics import mean_squared_error\n",
        "\n",
        "y_train_pred = model.predict(X_train)\n",
        "print(mean_squared_error(y_train, y_train_pred))\n",
        "\n",
        "y_val_pred = model.predict(X_val)\n",
        "print(mean_squared_error(y_val, y_val_pred))"
      ],
      "execution_count": null,
      "outputs": [
        {
          "output_type": "stream",
          "text": [
            "23.094446062096804\n",
            "21.179020715348685\n"
          ],
          "name": "stdout"
        }
      ]
    },
    {
      "cell_type": "markdown",
      "metadata": {
        "id": "mamC8FY4JJJ2",
        "colab_type": "text"
      },
      "source": [
        "You'll probably notice that those MSE's aren't that great! Why is this the case? To find out, we'll need to investigate our data a bit. We can start doing this by making what are called **marginal plots**."
      ]
    },
    {
      "cell_type": "markdown",
      "metadata": {
        "id": "rP80zfO8uS1L",
        "colab_type": "text"
      },
      "source": [
        "## **(g) Marginal Plots**\n",
        "\n",
        "In T3, we were able to make a scatter plot of our two variables directly and describe their approximate relationship. Unfortunately, in this assignment, we have 3 features and 1 label (called 3-dimensional data). Thus, it is difficulty (nigh-impossible) to do anything like graphing all our features vs. all our data.\n",
        "\n",
        "However, what we can do is make what are called **marginal plots**. Marginal plots are scatter plots comparing a single feature to the label. This allows us to see if there are any potential underlying behaviors occuring with any of our individual features.\n",
        "\n",
        "In the three cells below, make and show three scatter plots comparing each of the three features ($X_1$, $X_2$, and $X_3$) to $Y$. Each plot should have a descriptive title and axes labels. In the text boxes, give a qualitative description of the relationship you see in the scatter plots. You will have to import `matplotlib.pyplot`."
      ]
    },
    {
      "cell_type": "code",
      "metadata": {
        "id": "sGJ84sqNFsce",
        "colab_type": "code",
        "colab": {
          "base_uri": "https://localhost:8080/",
          "height": 295
        },
        "outputId": "f14c023e-248b-4557-9484-c67c7d3f6063"
      },
      "source": [
        "# write your code here\n",
        "import matplotlib.pyplot as plt\n",
        "\n",
        "plt.scatter(data[:, 0], data[:, 3])\n",
        "plt.title(\"X1 vs Y\")\n",
        "plt.xlabel(\"X1\")\n",
        "plt.ylabel(\"Y\")\n",
        "plt.show()"
      ],
      "execution_count": null,
      "outputs": [
        {
          "output_type": "display_data",
          "data": {
            "image/png": "[encoded data removed]",
            "text/plain": [
              "<Figure size 432x288 with 1 Axes>"
            ]
          },
          "metadata": {
            "tags": [],
            "needs_background": "light"
          }
        }
      ]
    },
    {
      "cell_type": "markdown",
      "metadata": {
        "id": "KWX_uSrCK0JB",
        "colab_type": "text"
      },
      "source": [
        "*Write your text answer here*\n",
        "\n",
        "*Solution: Looks like a positive, polynomial relationship.*"
      ]
    },
    {
      "cell_type": "code",
      "metadata": {
        "id": "cnhYlniZHrMH",
        "colab_type": "code",
        "colab": {
          "base_uri": "https://localhost:8080/",
          "height": 295
        },
        "outputId": "8340767f-ce24-4ac1-fe6e-5c9b7eda599a"
      },
      "source": [
        "# write your code here\n",
        "plt.scatter(data[:, 1], data[:, 3])\n",
        "plt.title(\"X2 vs Y\")\n",
        "plt.xlabel(\"X2\")\n",
        "plt.ylabel(\"Y\")\n",
        "plt.show()"
      ],
      "execution_count": null,
      "outputs": [
        {
          "output_type": "display_data",
          "data": {
            "image/png": "[encoded data removed]",
            "text/plain": [
              "<Figure size 432x288 with 1 Axes>"
            ]
          },
          "metadata": {
            "tags": [],
            "needs_background": "light"
          }
        }
      ]
    },
    {
      "cell_type": "markdown",
      "metadata": {
        "id": "67u90MirK3UG",
        "colab_type": "text"
      },
      "source": [
        "*Write your text answer here*\n",
        "\n",
        "*Solution: Looks like a linear, positive relationship.*"
      ]
    },
    {
      "cell_type": "code",
      "metadata": {
        "id": "J5O7VgwiH5x1",
        "colab_type": "code",
        "colab": {
          "base_uri": "https://localhost:8080/",
          "height": 295
        },
        "outputId": "5fda529a-4b6e-4250-b9b6-a8764e2f604f"
      },
      "source": [
        "# write your code here\n",
        "plt.scatter(data[:, 2], data[:, 3])\n",
        "plt.title(\"X3 vs Y\")\n",
        "plt.xlabel(\"X3\")\n",
        "plt.ylabel(\"Y\")\n",
        "plt.show()"
      ],
      "execution_count": null,
      "outputs": [
        {
          "output_type": "display_data",
          "data": {
            "image/png": "[encoded data removed]",
            "text/plain": [
              "<Figure size 432x288 with 1 Axes>"
            ]
          },
          "metadata": {
            "tags": [],
            "needs_background": "light"
          }
        }
      ]
    },
    {
      "cell_type": "markdown",
      "metadata": {
        "id": "Hs2i-GBhK4f_",
        "colab_type": "text"
      },
      "source": [
        "*Write your text answer here*\n",
        "\n",
        "*Solution: Looks like a linear, negative relationship.*"
      ]
    },
    {
      "cell_type": "markdown",
      "metadata": {
        "id": "_6MeJwVUK69s",
        "colab_type": "text"
      },
      "source": [
        "*Digression: You may notice that some of the data points for variable Y go above 100%. This is to represent a scenario in which the immediate population of a region actually increases in the given 10 days (perhaps it is a popular vacation destination and a large population flocks there despite the ongoing spread of Disease Q).*"
      ]
    },
    {
      "cell_type": "markdown",
      "metadata": {
        "id": "V8Ar3gLsL7W8",
        "colab_type": "text"
      },
      "source": [
        "---\n",
        "\n",
        "# Problem 2: Transforming the Data\n",
        "\n",
        "If you created your marginal plots in Problem 1 correctly, you should have seen that $X_1$ doesn't seem to have a linear relationship with $Y$; in fact, it seems to have some kind of polynomial relationship!\n",
        "\n",
        "As data scientists, our goal is now to investigate this relationship, and see if anything can be done to improve our model. As we saw, the val MSE we got wasn't great. Perhaps this is the reason why!"
      ]
    },
    {
      "cell_type": "markdown",
      "metadata": {
        "id": "wSrIFazetNAW",
        "colab_type": "text"
      },
      "source": [
        "## **(a) Feature Manipulation (Making X1 Polynomial)**\n",
        "\n",
        "The first thing we will do is **transform** our data by making X polynomial. Create a new numpy array `trans_X`, which contains the following columns (in order from left to right):\n",
        "\n",
        "> $X_1$, $X_1^2$, $X_1^3$, $X_1^4$, $X_1^5$, $X_2$, $X_3$\n",
        "\n",
        "We don't necessarily know if X is going to have behavior all the way up to the 5th degree, but we're generating columns up until that point in the hopes of finding out exactly what kind of polynomial relationship it has!"
      ]
    },
    {
      "cell_type": "code",
      "metadata": {
        "id": "myqPmEu_L3n_",
        "colab_type": "code",
        "colab": {}
      },
      "source": [
        "# write your code here\n",
        "DEGREE = 5\n",
        "n = X.shape[0]\n",
        "trans_X = np.repeat(X[:, 0], DEGREE).reshape((n, DEGREE))\n",
        "\n",
        "for i in range(2, DEGREE + 1):\n",
        "  trans_X[:, i-1] **= i\n",
        "\n",
        "trans_X = np.hstack((trans_X, X[:, 1:]))"
      ],
      "execution_count": null,
      "outputs": []
    },
    {
      "cell_type": "markdown",
      "metadata": {
        "id": "pB3fQkZ-uMAo",
        "colab_type": "text"
      },
      "source": [
        "## **(b) Marginal Plots**\n",
        "\n",
        "Once again, we are going to be making marginal plots. This time, however, we are going to make **5** plots, one for each degree of $X_1$. Do this in each of the following code blocks, and enter a written answer once again giving a brief, qualitative description of the graph.\n",
        "\n",
        "As before, show each graph and give them each a descriptive title and axes labels."
      ]
    },
    {
      "cell_type": "code",
      "metadata": {
        "id": "-Oyli3k1MTok",
        "colab_type": "code",
        "colab": {
          "base_uri": "https://localhost:8080/",
          "height": 295
        },
        "outputId": "e6e3fb95-9993-4efa-e9dd-877e58915433"
      },
      "source": [
        "# write your code here\n",
        "plt.scatter(trans_X[:, 0], y)\n",
        "plt.title(\"X1 vs Y\")\n",
        "plt.xlabel(\"X1\")\n",
        "plt.ylabel(\"Y\")\n",
        "plt.show()"
      ],
      "execution_count": null,
      "outputs": [
        {
          "output_type": "display_data",
          "data": {
            "image/png": "[encoded data removed]",
            "text/plain": [
              "<Figure size 432x288 with 1 Axes>"
            ]
          },
          "metadata": {
            "tags": [],
            "needs_background": "light"
          }
        }
      ]
    },
    {
      "cell_type": "markdown",
      "metadata": {
        "id": "lBSfzOj1PxDC",
        "colab_type": "text"
      },
      "source": [
        "*Write your text answer here*\n",
        "\n",
        "*Solution: Looks like a positive, polynomial relationship.*"
      ]
    },
    {
      "cell_type": "code",
      "metadata": {
        "id": "7fgmgkvZMcrM",
        "colab_type": "code",
        "colab": {
          "base_uri": "https://localhost:8080/",
          "height": 295
        },
        "outputId": "50cd2a04-1edb-4a9b-9fa4-da7b6159a5f2"
      },
      "source": [
        "# write your code here\n",
        "plt.scatter(trans_X[:, 1], y)\n",
        "plt.title(\"X1^2 vs Y\")\n",
        "plt.xlabel(\"X1^2\")\n",
        "plt.ylabel(\"Y\")\n",
        "plt.show()"
      ],
      "execution_count": null,
      "outputs": [
        {
          "output_type": "display_data",
          "data": {
            "image/png": "[encoded data removed]",
            "text/plain": [
              "<Figure size 432x288 with 1 Axes>"
            ]
          },
          "metadata": {
            "tags": [],
            "needs_background": "light"
          }
        }
      ]
    },
    {
      "cell_type": "markdown",
      "metadata": {
        "id": "ydNIeu9CP2yJ",
        "colab_type": "text"
      },
      "source": [
        "*Write your text answer here*\n",
        "\n",
        "*Solution: Looks like a generally linear, positive, relationship.*"
      ]
    },
    {
      "cell_type": "code",
      "metadata": {
        "id": "ltH7g4mFMfzQ",
        "colab_type": "code",
        "colab": {
          "base_uri": "https://localhost:8080/",
          "height": 295
        },
        "outputId": "1e1ed736-6a0e-4397-9a56-69e171b0d9ca"
      },
      "source": [
        "# write your code here\n",
        "plt.scatter(trans_X[:, 2], y)\n",
        "plt.title(\"X1^3 vs Y\")\n",
        "plt.xlabel(\"X1^3\")\n",
        "plt.ylabel(\"Y\")\n",
        "plt.show()"
      ],
      "execution_count": null,
      "outputs": [
        {
          "output_type": "display_data",
          "data": {
            "image/png": "[encoded data removed]",
            "text/plain": [
              "<Figure size 432x288 with 1 Axes>"
            ]
          },
          "metadata": {
            "tags": [],
            "needs_background": "light"
          }
        }
      ]
    },
    {
      "cell_type": "markdown",
      "metadata": {
        "id": "4Lb--Ad-P3dh",
        "colab_type": "text"
      },
      "source": [
        "*Write your text answer here*\n",
        "\n",
        "*Solution: Looks like a generally linear, positive, relationship.*"
      ]
    },
    {
      "cell_type": "code",
      "metadata": {
        "id": "ycj8jkFsMrKC",
        "colab_type": "code",
        "colab": {
          "base_uri": "https://localhost:8080/",
          "height": 295
        },
        "outputId": "13684b39-cab6-4201-c9bf-d0be2a9b5a70"
      },
      "source": [
        "# write your code here\n",
        "plt.scatter(trans_X[:, 3], y)\n",
        "plt.title(\"X1^4 vs Y\")\n",
        "plt.xlabel(\"X1^4\")\n",
        "plt.ylabel(\"Y\")\n",
        "plt.show()"
      ],
      "execution_count": null,
      "outputs": [
        {
          "output_type": "display_data",
          "data": {
            "image/png": "[encoded data removed]",
            "text/plain": [
              "<Figure size 432x288 with 1 Axes>"
            ]
          },
          "metadata": {
            "tags": [],
            "needs_background": "light"
          }
        }
      ]
    },
    {
      "cell_type": "markdown",
      "metadata": {
        "id": "ZElkrhBLP4D1",
        "colab_type": "text"
      },
      "source": [
        "*Write your text answer here*\n",
        "\n",
        "*Solution: Looks like a generally linear, positive, relationship.*"
      ]
    },
    {
      "cell_type": "code",
      "metadata": {
        "id": "xff-ascIbJMJ",
        "colab_type": "code",
        "colab": {
          "base_uri": "https://localhost:8080/",
          "height": 295
        },
        "outputId": "ee4bd065-9163-4890-be28-ea7c4091134a"
      },
      "source": [
        "# write your code here\n",
        "plt.scatter(trans_X[:, 4], y)\n",
        "plt.title(\"X1^5 vs Y\")\n",
        "plt.xlabel(\"X1^5\")\n",
        "plt.ylabel(\"Y\")\n",
        "plt.show()"
      ],
      "execution_count": null,
      "outputs": [
        {
          "output_type": "display_data",
          "data": {
            "image/png": "[encoded data removed]",
            "text/plain": [
              "<Figure size 432x288 with 1 Axes>"
            ]
          },
          "metadata": {
            "tags": [],
            "needs_background": "light"
          }
        }
      ]
    },
    {
      "cell_type": "markdown",
      "metadata": {
        "id": "GabOQgvNP4uY",
        "colab_type": "text"
      },
      "source": [
        "*Write your text answer here*\n",
        "\n",
        "*Solution: Looks like a generally linear, positive, relationship.*"
      ]
    },
    {
      "cell_type": "markdown",
      "metadata": {
        "id": "G96_hkbDP-SF",
        "colab_type": "text"
      },
      "source": [
        "If you made these marginal plots correctly, you should see that the untransformed $X_1$ looks the same, but that each higher degree transformation looks mostly linear (albeit getting stranger as they get higher). There's not too much we can glean from this about the exact behavior of $X_1$ unfortunately, however it does seem to support our suspicions that there is some higher-degree behavior underlying the relationship between $X_1$ and $Y$."
      ]
    },
    {
      "cell_type": "markdown",
      "metadata": {
        "id": "D_RPqO4UPwRz",
        "colab_type": "text"
      },
      "source": [
        "## **(c) Standardizing the Data**\n",
        "\n",
        "The next step in transforming our data is going to be to **standardize** it. This is the process by which we put our features into **z-score space**. This is a very important process because it makes sure that differing scales of units do not become an issue when we apply the LASSO penalty in problem 3.\n",
        "\n",
        "Create a new numpy array `trans_standard_X`, containing the standardized version of `trans_X`.\n",
        "\n",
        "*Hint: See Programming Bootcamp Lecture 4.3 for more information on standardization.*\n",
        "\n",
        "*Digression: You may be wondering why we aren't transforming $Y$ as well. This is a good thought to have. It is true that there may be a linear relationship that only arises when we look at some feature transformation of $Y$. For instance, if the underlying data followed $Y=e^{X_1+X_2+X_3}$, then there would be a linear relationship between $X_1$, $X_2$, and $X_3$ and $\\log{Y}$. Notice that $Y=e^{X_1+X_2+X_3}=e^{X_1}e^{X_2}e^{X_2}$, so no prediction of $Y$ decomposes linearly over feature transformations of $X_1$, $X_2$, and $X_3$. For the purpose of this problem, we'll tell you that you don't need to transform $Y$, but this freebie won't usually be present when working with data in the wild!*"
      ]
    },
    {
      "cell_type": "code",
      "metadata": {
        "id": "p4td769jPrq5",
        "colab_type": "code",
        "colab": {}
      },
      "source": [
        "# write your code here\n",
        "means = np.mean(trans_X, axis=0)\n",
        "stds = np.std(trans_X, axis=0)\n",
        "\n",
        "trans_standard_X = trans_X.copy()\n",
        "trans_standard_X -= means\n",
        "trans_standard_X /= stds"
      ],
      "execution_count": null,
      "outputs": []
    },
    {
      "cell_type": "markdown",
      "metadata": {
        "id": "GhsNl8ERuv8F",
        "colab_type": "text"
      },
      "source": [
        "## **(d) Splitting Into Train, Val, and Test**\n",
        "\n",
        "Split `trans_standard_X` into `trans_standard_X_train`, `trans_standard_X_val`, and `trans_standard_X_test` in ratios of 80%, 10%, and 10%.\n",
        "\n",
        "*Hint: Use the numpy function [np.split()](https://numpy.org/devdocs/reference/generated/numpy.split.html)*"
      ]
    },
    {
      "cell_type": "code",
      "metadata": {
        "id": "vPwOOICyQFDK",
        "colab_type": "code",
        "colab": {}
      },
      "source": [
        "# write your code here\n",
        "trans_standard_X_train, trans_standard_X_val, trans_standard_X_test = np.split(trans_standard_X, [int(trans_standard_X.shape[0] * 0.8), \\\n",
        "                                                                                                  int(trans_standard_X.shape[0] * 0.9)])"
      ],
      "execution_count": null,
      "outputs": []
    },
    {
      "cell_type": "markdown",
      "metadata": {
        "id": "qzZUsqygt0Zu",
        "colab_type": "text"
      },
      "source": [
        "## **(e) Creating and Fitting a NEW Multiple Linear Regression Model**\n",
        "\n",
        "Create a NEW Multiple Linear Regression model called `trans_model`, train it on `trans_standard_X_train` and `trans_standard_y_train`, and print the weights and bias.\n",
        "\n",
        "*Hint: If you are unsure how to perform these tasks, try reading the documentation for sklearn's [LinearRegression](https://scikit-learn.org/stable/modules/generated/sklearn.linear_model.LinearRegression.html) class.*"
      ]
    },
    {
      "cell_type": "code",
      "metadata": {
        "id": "HeyjZLF1QKjY",
        "colab_type": "code",
        "colab": {
          "base_uri": "https://localhost:8080/",
          "height": 68
        },
        "outputId": "b3b77aac-05e2-44ce-cec7-94eea25ae6c9"
      },
      "source": [
        "# write your code here\n",
        "trans_model = LinearRegression()\n",
        "trans_model.fit(trans_standard_X_train, y_train)\n",
        "weights = trans_model.coef_\n",
        "bias = trans_model.intercept_\n",
        "print(weights)\n",
        "print(bias)"
      ],
      "execution_count": null,
      "outputs": [
        {
          "output_type": "stream",
          "text": [
            "[ 2.99908085  3.96883154  2.02035083  0.0252529  -0.02274943  5.99554031\n",
            " -4.99659815]\n",
            "30.001580081441045\n"
          ],
          "name": "stdout"
        }
      ]
    },
    {
      "cell_type": "markdown",
      "metadata": {
        "id": "Ir7QbRrsck1y",
        "colab_type": "text"
      },
      "source": [
        "## **(f) Giving the Y-hat Equation**\n",
        "\n",
        "Based on the weights and bias you recieved from your new Linear Regression model, write a NEW equation for $\\hat{Y}$ in $\\LaTeX$. Round your weights to two decimal places.\n",
        "\n",
        "*Hint: To find out how to write $\\hat{Y}$ in $\\LaTeX$, double click on this text box!*"
      ]
    },
    {
      "cell_type": "markdown",
      "metadata": {
        "id": "AlHl-jDYcnY_",
        "colab_type": "text"
      },
      "source": [
        "Write a $\\LaTeX$ statement here.\n",
        "\n",
        "$\\hat{Y} = 3.0X_1 + 3.97X_1^2 + 2.02X_1^3 + 0.03X_1^4 - 0.02X_1^5 + 6.0X_2 - 4.0X_3 + 30.00$"
      ]
    },
    {
      "cell_type": "markdown",
      "metadata": {
        "id": "97d7CPpnT9BA",
        "colab_type": "text"
      },
      "source": [
        "If you fit your model correctly, you should notice that the weights for $X_1^4$ and $X_1^5$ round to 0! This likely means that $X_1$ has only a cubic relationship to $Y$, and not any degree higher. To verify that, let's find the Train and Val MSE again to see if it's any better with our transformed data. If they're sufficiently low, we can infer that our model is an accurate one, and that having cubic behavior is an accurate assessment."
      ]
    },
    {
      "cell_type": "markdown",
      "metadata": {
        "id": "ejeTUC3qegGl",
        "colab_type": "text"
      },
      "source": [
        "## **(g) Finding Train and Val MSE**\n",
        "\n",
        "Find and print the Mean Squared Error (MSE) for `trans_model`'s prediction on the transformed, standardized Train set, as well as the MSE for `trans_model`'s prediction on the transformed, standardized Val set.\n",
        "\n",
        "*Hint: If you are unsure how to perform these tasks, try reading the documentation for sklearn's [mean_squared_error](https://scikit-learn.org/stable/modules/generated/sklearn.metrics.mean_squared_error.html) function.*"
      ]
    },
    {
      "cell_type": "code",
      "metadata": {
        "id": "9byPmRwgRumi",
        "colab_type": "code",
        "colab": {
          "base_uri": "https://localhost:8080/",
          "height": 51
        },
        "outputId": "753bbc83-0d86-41f6-efad-f8874f525e54"
      },
      "source": [
        "# write your code here\n",
        "y_train_pred = trans_model.predict(trans_standard_X_train)\n",
        "print(mean_squared_error(y_train, y_train_pred))\n",
        "\n",
        "y_val_pred = trans_model.predict(trans_standard_X_val)\n",
        "print(mean_squared_error(y_val, y_val_pred))"
      ],
      "execution_count": null,
      "outputs": [
        {
          "output_type": "stream",
          "text": [
            "3.993058530084894\n",
            "3.9809519454123583\n"
          ],
          "name": "stdout"
        }
      ]
    },
    {
      "cell_type": "markdown",
      "metadata": {
        "id": "YchxsyxKU-i-",
        "colab_type": "text"
      },
      "source": [
        "If you've done everything right up until this point, you should find that the MSE's are much better than before! This is promising, and means that we have likely found a much better relationship between our features and our label."
      ]
    },
    {
      "cell_type": "markdown",
      "metadata": {
        "id": "GNu20Sy8deWD",
        "colab_type": "text"
      },
      "source": [
        "---\n",
        "\n",
        "# [Optional Challenge] Problem 3: LASSO Regression\n",
        "\n",
        "*The following question is an optional challenge for assignment T4.*\n",
        "\n",
        "As we talked about in lecture, LASSO regression is a special type of multiple linear regression that penalizes high weights. How much high weights are penalized is based on a **hyperparameter** called **alpha**. Remember that a hyperparameter is something that we, the user, sets for a model, NOT something that the model learns on its own (those are called *parameters*). We're going to be using LASSO in this investigation for two reasons:\n",
        "\n",
        "* We want to see if there are better MSE's that arise from different values of alpha.\n",
        "* We want to use it to evaluate feature importance."
      ]
    },
    {
      "cell_type": "markdown",
      "metadata": {
        "id": "s2OBOQtltUwM",
        "colab_type": "text"
      },
      "source": [
        "## **(a) Creating and Fitting a LASSO Model With Default Alpha (1.0)**\n",
        "\n",
        "Create a LASSO Regression model called `lasso`, with the default alpha value of 1.0, train it on `trans_standard_X_train` and `trans_standard_y_train`, and print the weights and bias.\n",
        "\n",
        "*Hint: If you are unsure how to perform these tasks, try reading the documentation for sklearn's [Lasso](https://scikit-learn.org/stable/modules/generated/sklearn.linear_model.Lasso.html) class.*"
      ]
    },
    {
      "cell_type": "code",
      "metadata": {
        "id": "nMs6rj-xdjM5",
        "colab_type": "code",
        "colab": {
          "base_uri": "https://localhost:8080/",
          "height": 68
        },
        "outputId": "08284565-ef31-49f3-93d6-d38dea43e08a"
      },
      "source": [
        "# write your code here\n",
        "lasso = sklearn.linear_model.Lasso()\n",
        "lasso.fit(trans_standard_X_train, y_train)\n",
        "weights = lasso.coef_\n",
        "bias = lasso.intercept_\n",
        "print(weights)\n",
        "print(bias)"
      ],
      "execution_count": null,
      "outputs": [
        {
          "output_type": "stream",
          "text": [
            "[ 2.38393034  3.35531207  1.91412245  0.          0.          4.9879278\n",
            " -3.98385991]\n",
            "30.006176402678996\n"
          ],
          "name": "stdout"
        }
      ]
    },
    {
      "cell_type": "markdown",
      "metadata": {
        "id": "7w7sU1KbYQBK",
        "colab_type": "text"
      },
      "source": [
        "You should notice that we get slightly different weights this way. Let's find the train and val MSE's to see if these different weights make any difference."
      ]
    },
    {
      "cell_type": "markdown",
      "metadata": {
        "id": "cYC7Itksfpz_",
        "colab_type": "text"
      },
      "source": [
        "## **(b) Finding Train and Test MSE**\n",
        "\n",
        "Find and print the Mean Squared Error (MSE) for `lasso`'s prediction on the transformed, standardized Train set, as well as the MSE for `lasso`'s prediction on the transformed, standardized Val set.\n",
        "\n",
        "*Hint: If you are unsure how to perform these tasks, try reading the documentation for sklearn's [mean_squared_error](https://scikit-learn.org/stable/modules/generated/sklearn.metrics.mean_squared_error.html) function.*"
      ]
    },
    {
      "cell_type": "code",
      "metadata": {
        "id": "vZc4-vVyforr",
        "colab_type": "code",
        "colab": {
          "base_uri": "https://localhost:8080/",
          "height": 51
        },
        "outputId": "4bbf0152-2247-41b6-cad2-bad6c30565d9"
      },
      "source": [
        "# write your code here\n",
        "y_train_pred = lasso.predict(trans_standard_X_train)\n",
        "print(mean_squared_error(y_train, y_train_pred))\n",
        "\n",
        "y_val_pred = lasso.predict(trans_standard_X_val)\n",
        "print(mean_squared_error(y_val, y_val_pred))"
      ],
      "execution_count": null,
      "outputs": [
        {
          "output_type": "stream",
          "text": [
            "7.352974450231854\n",
            "7.321259272993378\n"
          ],
          "name": "stdout"
        }
      ]
    },
    {
      "cell_type": "markdown",
      "metadata": {
        "id": "tWaYWu_zYfN8",
        "colab_type": "text"
      },
      "source": [
        "If you did everything right, you should find that both MSE's are somewhat worse than they were in Problem 2(g). Let's see if this trend continues as alpha increases."
      ]
    },
    {
      "cell_type": "markdown",
      "metadata": {
        "id": "JnD5A6FAfBul",
        "colab_type": "text"
      },
      "source": [
        "## **(c) Trying Various Alpha Values**\n",
        "\n",
        "Try alpha values from 0 to 10 (inclusive), stepping in increments of 0.1, obtaining the weights, Train MSE, and Val MSE for each alpha value tried.\n",
        "\n",
        "Store this information in a new numpy array called `lasso_data`. Column 0 should be the alpha values, columns 1 through 7 (inclusive) should be the obtained weights, and columns 8 and 9 should be the Train and Val MSE's respectively.\n",
        "\n",
        "You might see the following UserWarning when you run your code:\n",
        "\n",
        "```\n",
        "/usr/local/lib/python3.6/dist-packages/sklearn/linear_model/_coordinate_descent.py:476: UserWarning: Coordinate descent with no regularization may lead to unexpected results and is discouraged.\n",
        "  positive)\n",
        "```\n",
        "\n",
        "Don't worry about this, your code should run fine despite this warning.\n",
        "\n",
        "*Hint: Generate the array `lasso_data` first, with all the alpha values as a column and the other 10 values being filled with zeroes.*"
      ]
    },
    {
      "cell_type": "code",
      "metadata": {
        "id": "Yx8RW3X7f2XJ",
        "colab_type": "code",
        "colab": {}
      },
      "source": [
        "# write your code here\n",
        "lasso_data = np.arange(0, 10.1, 0.1).reshape((101, 1))\n",
        "lasso_data = np.hstack((lasso_data, np.zeros((101, 9))))\n",
        "\n",
        "for row in lasso_data:\n",
        "  alpha = row[0]\n",
        "  \n",
        "  lasso = sklearn.linear_model.Lasso(alpha=alpha)\n",
        "  lasso.fit(trans_standard_X_train, y_train)\n",
        "  row[1:8] = lasso.coef_\n",
        "  \n",
        "  y_train_pred = lasso.predict(trans_standard_X_train)\n",
        "  row[8] = mean_squared_error(y_train, y_train_pred)\n",
        "\n",
        "  y_val_pred = lasso.predict(trans_standard_X_val)\n",
        "  row[9] = mean_squared_error(y_val, y_val_pred)"
      ],
      "execution_count": null,
      "outputs": []
    },
    {
      "cell_type": "markdown",
      "metadata": {
        "id": "HxfBnli5knyc",
        "colab_type": "text"
      },
      "source": [
        "## **(d) Plotting a LASSO Path**\n",
        "\n",
        "Plot a line graph with alpha on the x-axis, and weight on the y-axis, with a line for each of the features from our transformed X.\n",
        "\n",
        "As before, show the graph and give it a descriptive title and axes labels. This time, also give your graph a legend indicating which line is which feature.\n",
        "\n",
        "Also, write a text answer describing the LASSO path and any information you can glean from it. Consider the slopes of the paths, what value they converge to, which feature converges last, etc...\n",
        "\n",
        "*Hint: To plot multiple lines on one set of axes, simply call `plt.plot()` multiple times before calling `plt.show()`. To have a legend, pass in the parameter `label` to each call to `plt.plot()`, and call `plt.legend()` before you show the graph.*"
      ]
    },
    {
      "cell_type": "code",
      "metadata": {
        "id": "UBqQRTgFgtWP",
        "colab_type": "code",
        "colab": {
          "base_uri": "https://localhost:8080/",
          "height": 295
        },
        "outputId": "d8dc1214-8cf2-46dc-dffb-023ed1f958f6"
      },
      "source": [
        "# write your code here\n",
        "plt.plot(lasso_data[:, 0], lasso_data[:, 1], label=\"X1\")\n",
        "plt.plot(lasso_data[:, 0], lasso_data[:, 2], label=\"X1^2\")\n",
        "plt.plot(lasso_data[:, 0], lasso_data[:, 3], label=\"X1^3\")\n",
        "plt.plot(lasso_data[:, 0], lasso_data[:, 4], label=\"X1^4\")\n",
        "plt.plot(lasso_data[:, 0], lasso_data[:, 5], label=\"X1^5\")\n",
        "plt.plot(lasso_data[:, 0], lasso_data[:, 6], label=\"X2\")\n",
        "plt.plot(lasso_data[:, 0], lasso_data[:, 7], label=\"X3\")\n",
        "plt.xlabel(\"alpha\")\n",
        "plt.ylabel(\"weights\")\n",
        "plt.title(\"LASSO Path for Disease Q features\")\n",
        "plt.legend()\n",
        "plt.show()"
      ],
      "execution_count": null,
      "outputs": [
        {
          "output_type": "display_data",
          "data": {
            "image/png": "[encoded data removed]",
            "text/plain": [
              "<Figure size 432x288 with 1 Axes>"
            ]
          },
          "metadata": {
            "tags": [],
            "needs_background": "light"
          }
        }
      ]
    },
    {
      "cell_type": "markdown",
      "metadata": {
        "id": "IMLmnXuSczOM",
        "colab_type": "text"
      },
      "source": [
        "*Write your text answer here*\n",
        "\n",
        "*Solution: This LASSO path shows us some really interesting behavior. For one, as we expect, all weights eventually reach 0 as alpha increases. This is because as alpha increases, we so heavily penalize high weights that all weights have to be 0. Beyond that, however, we see that different weights travel to 0 at different rates, and that the features that have a higher weight to begin take longer. This makes sense, as having a higher weight likely means the feature is of greater importance. Finally, we can see that $X_1^3$ is the last to reach 0, even though it has the smallest (non-zero) initial weight of the entire $X_1$ transformation group. This makes sense, as even though it might technically have a smaller weight, this means that $X_1$ is extermely cubic in its behavior, and that the lower-degree behavior is dwarfed by this cubic behavior. Given what $X_1$ represented, the amount of people coming into the population region, it makes sense. The more people that come in, the more that they spread the disease or bring it from elsewhere, and the amount infected skyrockets.*"
      ]
    },
    {
      "cell_type": "markdown",
      "metadata": {
        "id": "lmSgXmBotkol",
        "colab_type": "text"
      },
      "source": [
        "## **(e) Plotting Train and Val MSE**\n",
        "\n",
        "Plot Train and Val MSE on one graph against different values of alpha. As before, show the graph, give it a descriptive title and axes labels, and give your graph a legend indicating which line is which MSE."
      ]
    },
    {
      "cell_type": "code",
      "metadata": {
        "id": "D4vXMY6nnJkQ",
        "colab_type": "code",
        "colab": {
          "base_uri": "https://localhost:8080/",
          "height": 295
        },
        "outputId": "7dcc9a82-82d8-4f6e-883a-3d7b0cd1c1d7"
      },
      "source": [
        "# write your code here\n",
        "plt.plot(lasso_data[:, 0], lasso_data[:, 8], label=\"Train MSE\")\n",
        "plt.plot(lasso_data[:, 0], lasso_data[:, 9], label=\"Val MSE\")\n",
        "plt.xlabel(\"alpha\")\n",
        "plt.ylabel(\"Mean Squared Error\")\n",
        "plt.title(\"Train and Val MSE vs. alpha\")\n",
        "plt.legend()\n",
        "plt.show()"
      ],
      "execution_count": null,
      "outputs": [
        {
          "output_type": "display_data",
          "data": {
            "image/png": "[encoded data removed]",
            "text/plain": [
              "<Figure size 432x288 with 1 Axes>"
            ]
          },
          "metadata": {
            "tags": [],
            "needs_background": "light"
          }
        }
      ]
    },
    {
      "cell_type": "markdown",
      "metadata": {
        "id": "sp5FACMdcMq8",
        "colab_type": "text"
      },
      "source": [
        "You should notice that Train and Val MSE are closely linked! This is not too unusual. You'll also notice that the lowest MSE seems to be when alpha is equal to 0! This makes sense, based on what we noticed before when fitting LASSO with alpha set to 1.0."
      ]
    },
    {
      "cell_type": "markdown",
      "metadata": {
        "id": "uB1eArcyvCR_",
        "colab_type": "text"
      },
      "source": [
        "## **(f) Final LASSO Model**\n",
        "\n",
        "Given the information obtained from the MSE graph, pick an alpha value as your ideal value and justify your choice. Make one final LASSO model, passing in your ideal alpha value. Fit it on the transformed, standardized Train set, and print the weights and bias.\n",
        "\n",
        "*Hint: The ideal alpha will most likely not be 0! 0 has the lowest MSE, but there are other benefits to a higher alpha that might be worth a slightly higher MSE.*"
      ]
    },
    {
      "cell_type": "code",
      "metadata": {
        "id": "PKKLsjD2o1C6",
        "colab_type": "code",
        "colab": {
          "base_uri": "https://localhost:8080/",
          "height": 68
        },
        "outputId": "f926d5b5-2acc-41e1-a8e2-1d23526fa41a"
      },
      "source": [
        "# write your code here\n",
        "lasso = sklearn.linear_model.Lasso(alpha=0.5)\n",
        "lasso.fit(trans_standard_X_train, y_train)\n",
        "weights = lasso.coef_\n",
        "bias = lasso.intercept_\n",
        "print(weights)\n",
        "print(bias)"
      ],
      "execution_count": null,
      "outputs": [
        {
          "output_type": "stream",
          "text": [
            "[ 2.69282439  3.67160043  1.95898924  0.          0.          5.49173139\n",
            " -4.49022685]\n",
            "30.00388024520335\n"
          ],
          "name": "stdout"
        }
      ]
    },
    {
      "cell_type": "markdown",
      "metadata": {
        "id": "Dtf1G1MF3uXf",
        "colab_type": "text"
      },
      "source": [
        "*Write your text answer here*\n",
        "\n",
        "*Solution: The ideal alpha value is 0.5, since at that point you get the best trade-off of regularization and MSE.*"
      ]
    },
    {
      "cell_type": "markdown",
      "metadata": {
        "id": "bsd2XzvmgtjX",
        "colab_type": "text"
      },
      "source": [
        "## **(g) Finding Train, Val, and Test MSE**\n",
        "\n",
        "Find and print the Train and Val MSE one last time, this time with this final LASSO model. Also find the Test MSE (notice that we only looked at the Test Set *once*)!"
      ]
    },
    {
      "cell_type": "code",
      "metadata": {
        "id": "8Mn3wlzpqL0B",
        "colab_type": "code",
        "colab": {
          "base_uri": "https://localhost:8080/",
          "height": 68
        },
        "outputId": "dc664dda-dfa1-4919-ae4d-8d5f3b21da16"
      },
      "source": [
        "# write your code here\n",
        "y_train_pred = lasso.predict(trans_standard_X_train)\n",
        "print(mean_squared_error(y_train, y_train_pred))\n",
        "\n",
        "y_val_pred = lasso.predict(trans_standard_X_val)\n",
        "print(mean_squared_error(y_val, y_val_pred))\n",
        "\n",
        "y_test_pred = lasso.predict(trans_standard_X_test)\n",
        "print(mean_squared_error(y_test, y_test_pred))"
      ],
      "execution_count": null,
      "outputs": [
        {
          "output_type": "stream",
          "text": [
            "4.832896400435875\n",
            "4.8207688215430755\n",
            "4.8574348218562955\n"
          ],
          "name": "stdout"
        }
      ]
    },
    {
      "cell_type": "markdown",
      "metadata": {
        "id": "6MiYt36HfCMP",
        "colab_type": "text"
      },
      "source": [
        "You'll notice that the Test MSE is slightly higher, but not incredibly so. This is likely due to just minor deviations in the data, and is nothing to worry about."
      ]
    },
    {
      "cell_type": "markdown",
      "metadata": {
        "id": "jLxjcykOfPiQ",
        "colab_type": "text"
      },
      "source": [
        "## **(h) Giving the Y-hat Equation**\n",
        "\n",
        "Finally, based on the weights and bias you recieved from your final LASSO model, write an equation for $\\hat{Y}$ in $\\LaTeX$. Round your weights to two decimal places."
      ]
    },
    {
      "cell_type": "markdown",
      "metadata": {
        "id": "1y_095B8fh2F",
        "colab_type": "text"
      },
      "source": [
        "Write a $\\LaTeX$ statement here.\n",
        "\n",
        "$\\hat{Y} = 2.69X_1 + 3.67X_1^2 + 1.96X_1^3 + 5.49X_2 - 4.49X_3 + 30.00$"
      ]
    }
  ]
}