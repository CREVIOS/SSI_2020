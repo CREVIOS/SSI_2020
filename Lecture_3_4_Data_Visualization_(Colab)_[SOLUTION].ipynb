{
  "nbformat": 4,
  "nbformat_minor": 0,
  "metadata": {
    "colab": {
      "name": "Lecture 3.4: Data Visualization (Colab) [SOLUTION]",
      "provenance": [],
      "collapsed_sections": [
        "DZhsWFz0q01w"
      ],
      "toc_visible": true,
      "include_colab_link": true
    },
    "kernelspec": {
      "name": "python3",
      "display_name": "Python 3"
    }
  },
  "cells": [
    {
      "cell_type": "markdown",
      "metadata": {
        "id": "view-in-github",
        "colab_type": "text"
      },
      "source": [
        "<a href=\"https://colab.research.google.com/github/CREVIOS/SSI_2020/blob/master/Lecture_3_4_Data_Visualization_(Colab)_%5BSOLUTION%5D.ipynb\" target=\"_parent\"><img src=\"https://colab.research.google.com/assets/colab-badge.svg\" alt=\"Open In Colab\"/></a>"
      ]
    },
    {
      "cell_type": "markdown",
      "metadata": {
        "id": "qAPyPR4blHZH",
        "colab_type": "text"
      },
      "source": [
        "# 3.4 Data Visualization\n",
        "Let's put our data manipulation knowledge to use and learn how to visualize our data!"
      ]
    },
    {
      "cell_type": "markdown",
      "metadata": {
        "id": "DZhsWFz0q01w",
        "colab_type": "text"
      },
      "source": [
        "# Setup\n",
        "Let's continue with the weather dataset from last lecture. Here, we do the setup you did last lecture for you. Make sure to run this cell before moving on."
      ]
    },
    {
      "cell_type": "code",
      "metadata": {
        "id": "17ERTD32fzy-",
        "colab_type": "code",
        "colab": {
          "base_uri": "https://localhost:8080/",
          "height": 597
        },
        "outputId": "9e70ca9b-1f95-49e1-e0ec-e42cad6a5718"
      },
      "source": [
        "import pandas as pd\n",
        "\n",
        "WEATHER_DATA_URL = 'https://raw.githubusercontent.com/alextsun/ssi-ds-bootcamp-2020/master/Week3/weatherHistory.csv'\n",
        "\n",
        "df = pd.read_csv(WEATHER_DATA_URL)\n",
        "display(df)"
      ],
      "execution_count": null,
      "outputs": [
        {
          "output_type": "display_data",
          "data": {
            "text/html": [
              "<div>\n",
              "<style scoped>\n",
              "    .dataframe tbody tr th:only-of-type {\n",
              "        vertical-align: middle;\n",
              "    }\n",
              "\n",
              "    .dataframe tbody tr th {\n",
              "        vertical-align: top;\n",
              "    }\n",
              "\n",
              "    .dataframe thead th {\n",
              "        text-align: right;\n",
              "    }\n",
              "</style>\n",
              "<table border=\"1\" class=\"dataframe\">\n",
              "  <thead>\n",
              "    <tr style=\"text-align: right;\">\n",
              "      <th></th>\n",
              "      <th>Formatted Date</th>\n",
              "      <th>Summary</th>\n",
              "      <th>Precip Type</th>\n",
              "      <th>Temperature (C)</th>\n",
              "      <th>Apparent Temperature (C)</th>\n",
              "      <th>Humidity</th>\n",
              "      <th>Wind Speed (km/h)</th>\n",
              "      <th>Wind Bearing (degrees)</th>\n",
              "      <th>Visibility (km)</th>\n",
              "      <th>Loud Cover</th>\n",
              "      <th>Pressure (millibars)</th>\n",
              "      <th>Daily Summary</th>\n",
              "    </tr>\n",
              "  </thead>\n",
              "  <tbody>\n",
              "    <tr>\n",
              "      <th>0</th>\n",
              "      <td>2006-04-01 00:00:00.000 +0200</td>\n",
              "      <td>Partly Cloudy</td>\n",
              "      <td>rain</td>\n",
              "      <td>9.472222</td>\n",
              "      <td>7.388889</td>\n",
              "      <td>0.89</td>\n",
              "      <td>14.1197</td>\n",
              "      <td>251.0</td>\n",
              "      <td>15.8263</td>\n",
              "      <td>0.0</td>\n",
              "      <td>1015.13</td>\n",
              "      <td>Partly cloudy throughout the day.</td>\n",
              "    </tr>\n",
              "    <tr>\n",
              "      <th>1</th>\n",
              "      <td>2006-04-01 01:00:00.000 +0200</td>\n",
              "      <td>Partly Cloudy</td>\n",
              "      <td>rain</td>\n",
              "      <td>9.355556</td>\n",
              "      <td>7.227778</td>\n",
              "      <td>0.86</td>\n",
              "      <td>14.2646</td>\n",
              "      <td>259.0</td>\n",
              "      <td>15.8263</td>\n",
              "      <td>0.0</td>\n",
              "      <td>1015.63</td>\n",
              "      <td>Partly cloudy throughout the day.</td>\n",
              "    </tr>\n",
              "    <tr>\n",
              "      <th>2</th>\n",
              "      <td>2006-04-01 02:00:00.000 +0200</td>\n",
              "      <td>Mostly Cloudy</td>\n",
              "      <td>rain</td>\n",
              "      <td>9.377778</td>\n",
              "      <td>9.377778</td>\n",
              "      <td>0.89</td>\n",
              "      <td>3.9284</td>\n",
              "      <td>204.0</td>\n",
              "      <td>14.9569</td>\n",
              "      <td>0.0</td>\n",
              "      <td>1015.94</td>\n",
              "      <td>Partly cloudy throughout the day.</td>\n",
              "    </tr>\n",
              "    <tr>\n",
              "      <th>3</th>\n",
              "      <td>2006-04-01 03:00:00.000 +0200</td>\n",
              "      <td>Partly Cloudy</td>\n",
              "      <td>rain</td>\n",
              "      <td>8.288889</td>\n",
              "      <td>5.944444</td>\n",
              "      <td>0.83</td>\n",
              "      <td>14.1036</td>\n",
              "      <td>269.0</td>\n",
              "      <td>15.8263</td>\n",
              "      <td>0.0</td>\n",
              "      <td>1016.41</td>\n",
              "      <td>Partly cloudy throughout the day.</td>\n",
              "    </tr>\n",
              "    <tr>\n",
              "      <th>4</th>\n",
              "      <td>2006-04-01 04:00:00.000 +0200</td>\n",
              "      <td>Mostly Cloudy</td>\n",
              "      <td>rain</td>\n",
              "      <td>8.755556</td>\n",
              "      <td>6.977778</td>\n",
              "      <td>0.83</td>\n",
              "      <td>11.0446</td>\n",
              "      <td>259.0</td>\n",
              "      <td>15.8263</td>\n",
              "      <td>0.0</td>\n",
              "      <td>1016.51</td>\n",
              "      <td>Partly cloudy throughout the day.</td>\n",
              "    </tr>\n",
              "    <tr>\n",
              "      <th>...</th>\n",
              "      <td>...</td>\n",
              "      <td>...</td>\n",
              "      <td>...</td>\n",
              "      <td>...</td>\n",
              "      <td>...</td>\n",
              "      <td>...</td>\n",
              "      <td>...</td>\n",
              "      <td>...</td>\n",
              "      <td>...</td>\n",
              "      <td>...</td>\n",
              "      <td>...</td>\n",
              "      <td>...</td>\n",
              "    </tr>\n",
              "    <tr>\n",
              "      <th>96448</th>\n",
              "      <td>2016-09-09 19:00:00.000 +0200</td>\n",
              "      <td>Partly Cloudy</td>\n",
              "      <td>rain</td>\n",
              "      <td>26.016667</td>\n",
              "      <td>26.016667</td>\n",
              "      <td>0.43</td>\n",
              "      <td>10.9963</td>\n",
              "      <td>31.0</td>\n",
              "      <td>16.1000</td>\n",
              "      <td>0.0</td>\n",
              "      <td>1014.36</td>\n",
              "      <td>Partly cloudy starting in the morning.</td>\n",
              "    </tr>\n",
              "    <tr>\n",
              "      <th>96449</th>\n",
              "      <td>2016-09-09 20:00:00.000 +0200</td>\n",
              "      <td>Partly Cloudy</td>\n",
              "      <td>rain</td>\n",
              "      <td>24.583333</td>\n",
              "      <td>24.583333</td>\n",
              "      <td>0.48</td>\n",
              "      <td>10.0947</td>\n",
              "      <td>20.0</td>\n",
              "      <td>15.5526</td>\n",
              "      <td>0.0</td>\n",
              "      <td>1015.16</td>\n",
              "      <td>Partly cloudy starting in the morning.</td>\n",
              "    </tr>\n",
              "    <tr>\n",
              "      <th>96450</th>\n",
              "      <td>2016-09-09 21:00:00.000 +0200</td>\n",
              "      <td>Partly Cloudy</td>\n",
              "      <td>rain</td>\n",
              "      <td>22.038889</td>\n",
              "      <td>22.038889</td>\n",
              "      <td>0.56</td>\n",
              "      <td>8.9838</td>\n",
              "      <td>30.0</td>\n",
              "      <td>16.1000</td>\n",
              "      <td>0.0</td>\n",
              "      <td>1015.66</td>\n",
              "      <td>Partly cloudy starting in the morning.</td>\n",
              "    </tr>\n",
              "    <tr>\n",
              "      <th>96451</th>\n",
              "      <td>2016-09-09 22:00:00.000 +0200</td>\n",
              "      <td>Partly Cloudy</td>\n",
              "      <td>rain</td>\n",
              "      <td>21.522222</td>\n",
              "      <td>21.522222</td>\n",
              "      <td>0.60</td>\n",
              "      <td>10.5294</td>\n",
              "      <td>20.0</td>\n",
              "      <td>16.1000</td>\n",
              "      <td>0.0</td>\n",
              "      <td>1015.95</td>\n",
              "      <td>Partly cloudy starting in the morning.</td>\n",
              "    </tr>\n",
              "    <tr>\n",
              "      <th>96452</th>\n",
              "      <td>2016-09-09 23:00:00.000 +0200</td>\n",
              "      <td>Partly Cloudy</td>\n",
              "      <td>rain</td>\n",
              "      <td>20.438889</td>\n",
              "      <td>20.438889</td>\n",
              "      <td>0.61</td>\n",
              "      <td>5.8765</td>\n",
              "      <td>39.0</td>\n",
              "      <td>15.5204</td>\n",
              "      <td>0.0</td>\n",
              "      <td>1016.16</td>\n",
              "      <td>Partly cloudy starting in the morning.</td>\n",
              "    </tr>\n",
              "  </tbody>\n",
              "</table>\n",
              "<p>96453 rows × 12 columns</p>\n",
              "</div>"
            ],
            "text/plain": [
              "                      Formatted Date  ...                           Daily Summary\n",
              "0      2006-04-01 00:00:00.000 +0200  ...       Partly cloudy throughout the day.\n",
              "1      2006-04-01 01:00:00.000 +0200  ...       Partly cloudy throughout the day.\n",
              "2      2006-04-01 02:00:00.000 +0200  ...       Partly cloudy throughout the day.\n",
              "3      2006-04-01 03:00:00.000 +0200  ...       Partly cloudy throughout the day.\n",
              "4      2006-04-01 04:00:00.000 +0200  ...       Partly cloudy throughout the day.\n",
              "...                              ...  ...                                     ...\n",
              "96448  2016-09-09 19:00:00.000 +0200  ...  Partly cloudy starting in the morning.\n",
              "96449  2016-09-09 20:00:00.000 +0200  ...  Partly cloudy starting in the morning.\n",
              "96450  2016-09-09 21:00:00.000 +0200  ...  Partly cloudy starting in the morning.\n",
              "96451  2016-09-09 22:00:00.000 +0200  ...  Partly cloudy starting in the morning.\n",
              "96452  2016-09-09 23:00:00.000 +0200  ...  Partly cloudy starting in the morning.\n",
              "\n",
              "[96453 rows x 12 columns]"
            ]
          },
          "metadata": {
            "tags": []
          }
        }
      ]
    },
    {
      "cell_type": "markdown",
      "metadata": {
        "id": "jsP1AiqAYyQy",
        "colab_type": "text"
      },
      "source": [
        "# Time Series\n",
        "\n",
        "## Background about Time Series\n",
        "Often we will want to track certain data over a period of time. We call a dataset like this a time series.\n",
        "\n",
        "You have likely seen time series datasets whether it be stock prices over a month, test scores over a decade, or maybe you've even curated your own! Plotting a time series can tell us about how our data relates to time in a way that's both easy to understand and communicate to others.\n",
        "\n",
        "As you may have already noticed, the weather dataset we have here is a time series. One interesting thing to look at may be how temperature has changed over the course of time, with the total period of time represented here being about 10 years."
      ]
    },
    {
      "cell_type": "markdown",
      "metadata": {
        "id": "j-BqTIAPh9IO",
        "colab_type": "text"
      },
      "source": [
        "## Date sorting for time series plotting\n",
        "\n",
        "When plotting a time series, it is important to make sure that your dataset is sorted by date. This may not be the case. In fact, although it may seem that the weather dataset provided is sorted by date, it is not exactly.\n",
        "\n",
        "Thus, the first step to plotting this data is to sort the values (using the skills you learned from last lecture) based on the date. You will want to set the `inplace` parameter to `True` and make sure to sort in descending order (by modifying the `ascending` parameter).\n",
        "\n",
        "Here is the [documentation for the `sort_values()` pandas function.](https://pandas.pydata.org/pandas-docs/stable/reference/api/pandas.DataFrame.sort_values.html)\n",
        "\n",
        "You may have to use the `pd.to_datetime()` function to create a new column called `Date`. This will convert the `Formatted Date` column that has date representations to the formatted date representation that can be used for sorting. Then, call `df.sort_values()` to sort the dataframe using this new `Date` column, and later plot the data.\n",
        "\n",
        "You can create a new column by doing the following:\n",
        "\n",
        "`df['New Col'] = new col data`"
      ]
    },
    {
      "cell_type": "markdown",
      "metadata": {
        "id": "q3a8tS7BiUXI",
        "colab_type": "text"
      },
      "source": [
        "## Test your skills.\n",
        "\n",
        "Sort the weather dataframe using `df.sort_values()`:\n",
        "* Create a `\"Date\"` column from `\"Formatted Date\"` (Note: when you use `pd.to_datetime()`, make sure to pass in the parameter `utc` and set it to `True`. This will convert everything into the same time zone, which is important for comparing dates)\n",
        "* Sort by the `\"Date\"` column\n",
        "* Set the `inplace` parameter to `True`\n",
        "* Set the `ascending` parameter accordingly (what order of time makes the most sense?)"
      ]
    },
    {
      "cell_type": "code",
      "metadata": {
        "id": "BJIcw8HtiSt0",
        "colab_type": "code",
        "colab": {
          "base_uri": "https://localhost:8080/",
          "height": 960
        },
        "outputId": "5d343f3a-ca44-4e4f-f097-527256ddb4f7"
      },
      "source": [
        "df['Date'] = pd.to_datetime(df[\"Formatted Date\"],utc=True)\n",
        "df.sort_values(by=['Date'], inplace=True, ascending=True)\n",
        "display(df)"
      ],
      "execution_count": null,
      "outputs": [
        {
          "output_type": "display_data",
          "data": {
            "text/html": [
              "<div>\n",
              "<style scoped>\n",
              "    .dataframe tbody tr th:only-of-type {\n",
              "        vertical-align: middle;\n",
              "    }\n",
              "\n",
              "    .dataframe tbody tr th {\n",
              "        vertical-align: top;\n",
              "    }\n",
              "\n",
              "    .dataframe thead th {\n",
              "        text-align: right;\n",
              "    }\n",
              "</style>\n",
              "<table border=\"1\" class=\"dataframe\">\n",
              "  <thead>\n",
              "    <tr style=\"text-align: right;\">\n",
              "      <th></th>\n",
              "      <th>Formatted Date</th>\n",
              "      <th>Summary</th>\n",
              "      <th>Precip Type</th>\n",
              "      <th>Temperature (C)</th>\n",
              "      <th>Apparent Temperature (C)</th>\n",
              "      <th>Humidity</th>\n",
              "      <th>Wind Speed (km/h)</th>\n",
              "      <th>Wind Bearing (degrees)</th>\n",
              "      <th>Visibility (km)</th>\n",
              "      <th>Loud Cover</th>\n",
              "      <th>Pressure (millibars)</th>\n",
              "      <th>Daily Summary</th>\n",
              "      <th>Date</th>\n",
              "      <th>Year</th>\n",
              "      <th>Month</th>\n",
              "    </tr>\n",
              "  </thead>\n",
              "  <tbody>\n",
              "    <tr>\n",
              "      <th>2880</th>\n",
              "      <td>2006-01-01 00:00:00.000 +0100</td>\n",
              "      <td>Partly Cloudy</td>\n",
              "      <td>rain</td>\n",
              "      <td>0.577778</td>\n",
              "      <td>-4.050000</td>\n",
              "      <td>0.89</td>\n",
              "      <td>17.1143</td>\n",
              "      <td>140.0</td>\n",
              "      <td>9.9820</td>\n",
              "      <td>0.0</td>\n",
              "      <td>1016.66</td>\n",
              "      <td>Mostly cloudy throughout the day.</td>\n",
              "      <td>2005-12-31 23:00:00+00:00</td>\n",
              "      <td>2005</td>\n",
              "      <td>12</td>\n",
              "    </tr>\n",
              "    <tr>\n",
              "      <th>2881</th>\n",
              "      <td>2006-01-01 01:00:00.000 +0100</td>\n",
              "      <td>Mostly Cloudy</td>\n",
              "      <td>rain</td>\n",
              "      <td>1.161111</td>\n",
              "      <td>-3.238889</td>\n",
              "      <td>0.85</td>\n",
              "      <td>16.6152</td>\n",
              "      <td>139.0</td>\n",
              "      <td>9.9015</td>\n",
              "      <td>0.0</td>\n",
              "      <td>1016.15</td>\n",
              "      <td>Mostly cloudy throughout the day.</td>\n",
              "      <td>2006-01-01 00:00:00+00:00</td>\n",
              "      <td>2006</td>\n",
              "      <td>1</td>\n",
              "    </tr>\n",
              "    <tr>\n",
              "      <th>2882</th>\n",
              "      <td>2006-01-01 02:00:00.000 +0100</td>\n",
              "      <td>Mostly Cloudy</td>\n",
              "      <td>rain</td>\n",
              "      <td>1.666667</td>\n",
              "      <td>-3.155556</td>\n",
              "      <td>0.82</td>\n",
              "      <td>20.2538</td>\n",
              "      <td>140.0</td>\n",
              "      <td>9.9015</td>\n",
              "      <td>0.0</td>\n",
              "      <td>1015.87</td>\n",
              "      <td>Mostly cloudy throughout the day.</td>\n",
              "      <td>2006-01-01 01:00:00+00:00</td>\n",
              "      <td>2006</td>\n",
              "      <td>1</td>\n",
              "    </tr>\n",
              "    <tr>\n",
              "      <th>2883</th>\n",
              "      <td>2006-01-01 03:00:00.000 +0100</td>\n",
              "      <td>Overcast</td>\n",
              "      <td>rain</td>\n",
              "      <td>1.711111</td>\n",
              "      <td>-2.194444</td>\n",
              "      <td>0.82</td>\n",
              "      <td>14.4900</td>\n",
              "      <td>140.0</td>\n",
              "      <td>9.9015</td>\n",
              "      <td>0.0</td>\n",
              "      <td>1015.56</td>\n",
              "      <td>Mostly cloudy throughout the day.</td>\n",
              "      <td>2006-01-01 02:00:00+00:00</td>\n",
              "      <td>2006</td>\n",
              "      <td>1</td>\n",
              "    </tr>\n",
              "    <tr>\n",
              "      <th>2884</th>\n",
              "      <td>2006-01-01 04:00:00.000 +0100</td>\n",
              "      <td>Mostly Cloudy</td>\n",
              "      <td>rain</td>\n",
              "      <td>1.183333</td>\n",
              "      <td>-2.744444</td>\n",
              "      <td>0.86</td>\n",
              "      <td>13.9426</td>\n",
              "      <td>134.0</td>\n",
              "      <td>9.9015</td>\n",
              "      <td>0.0</td>\n",
              "      <td>1014.98</td>\n",
              "      <td>Mostly cloudy throughout the day.</td>\n",
              "      <td>2006-01-01 03:00:00+00:00</td>\n",
              "      <td>2006</td>\n",
              "      <td>1</td>\n",
              "    </tr>\n",
              "    <tr>\n",
              "      <th>...</th>\n",
              "      <td>...</td>\n",
              "      <td>...</td>\n",
              "      <td>...</td>\n",
              "      <td>...</td>\n",
              "      <td>...</td>\n",
              "      <td>...</td>\n",
              "      <td>...</td>\n",
              "      <td>...</td>\n",
              "      <td>...</td>\n",
              "      <td>...</td>\n",
              "      <td>...</td>\n",
              "      <td>...</td>\n",
              "      <td>...</td>\n",
              "      <td>...</td>\n",
              "      <td>...</td>\n",
              "    </tr>\n",
              "    <tr>\n",
              "      <th>89728</th>\n",
              "      <td>2016-12-31 19:00:00.000 +0100</td>\n",
              "      <td>Mostly Cloudy</td>\n",
              "      <td>rain</td>\n",
              "      <td>0.488889</td>\n",
              "      <td>-2.644444</td>\n",
              "      <td>0.86</td>\n",
              "      <td>9.7566</td>\n",
              "      <td>167.0</td>\n",
              "      <td>8.0178</td>\n",
              "      <td>0.0</td>\n",
              "      <td>1020.03</td>\n",
              "      <td>Mostly cloudy throughout the day.</td>\n",
              "      <td>2016-12-31 18:00:00+00:00</td>\n",
              "      <td>2016</td>\n",
              "      <td>12</td>\n",
              "    </tr>\n",
              "    <tr>\n",
              "      <th>89729</th>\n",
              "      <td>2016-12-31 20:00:00.000 +0100</td>\n",
              "      <td>Mostly Cloudy</td>\n",
              "      <td>rain</td>\n",
              "      <td>0.072222</td>\n",
              "      <td>-3.050000</td>\n",
              "      <td>0.88</td>\n",
              "      <td>9.4185</td>\n",
              "      <td>169.0</td>\n",
              "      <td>7.2450</td>\n",
              "      <td>0.0</td>\n",
              "      <td>1020.27</td>\n",
              "      <td>Mostly cloudy throughout the day.</td>\n",
              "      <td>2016-12-31 19:00:00+00:00</td>\n",
              "      <td>2016</td>\n",
              "      <td>12</td>\n",
              "    </tr>\n",
              "    <tr>\n",
              "      <th>89730</th>\n",
              "      <td>2016-12-31 21:00:00.000 +0100</td>\n",
              "      <td>Mostly Cloudy</td>\n",
              "      <td>snow</td>\n",
              "      <td>-0.233333</td>\n",
              "      <td>-3.377778</td>\n",
              "      <td>0.89</td>\n",
              "      <td>9.2736</td>\n",
              "      <td>175.0</td>\n",
              "      <td>9.5795</td>\n",
              "      <td>0.0</td>\n",
              "      <td>1020.50</td>\n",
              "      <td>Mostly cloudy throughout the day.</td>\n",
              "      <td>2016-12-31 20:00:00+00:00</td>\n",
              "      <td>2016</td>\n",
              "      <td>12</td>\n",
              "    </tr>\n",
              "    <tr>\n",
              "      <th>89731</th>\n",
              "      <td>2016-12-31 22:00:00.000 +0100</td>\n",
              "      <td>Mostly Cloudy</td>\n",
              "      <td>snow</td>\n",
              "      <td>-0.472222</td>\n",
              "      <td>-3.644444</td>\n",
              "      <td>0.91</td>\n",
              "      <td>9.2414</td>\n",
              "      <td>182.0</td>\n",
              "      <td>8.4042</td>\n",
              "      <td>0.0</td>\n",
              "      <td>1020.65</td>\n",
              "      <td>Mostly cloudy throughout the day.</td>\n",
              "      <td>2016-12-31 21:00:00+00:00</td>\n",
              "      <td>2016</td>\n",
              "      <td>12</td>\n",
              "    </tr>\n",
              "    <tr>\n",
              "      <th>89732</th>\n",
              "      <td>2016-12-31 23:00:00.000 +0100</td>\n",
              "      <td>Mostly Cloudy</td>\n",
              "      <td>snow</td>\n",
              "      <td>-0.677778</td>\n",
              "      <td>-3.888889</td>\n",
              "      <td>0.92</td>\n",
              "      <td>9.2253</td>\n",
              "      <td>189.0</td>\n",
              "      <td>8.8711</td>\n",
              "      <td>0.0</td>\n",
              "      <td>1020.72</td>\n",
              "      <td>Mostly cloudy throughout the day.</td>\n",
              "      <td>2016-12-31 22:00:00+00:00</td>\n",
              "      <td>2016</td>\n",
              "      <td>12</td>\n",
              "    </tr>\n",
              "  </tbody>\n",
              "</table>\n",
              "<p>96453 rows × 15 columns</p>\n",
              "</div>"
            ],
            "text/plain": [
              "                      Formatted Date        Summary  ...  Year  Month\n",
              "2880   2006-01-01 00:00:00.000 +0100  Partly Cloudy  ...  2005     12\n",
              "2881   2006-01-01 01:00:00.000 +0100  Mostly Cloudy  ...  2006      1\n",
              "2882   2006-01-01 02:00:00.000 +0100  Mostly Cloudy  ...  2006      1\n",
              "2883   2006-01-01 03:00:00.000 +0100       Overcast  ...  2006      1\n",
              "2884   2006-01-01 04:00:00.000 +0100  Mostly Cloudy  ...  2006      1\n",
              "...                              ...            ...  ...   ...    ...\n",
              "89728  2016-12-31 19:00:00.000 +0100  Mostly Cloudy  ...  2016     12\n",
              "89729  2016-12-31 20:00:00.000 +0100  Mostly Cloudy  ...  2016     12\n",
              "89730  2016-12-31 21:00:00.000 +0100  Mostly Cloudy  ...  2016     12\n",
              "89731  2016-12-31 22:00:00.000 +0100  Mostly Cloudy  ...  2016     12\n",
              "89732  2016-12-31 23:00:00.000 +0100  Mostly Cloudy  ...  2016     12\n",
              "\n",
              "[96453 rows x 15 columns]"
            ]
          },
          "metadata": {
            "tags": []
          }
        }
      ]
    },
    {
      "cell_type": "markdown",
      "metadata": {
        "id": "lxW6NVhuh3pG",
        "colab_type": "text"
      },
      "source": [
        "## Plotting the time series\n",
        "\n",
        "We can plot this time series data using the `plt.plot()` function. This function takes in:\n",
        "* data for the x axis (e.g. `df['Time']`)\n",
        "* data for the y axis (e.g. `df['Stock Price']`)\n",
        "* visual indicator for data points (e.g. `ro` are red circles, `b--` are dashed blue lines, etc.)\n",
        "\n",
        "For more [documenation info on `plot()`, look here.](https://matplotlib.org/3.2.1/api/_as_gen/matplotlib.pyplot.plot.html)\n",
        "\n",
        "\n",
        "\n"
      ]
    },
    {
      "cell_type": "markdown",
      "metadata": {
        "id": "ev8m-F58KMyL",
        "colab_type": "text"
      },
      "source": [
        "### Plot Formatting and Labeling\n",
        "\n",
        "When creating any figure (of which a plot is one), there are several options you can specify.\n",
        "\n",
        "Use `plt.figure(figsize=(width, height))` to manually set a width and height of the figure. **Make sure to do this first, before calling `plot()`.**\n",
        "\n",
        "Use `plt.title(\" Figure Title \")` to add a title to the plot.\n",
        "\n",
        "Use `plt.xlabel(\" X Label \")` to label the X axis.\n",
        "\n",
        "Use `plt.ylabel(\" Y Label \")` to label the Y axis.\n",
        "\n",
        "Make sure to use `plt.show()` at the end to display the plot after calling all these functions."
      ]
    },
    {
      "cell_type": "markdown",
      "metadata": {
        "id": "noj_dAMabZR7",
        "colab_type": "text"
      },
      "source": [
        "## Test your skills.\n",
        "\n",
        "Plot the sorted dataframe using the information you learned above.\n",
        "* Create a figure and set the dimensions to (12,5)\n",
        "* Plot the date on the x axis\n",
        "* Plot the temperature on the y axis\n",
        "* Use dashed blue lines to plot the data\n",
        "* Label the x axis \"Date\"\n",
        "* Label the y axis \"Temperature (C)\"\n",
        "* Title the figure \"Temperature over a 10-year period\""
      ]
    },
    {
      "cell_type": "code",
      "metadata": {
        "id": "6sUunlsZdaHS",
        "colab_type": "code",
        "colab": {
          "base_uri": "https://localhost:8080/",
          "height": 350
        },
        "outputId": "7843ab0d-7195-4e73-b8b4-58a8c5bc6ec8"
      },
      "source": [
        "plt.figure(figsize=(12, 5))\n",
        "plt.xlabel(\"Date\")\n",
        "plt.ylabel(\"Temperature (C)\")\n",
        "plt.title(\"Temperature over a 10-year period\")\n",
        "plt.plot(df[\"Date\"], df['Temperature (C)'], 'b--')\n",
        "plt.show()"
      ],
      "execution_count": null,
      "outputs": [
        {
          "output_type": "display_data",
          "data": {
            "image/png": "[encoded data removed]",
            "text/plain": [
              "<Figure size 864x360 with 1 Axes>"
            ]
          },
          "metadata": {
            "tags": [],
            "needs_background": "light"
          }
        }
      ]
    },
    {
      "cell_type": "markdown",
      "metadata": {
        "id": "QaaIwviPJRpv",
        "colab_type": "text"
      },
      "source": [
        "# Histograms\n",
        "\n",
        "So far we've practiced a lot of indexing and it's time to put these skills to the test! Indexing `pandas` dataframes allows us to visualize data more easily.\n",
        "\n",
        "The main library used to visualize data is `matplotlib`. We will start with learning how to make histograms of our data.\n",
        "\n",
        "Histograms are an important part of data visualization in data science. It tells us more about the distribution of our data (rather than just the mean and standard deviation). Thus, we can more clearly see outliers in our data.\n",
        "\n",
        "Let's better understand the distribution of the temperature data.\n",
        "\n",
        "\n",
        "\n",
        "First, let's understand how to use `matplotlib` plotting capabilities. We will import the `matplotlib.pyplot` library, and we will call it `plt` for convenience.\n",
        "\n",
        "Then, we can call the `plt.hist()` function, which takes in the column of data you are looking to analyze and other options to make the graphs more easily readable. Here we will use the `edgecolor` and the `bins` parameters.\n",
        "\n",
        "[Documentation for `hist()`.](https://matplotlib.org/3.2.1/api/_as_gen/matplotlib.pyplot.hist.html)\n",
        "\n",
        "The `bins` parameter is important because it lets us specify how many \"buckets\" to split the data into. With more buckets, we can get more granular data, but if we have too many buckets, we can lose sight of the larger trend.\n",
        "\n",
        "Once you create a plot, you can call `plt.show()` function. This will display the diagram below the code cell.\n",
        "\n"
      ]
    },
    {
      "cell_type": "markdown",
      "metadata": {
        "id": "Dgh-cYHWTf9Q",
        "colab_type": "text"
      },
      "source": [
        "## Test your skills.\n",
        "\n",
        "* Import the `pyplot` library and call it `plt` as shown above.\n",
        "\n",
        "Note: We use this notation because it is common in most data science projects, and a large part of data science is looking at code other people have written and making modifications for your own project.\n",
        "\n",
        "* Create a histogram of the `Temperature (C)` column with 5 bins/buckets. Set the edgecolor to `\"black\"` and display the diagram as described above.\n",
        "\n",
        "* Play around with the number of bins/buckets. Try 10 bins, 15 bins, 20 bins, 50 bins, etc.\n",
        "\n",
        "\n"
      ]
    },
    {
      "cell_type": "code",
      "metadata": {
        "id": "Ai-wOINrZL-H",
        "colab_type": "code",
        "colab": {
          "base_uri": "https://localhost:8080/",
          "height": 265
        },
        "outputId": "5aebc52a-6ba8-493e-99e4-7c6970307d19"
      },
      "source": [
        "import matplotlib.pyplot as plt\n",
        "\n",
        "plt.hist(df[\"Temperature (C)\"], bins=50, edgecolor=\"black\")\n",
        "plt.show()"
      ],
      "execution_count": null,
      "outputs": [
        {
          "output_type": "display_data",
          "data": {
            "image/png": "[encoded data removed]",
            "text/plain": [
              "<Figure size 432x288 with 1 Axes>"
            ]
          },
          "metadata": {
            "tags": [],
            "needs_background": "light"
          }
        }
      ]
    },
    {
      "cell_type": "markdown",
      "metadata": {
        "id": "P0Sk-yj6bIbF",
        "colab_type": "text"
      },
      "source": [
        "## How to read the histogram\n",
        "Take some time to look at your histogram and understand what it's telling you.\n",
        "\n",
        "You may see that there are some outliers on the lower end of the spectrum (specifically around -20 degrees Celsius).\n",
        "\n",
        "You may also see that although the distribution felt fairly smooth and centered with 10 bins, it feels less so when there are 50 bins. It's important to realize these things about your dataset, so you can understand your results better.\n",
        "\n",
        "For example, if you are creating a weather predicting model and you see that it seems to do better at predicting weather when the temperature is between 0 degrees Celsius and 20 degrees Celsius and particularly bad at very low and high temperatures, you may come back to this histogram of your input data.\n",
        "\n",
        "This histogram tells you that you didn't have much data for these extreme temperatures, so it can be hard for your model to predict what the weather is like during those temperatures if there are not many examples of it in your dataset."
      ]
    },
    {
      "cell_type": "markdown",
      "metadata": {
        "id": "Gm_8JAAOekeH",
        "colab_type": "text"
      },
      "source": [
        "# Scatter Plots\n",
        "\n",
        "Often, data is not temporally related, and so time series plots are not appropriate. Rather, scatter plots can help us visualize and understand relationships between any two numerical variables.\n",
        "\n",
        "The principles of plotting scatter plots and time series plots are very similar, so we can translate a lot of the stuff we learned from the previous section to visualize the relationship bewteen Temperature and Humidity.\n",
        "\n",
        "We can plot this scatter plot data using the `plt.scatter()` function. This function takes in:\n",
        "* data for the x axis (e.g. `df['Class Size']`)\n",
        "* data for the y axis (e.g. `df['Average Score']`)\n",
        "* marker for data points (e.g. `o` are circles, and are the default)\n",
        "\n",
        "For more [documenation info on `scatter()`, look here.](https://matplotlib.org/3.2.0/api/_as_gen/matplotlib.pyplot.scatter.html)"
      ]
    },
    {
      "cell_type": "markdown",
      "metadata": {
        "id": "zVP0w3gqgjd-",
        "colab_type": "text"
      },
      "source": [
        "## Test your skills.\n",
        "\n",
        "Create a scatter plot showing the relationship between Temperature and Humidity in this weather data.\n",
        "* Create a figure and set the dimensions to (12,5)\n",
        "* Plot the first 1500 temperature data points on the x axis\n",
        "* Plot the first 1500 humidity data points on the y axis\n",
        "* Use the marker 'o' for the scatter plot points\n",
        "* Label the x axis \"Temperature (C)\"\n",
        "* Label the y axis \"Humidity\"\n",
        "* Title the figure \"Temperature vs. Humidity\""
      ]
    },
    {
      "cell_type": "code",
      "metadata": {
        "id": "y24y1Kzsgvi5",
        "colab_type": "code",
        "colab": {
          "base_uri": "https://localhost:8080/",
          "height": 350
        },
        "outputId": "9a2096c7-823a-48ac-ede9-b1bfbf6a06fc"
      },
      "source": [
        "plt.figure(figsize=(12, 5))\n",
        "plt.xlabel(\"Temperature (C)\")\n",
        "plt.ylabel(\"Humidity\")\n",
        "plt.title(\"Temperature vs Humidity\")\n",
        "plt.plot(df[\"Temperature (C)\"][:1500], df['Humidity'][:1500], 'o')\n",
        "plt.plot()\n",
        "plt.show()"
      ],
      "execution_count": null,
      "outputs": [
        {
          "output_type": "display_data",
          "data": {
            "image/png": "[encoded data removed]",
            "text/plain": [
              "<Figure size 864x360 with 1 Axes>"
            ]
          },
          "metadata": {
            "tags": [],
            "needs_background": "light"
          }
        }
      ]
    },
    {
      "cell_type": "markdown",
      "metadata": {
        "id": "InK7536UK6s0",
        "colab_type": "text"
      },
      "source": [
        "# Bar Graphs\n",
        "\n",
        "Bar graphs are another useful tool in data science. When looking at data sets, you will find that you will likely want to compare across categories, which is what the `groupby()` function allows you to do.\n",
        "\n",
        "However, looking at the numbers itself is not particularly helpful for understanding this data, and bar graphs can be a great way of visualizing this sort of data.\n",
        "\n",
        "For example, let's do take the humidity analysis we started last lecture and further visualize it.\n"
      ]
    },
    {
      "cell_type": "markdown",
      "metadata": {
        "id": "B6ye4gXvFNQ4",
        "colab_type": "text"
      },
      "source": [
        "## Using `groupby()` to process data for bar graphs\n",
        "\n",
        "One important feature of the `groupby()` function is that there is a parameter `as_index` which can be set. When set to `True`, `groupby()` returns a dataframe where the index is the column being grouped by. When set to `False`, new indices are generated and the column being grouped by is a separate column.\n",
        "\n",
        "By settingn the parameter to `False`, we can access the values in all the columns as if it was a typical dataframe, which can be useful for setting up visualizations.\n",
        "\n",
        "Run the two code cells and compare the outputs to better see the difference."
      ]
    },
    {
      "cell_type": "code",
      "metadata": {
        "id": "UHEAeHgNEnOi",
        "colab_type": "code",
        "colab": {
          "base_uri": "https://localhost:8080/",
          "height": 888
        },
        "outputId": "4b99c05d-e9fb-49c5-a190-dfcca3967e7a"
      },
      "source": [
        "summary_temp_df = df.loc[:, [\"Summary\", \"Temperature (C)\"]]\n",
        "mean_temp_by_summary_df = summary_temp_df.groupby([\"Summary\"],as_index=True).mean()\n",
        "display(mean_temp_by_summary_df)"
      ],
      "execution_count": null,
      "outputs": [
        {
          "output_type": "display_data",
          "data": {
            "text/html": [
              "<div>\n",
              "<style scoped>\n",
              "    .dataframe tbody tr th:only-of-type {\n",
              "        vertical-align: middle;\n",
              "    }\n",
              "\n",
              "    .dataframe tbody tr th {\n",
              "        vertical-align: top;\n",
              "    }\n",
              "\n",
              "    .dataframe thead th {\n",
              "        text-align: right;\n",
              "    }\n",
              "</style>\n",
              "<table border=\"1\" class=\"dataframe\">\n",
              "  <thead>\n",
              "    <tr style=\"text-align: right;\">\n",
              "      <th></th>\n",
              "      <th>Temperature (C)</th>\n",
              "    </tr>\n",
              "    <tr>\n",
              "      <th>Summary</th>\n",
              "      <th></th>\n",
              "    </tr>\n",
              "  </thead>\n",
              "  <tbody>\n",
              "    <tr>\n",
              "      <th>Breezy</th>\n",
              "      <td>7.922016</td>\n",
              "    </tr>\n",
              "    <tr>\n",
              "      <th>Breezy and Dry</th>\n",
              "      <td>21.111111</td>\n",
              "    </tr>\n",
              "    <tr>\n",
              "      <th>Breezy and Foggy</th>\n",
              "      <td>-0.510317</td>\n",
              "    </tr>\n",
              "    <tr>\n",
              "      <th>Breezy and Mostly Cloudy</th>\n",
              "      <td>11.093411</td>\n",
              "    </tr>\n",
              "    <tr>\n",
              "      <th>Breezy and Overcast</th>\n",
              "      <td>7.241614</td>\n",
              "    </tr>\n",
              "    <tr>\n",
              "      <th>Breezy and Partly Cloudy</th>\n",
              "      <td>12.492761</td>\n",
              "    </tr>\n",
              "    <tr>\n",
              "      <th>Clear</th>\n",
              "      <td>11.925109</td>\n",
              "    </tr>\n",
              "    <tr>\n",
              "      <th>Dangerously Windy and Partly Cloudy</th>\n",
              "      <td>8.944444</td>\n",
              "    </tr>\n",
              "    <tr>\n",
              "      <th>Drizzle</th>\n",
              "      <td>10.847578</td>\n",
              "    </tr>\n",
              "    <tr>\n",
              "      <th>Dry</th>\n",
              "      <td>29.083660</td>\n",
              "    </tr>\n",
              "    <tr>\n",
              "      <th>Dry and Mostly Cloudy</th>\n",
              "      <td>26.838492</td>\n",
              "    </tr>\n",
              "    <tr>\n",
              "      <th>Dry and Partly Cloudy</th>\n",
              "      <td>26.605749</td>\n",
              "    </tr>\n",
              "    <tr>\n",
              "      <th>Foggy</th>\n",
              "      <td>1.464035</td>\n",
              "    </tr>\n",
              "    <tr>\n",
              "      <th>Humid and Mostly Cloudy</th>\n",
              "      <td>20.886389</td>\n",
              "    </tr>\n",
              "    <tr>\n",
              "      <th>Humid and Overcast</th>\n",
              "      <td>21.515079</td>\n",
              "    </tr>\n",
              "    <tr>\n",
              "      <th>Humid and Partly Cloudy</th>\n",
              "      <td>21.568301</td>\n",
              "    </tr>\n",
              "    <tr>\n",
              "      <th>Light Rain</th>\n",
              "      <td>10.021517</td>\n",
              "    </tr>\n",
              "    <tr>\n",
              "      <th>Mostly Cloudy</th>\n",
              "      <td>12.629334</td>\n",
              "    </tr>\n",
              "    <tr>\n",
              "      <th>Overcast</th>\n",
              "      <td>7.516502</td>\n",
              "    </tr>\n",
              "    <tr>\n",
              "      <th>Partly Cloudy</th>\n",
              "      <td>16.024782</td>\n",
              "    </tr>\n",
              "    <tr>\n",
              "      <th>Rain</th>\n",
              "      <td>10.096111</td>\n",
              "    </tr>\n",
              "    <tr>\n",
              "      <th>Windy</th>\n",
              "      <td>6.804861</td>\n",
              "    </tr>\n",
              "    <tr>\n",
              "      <th>Windy and Dry</th>\n",
              "      <td>27.222222</td>\n",
              "    </tr>\n",
              "    <tr>\n",
              "      <th>Windy and Foggy</th>\n",
              "      <td>11.876389</td>\n",
              "    </tr>\n",
              "    <tr>\n",
              "      <th>Windy and Mostly Cloudy</th>\n",
              "      <td>11.834603</td>\n",
              "    </tr>\n",
              "    <tr>\n",
              "      <th>Windy and Overcast</th>\n",
              "      <td>7.932963</td>\n",
              "    </tr>\n",
              "    <tr>\n",
              "      <th>Windy and Partly Cloudy</th>\n",
              "      <td>9.968076</td>\n",
              "    </tr>\n",
              "  </tbody>\n",
              "</table>\n",
              "</div>"
            ],
            "text/plain": [
              "                                     Temperature (C)\n",
              "Summary                                             \n",
              "Breezy                                      7.922016\n",
              "Breezy and Dry                             21.111111\n",
              "Breezy and Foggy                           -0.510317\n",
              "Breezy and Mostly Cloudy                   11.093411\n",
              "Breezy and Overcast                         7.241614\n",
              "Breezy and Partly Cloudy                   12.492761\n",
              "Clear                                      11.925109\n",
              "Dangerously Windy and Partly Cloudy         8.944444\n",
              "Drizzle                                    10.847578\n",
              "Dry                                        29.083660\n",
              "Dry and Mostly Cloudy                      26.838492\n",
              "Dry and Partly Cloudy                      26.605749\n",
              "Foggy                                       1.464035\n",
              "Humid and Mostly Cloudy                    20.886389\n",
              "Humid and Overcast                         21.515079\n",
              "Humid and Partly Cloudy                    21.568301\n",
              "Light Rain                                 10.021517\n",
              "Mostly Cloudy                              12.629334\n",
              "Overcast                                    7.516502\n",
              "Partly Cloudy                              16.024782\n",
              "Rain                                       10.096111\n",
              "Windy                                       6.804861\n",
              "Windy and Dry                              27.222222\n",
              "Windy and Foggy                            11.876389\n",
              "Windy and Mostly Cloudy                    11.834603\n",
              "Windy and Overcast                          7.932963\n",
              "Windy and Partly Cloudy                     9.968076"
            ]
          },
          "metadata": {
            "tags": []
          }
        }
      ]
    },
    {
      "cell_type": "code",
      "metadata": {
        "id": "6g9qFmVJEnmc",
        "colab_type": "code",
        "colab": {
          "base_uri": "https://localhost:8080/",
          "height": 858
        },
        "outputId": "74318d2b-8197-455a-c39d-3b0933a39191"
      },
      "source": [
        "summary_temp_df = df.loc[:, [\"Summary\", \"Temperature (C)\"]]\n",
        "mean_temp_by_summary_df = summary_temp_df.groupby([\"Summary\"],as_index=False).mean()\n",
        "display(mean_temp_by_summary_df)"
      ],
      "execution_count": null,
      "outputs": [
        {
          "output_type": "display_data",
          "data": {
            "text/html": [
              "<div>\n",
              "<style scoped>\n",
              "    .dataframe tbody tr th:only-of-type {\n",
              "        vertical-align: middle;\n",
              "    }\n",
              "\n",
              "    .dataframe tbody tr th {\n",
              "        vertical-align: top;\n",
              "    }\n",
              "\n",
              "    .dataframe thead th {\n",
              "        text-align: right;\n",
              "    }\n",
              "</style>\n",
              "<table border=\"1\" class=\"dataframe\">\n",
              "  <thead>\n",
              "    <tr style=\"text-align: right;\">\n",
              "      <th></th>\n",
              "      <th>Summary</th>\n",
              "      <th>Temperature (C)</th>\n",
              "    </tr>\n",
              "  </thead>\n",
              "  <tbody>\n",
              "    <tr>\n",
              "      <th>0</th>\n",
              "      <td>Breezy</td>\n",
              "      <td>7.922016</td>\n",
              "    </tr>\n",
              "    <tr>\n",
              "      <th>1</th>\n",
              "      <td>Breezy and Dry</td>\n",
              "      <td>21.111111</td>\n",
              "    </tr>\n",
              "    <tr>\n",
              "      <th>2</th>\n",
              "      <td>Breezy and Foggy</td>\n",
              "      <td>-0.510317</td>\n",
              "    </tr>\n",
              "    <tr>\n",
              "      <th>3</th>\n",
              "      <td>Breezy and Mostly Cloudy</td>\n",
              "      <td>11.093411</td>\n",
              "    </tr>\n",
              "    <tr>\n",
              "      <th>4</th>\n",
              "      <td>Breezy and Overcast</td>\n",
              "      <td>7.241614</td>\n",
              "    </tr>\n",
              "    <tr>\n",
              "      <th>5</th>\n",
              "      <td>Breezy and Partly Cloudy</td>\n",
              "      <td>12.492761</td>\n",
              "    </tr>\n",
              "    <tr>\n",
              "      <th>6</th>\n",
              "      <td>Clear</td>\n",
              "      <td>11.925109</td>\n",
              "    </tr>\n",
              "    <tr>\n",
              "      <th>7</th>\n",
              "      <td>Dangerously Windy and Partly Cloudy</td>\n",
              "      <td>8.944444</td>\n",
              "    </tr>\n",
              "    <tr>\n",
              "      <th>8</th>\n",
              "      <td>Drizzle</td>\n",
              "      <td>10.847578</td>\n",
              "    </tr>\n",
              "    <tr>\n",
              "      <th>9</th>\n",
              "      <td>Dry</td>\n",
              "      <td>29.083660</td>\n",
              "    </tr>\n",
              "    <tr>\n",
              "      <th>10</th>\n",
              "      <td>Dry and Mostly Cloudy</td>\n",
              "      <td>26.838492</td>\n",
              "    </tr>\n",
              "    <tr>\n",
              "      <th>11</th>\n",
              "      <td>Dry and Partly Cloudy</td>\n",
              "      <td>26.605749</td>\n",
              "    </tr>\n",
              "    <tr>\n",
              "      <th>12</th>\n",
              "      <td>Foggy</td>\n",
              "      <td>1.464035</td>\n",
              "    </tr>\n",
              "    <tr>\n",
              "      <th>13</th>\n",
              "      <td>Humid and Mostly Cloudy</td>\n",
              "      <td>20.886389</td>\n",
              "    </tr>\n",
              "    <tr>\n",
              "      <th>14</th>\n",
              "      <td>Humid and Overcast</td>\n",
              "      <td>21.515079</td>\n",
              "    </tr>\n",
              "    <tr>\n",
              "      <th>15</th>\n",
              "      <td>Humid and Partly Cloudy</td>\n",
              "      <td>21.568301</td>\n",
              "    </tr>\n",
              "    <tr>\n",
              "      <th>16</th>\n",
              "      <td>Light Rain</td>\n",
              "      <td>10.021517</td>\n",
              "    </tr>\n",
              "    <tr>\n",
              "      <th>17</th>\n",
              "      <td>Mostly Cloudy</td>\n",
              "      <td>12.629334</td>\n",
              "    </tr>\n",
              "    <tr>\n",
              "      <th>18</th>\n",
              "      <td>Overcast</td>\n",
              "      <td>7.516502</td>\n",
              "    </tr>\n",
              "    <tr>\n",
              "      <th>19</th>\n",
              "      <td>Partly Cloudy</td>\n",
              "      <td>16.024782</td>\n",
              "    </tr>\n",
              "    <tr>\n",
              "      <th>20</th>\n",
              "      <td>Rain</td>\n",
              "      <td>10.096111</td>\n",
              "    </tr>\n",
              "    <tr>\n",
              "      <th>21</th>\n",
              "      <td>Windy</td>\n",
              "      <td>6.804861</td>\n",
              "    </tr>\n",
              "    <tr>\n",
              "      <th>22</th>\n",
              "      <td>Windy and Dry</td>\n",
              "      <td>27.222222</td>\n",
              "    </tr>\n",
              "    <tr>\n",
              "      <th>23</th>\n",
              "      <td>Windy and Foggy</td>\n",
              "      <td>11.876389</td>\n",
              "    </tr>\n",
              "    <tr>\n",
              "      <th>24</th>\n",
              "      <td>Windy and Mostly Cloudy</td>\n",
              "      <td>11.834603</td>\n",
              "    </tr>\n",
              "    <tr>\n",
              "      <th>25</th>\n",
              "      <td>Windy and Overcast</td>\n",
              "      <td>7.932963</td>\n",
              "    </tr>\n",
              "    <tr>\n",
              "      <th>26</th>\n",
              "      <td>Windy and Partly Cloudy</td>\n",
              "      <td>9.968076</td>\n",
              "    </tr>\n",
              "  </tbody>\n",
              "</table>\n",
              "</div>"
            ],
            "text/plain": [
              "                                Summary  Temperature (C)\n",
              "0                                Breezy         7.922016\n",
              "1                        Breezy and Dry        21.111111\n",
              "2                      Breezy and Foggy        -0.510317\n",
              "3              Breezy and Mostly Cloudy        11.093411\n",
              "4                   Breezy and Overcast         7.241614\n",
              "5              Breezy and Partly Cloudy        12.492761\n",
              "6                                 Clear        11.925109\n",
              "7   Dangerously Windy and Partly Cloudy         8.944444\n",
              "8                               Drizzle        10.847578\n",
              "9                                   Dry        29.083660\n",
              "10                Dry and Mostly Cloudy        26.838492\n",
              "11                Dry and Partly Cloudy        26.605749\n",
              "12                                Foggy         1.464035\n",
              "13              Humid and Mostly Cloudy        20.886389\n",
              "14                   Humid and Overcast        21.515079\n",
              "15              Humid and Partly Cloudy        21.568301\n",
              "16                           Light Rain        10.021517\n",
              "17                        Mostly Cloudy        12.629334\n",
              "18                             Overcast         7.516502\n",
              "19                        Partly Cloudy        16.024782\n",
              "20                                 Rain        10.096111\n",
              "21                                Windy         6.804861\n",
              "22                        Windy and Dry        27.222222\n",
              "23                      Windy and Foggy        11.876389\n",
              "24              Windy and Mostly Cloudy        11.834603\n",
              "25                   Windy and Overcast         7.932963\n",
              "26              Windy and Partly Cloudy         9.968076"
            ]
          },
          "metadata": {
            "tags": []
          }
        }
      ]
    },
    {
      "cell_type": "markdown",
      "metadata": {
        "id": "h_vzSF-tFGMi",
        "colab_type": "text"
      },
      "source": [
        "## Plotting the bar graph\n",
        "\n",
        "`plt.bar()` is a function that takes in:\n",
        "\n",
        "* x:  the x values (which should be a sequence of scalar values) -- you can often use `range()` with the input being the number of bars you want to display\n",
        "* y: the y values that correspond to the heights of each bar in the graph (also sequence of scalars)\n",
        "* width (optional)\n",
        "* color (optional)\n",
        "\n",
        "Here is the [documentation for `plt.bar()`.](https://matplotlib.org/3.2.1/api/_as_gen/matplotlib.pyplot.bar.html)\n",
        "\n",
        "\n",
        "Often, for a bar graph you want each bar to correspond to a specific text label. These cannot be passed in as the `x` argument in `plt.bar()`, and can instead by set using `plt.xticks()`.\n",
        "\n",
        "`plt.xticks()` is a function that takes in:\n",
        "\n",
        "* ticks: the list/array of locations along the x axis to place ticks -- you will likely want to match this to the `x` you passed in to `plt.bar()`\n",
        "* labels: the labels to place at the locations of the ticks\n",
        "\n",
        "Here is the [documentation for `plt.xticks()`.](https://matplotlib.org/3.2.1/api/_as_gen/matplotlib.pyplot.xticks.html)\n",
        "\n",
        "Time to give it a go!\n"
      ]
    },
    {
      "cell_type": "markdown",
      "metadata": {
        "id": "8EMEYoG7Hs8t",
        "colab_type": "text"
      },
      "source": [
        "## Test your skills.\n",
        "\n",
        "* Create a dataframe (similar to shown above) that stores the mean humidity grouped by summary.\n",
        "* Plot this dataframe in a bar graph where the x axis represents the first 10 summaries (the first 10 entries in the Summary column) and the heights of the bars represent the corresponding mean humidities\n",
        "\n",
        "More specifically:\n",
        "* Create a figure and set the dimensions to (25,8)\n",
        "* Plot a bar graph with 10 bars, that correspond to the first 10 humidities\n",
        "* Plot 10 tick marks on the x axis that correspond to the first 10 summary labels\n",
        "* Use dashed blue lines to plot the data\n",
        "* Label the y axis \"Humidity\"\n",
        "* Title the figure \"Humidity by Weather Condition\""
      ]
    },
    {
      "cell_type": "code",
      "metadata": {
        "id": "NS7e9_gxK-PX",
        "colab_type": "code",
        "colab": {
          "base_uri": "https://localhost:8080/",
          "height": 439
        },
        "outputId": "cd0b43dc-3be9-47d4-b1b2-8337ab883c9d"
      },
      "source": [
        "summary_humid_df = df.loc[:, [\"Summary\", \"Humidity\"]]\n",
        "mean_humid_by_summary_df = summary_humid_df.groupby([\"Summary\"],as_index=False).mean()\n",
        "\n",
        "plt.figure(figsize=(25,8))\n",
        "plt.bar(range(10), mean_humid_by_summary_df[\"Humidity\"][:10])\n",
        "plt.xticks(range(10), mean_humid_by_summary_df[\"Summary\"][:10])\n",
        "plt.ylabel(\"Humidity\")\n",
        "plt.title(\"Humidity by Weather Condition\")\n",
        "plt.show()"
      ],
      "execution_count": null,
      "outputs": [
        {
          "output_type": "display_data",
          "data": {
            "image/png": "[encoded data removed]",
            "text/plain": [
              "<Figure size 1800x576 with 1 Axes>"
            ]
          },
          "metadata": {
            "tags": [],
            "needs_background": "light"
          }
        }
      ]
    },
    {
      "cell_type": "markdown",
      "metadata": {
        "id": "iUhbUk_pJ8Ib",
        "colab_type": "text"
      },
      "source": [
        "# Heatmaps\n",
        "\n",
        "Heatmaps are yet another tool we can use both for communicating information about our data as well as further understanding our data.\n",
        "\n",
        "One very common type of heatmap in data science are called confusion matrices. Let's say you are building a machine learning model to predict whether an image is a dog, cat, or squirrel. A useful piece of information to understand is how often your model predicted that an image was a dog when it was really a dog. This tells you whether or not your model was accurate in being able to predict dogs.\n",
        "\n",
        "Another equally useful piece of information is how often your model predicted that an image was a dog when it was really a cat. This tells you whether or not your model was precise in its predictions (e.g. was it predicting \"dog\" for every image, or was it predicting \"dog\" only for dog images and \"cat\" for cat images).\n",
        "\n",
        "Thus, you can see that all pairwise combinations of predictions brings light to important information, and a heatmap is a great way of being able to visualize all of this information at once is an understandable way. Here is an example of a such a heatmap.\n"
      ]
    },
    {
      "cell_type": "markdown",
      "metadata": {
        "id": "TO9yDwWrMy9B",
        "colab_type": "text"
      },
      "source": [
        "![confusion matrix example](https://drive.google.com/file/d/1CRs4_cemGUiejyhqrs1pXKf33JgCLCsY/view?usp=sharing)\n"
      ]
    },
    {
      "cell_type": "markdown",
      "metadata": {
        "id": "n0wZrAtcVFaF",
        "colab_type": "text"
      },
      "source": [
        "## More use cases\n",
        "\n",
        "Heatmaps are also incredibly useful for understanding how two variables correlate to each other.\n",
        "\n",
        "Although we saw the variations of temperature over the course of many years with our time series plot, we see that there are many variations based on the months during the year. Thus, it can be hard to isolate weather trends over a decade by looking at that time series.\n",
        "\n",
        "One approach is to find the average temperature per month and compare temperatures for each month across the given decade. We can achieve this kind of analysis well with a heat map.\n",
        "\n",
        "Below we have written code to add the Month and Year as columns within the dataset. Take a second to look over it to understand what it doing. Consider uncommenting the `display()` line to look at what the resulting dataframe looks like.\n",
        "\n"
      ]
    },
    {
      "cell_type": "code",
      "metadata": {
        "id": "_nG10SokVlou",
        "colab_type": "code",
        "colab": {}
      },
      "source": [
        "df['Year'] = df['Date'].dt.year\n",
        "df['Month'] = df['Date'].dt.month\n",
        "# display(df)"
      ],
      "execution_count": null,
      "outputs": []
    },
    {
      "cell_type": "markdown",
      "metadata": {
        "id": "Ma5QPQHJcYmK",
        "colab_type": "text"
      },
      "source": [
        "## Create heatmaps with seaborn\n",
        "\n",
        "You may have noticed that a lot of the visualizations right now, although useful, have been a little ugly. There is a nice library that is built on top of `matplotlib` called `seaborn` that makes some of these visualizations slightly more visually pleasing.\n",
        "\n",
        "Let's use `seaborn` to create a heatmap. Often, `seaborn` is imported as `sns`, which may be a useful convention to follow.\n",
        "\n",
        "Create the heatmap using `sns.heatmap()` with the following arguments:\n",
        "* `data`: 2D dataset (can be a pandas dataframe)\n",
        "* `cmap`: color map (for nice formatting!) -- optional\n",
        "\n",
        "Here is the [documentation for `sns.heatmap()`.](https://seaborn.pydata.org/generated/seaborn.heatmap.html)\n",
        "\n",
        "In order to pass in the argument `data`, you must have it in the correct format. Typically there are 3 data columns of interest. These translate to your x axis, y axis, and the intensity of the cells (representing the heat).\n",
        "\n",
        "In order to get your data into the format that `sns.heatmap()` needs to create the heatmap, you can use `df.pivot()` on the dataframe ([here is the documentation](https://pandas.pydata.org/pandas-docs/stable/reference/api/pandas.DataFrame.pivot.html). The first argument corresponds to the y axis column name, the second argument to the x axis column name, and the third to the intensity/heat column name.\n",
        "\n",
        "Let's try putting all this knowledge together!"
      ]
    },
    {
      "cell_type": "markdown",
      "metadata": {
        "id": "6BkhPJM7dZ0o",
        "colab_type": "text"
      },
      "source": [
        "## Test your skills.\n",
        "\n",
        "Create a heatmap of temperature as it correlates to month and year between 2005 and 2016.\n",
        "\n",
        "More specifically:\n",
        "* Import the `seaborn` library (it is recommended to name it `sns`)\n",
        "* Isolate the relevant columns and groupby the Month and Year columns (think carefully about the `as_index` parameter), and average the temperatures by these groupings\n",
        "* Pivot this new grouped dataframe to get a dataframe that can be used to display the heatmap\n",
        "* Display the heatmap \n",
        "\n"
      ]
    },
    {
      "cell_type": "code",
      "metadata": {
        "id": "bPyWdNZCa0PN",
        "colab_type": "code",
        "colab": {
          "base_uri": "https://localhost:8080/",
          "height": 295
        },
        "outputId": "c93872b1-a8c3-4f64-b153-0e12371c7f4b"
      },
      "source": [
        "import seaborn as sns\n",
        "flights = sns.load_dataset(\"flights\")\n",
        "flights = flights.pivot(\"month\", \"year\", \"passengers\")\n",
        "sns.heatmap(flights)\n",
        "plt.savefig(\"flights_heatmap.jpg\")\n",
        "plt.show()"
      ],
      "execution_count": null,
      "outputs": [
        {
          "output_type": "display_data",
          "data": {
            "image/png": "[encoded data removed]",
            "text/plain": [
              "<Figure size 432x288 with 2 Axes>"
            ]
          },
          "metadata": {
            "tags": [],
            "needs_background": "light"
          }
        }
      ]
    },
    {
      "cell_type": "code",
      "metadata": {
        "id": "2kuQ3TXMeDtj",
        "colab_type": "code",
        "colab": {
          "base_uri": "https://localhost:8080/",
          "height": 35
        },
        "outputId": "6da30d5b-0855-49de-b34a-09bebfaa4a45"
      },
      "source": [
        "plt.savefig(\"flights_heatmap.jpg\")"
      ],
      "execution_count": null,
      "outputs": [
        {
          "output_type": "display_data",
          "data": {
            "text/plain": [
              "<Figure size 432x288 with 0 Axes>"
            ]
          },
          "metadata": {
            "tags": []
          }
        }
      ]
    }
  ]
}