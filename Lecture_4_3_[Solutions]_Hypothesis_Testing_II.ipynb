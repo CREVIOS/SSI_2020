{
  "nbformat": 4,
  "nbformat_minor": 0,
  "metadata": {
    "colab": {
      "name": "Lecture 4.3 [Solutions] Hypothesis Testing II",
      "provenance": [],
      "collapsed_sections": [],
      "include_colab_link": true
    },
    "kernelspec": {
      "name": "python3",
      "display_name": "Python 3"
    }
  },
  "cells": [
    {
      "cell_type": "markdown",
      "metadata": {
        "id": "view-in-github",
        "colab_type": "text"
      },
      "source": [
        "<a href=\"https://colab.research.google.com/github/CREVIOS/SSI_2020/blob/master/Lecture_4_3_%5BSolutions%5D_Hypothesis_Testing_II.ipynb\" target=\"_parent\"><img src=\"https://colab.research.google.com/assets/colab-badge.svg\" alt=\"Open In Colab\"/></a>"
      ]
    },
    {
      "cell_type": "markdown",
      "metadata": {
        "id": "4NgzBULVxyfw",
        "colab_type": "text"
      },
      "source": [
        "Find the confidence interval for the difference in Michigan support and the Wisconsin support. "
      ]
    },
    {
      "cell_type": "code",
      "metadata": {
        "id": "QoVRD_giwGi1",
        "colab_type": "code",
        "colab": {}
      },
      "source": [
        "import math\n",
        "from scipy import stats\n",
        "\n",
        "mich_supp = 23\n",
        "mich_tot = 100\n",
        "wisc_supp = 81\n",
        "wisc_tot = 300\n",
        "\n",
        "mu_mich = (mich_supp) / (mich_tot)\n",
        "mu_wisc = (wisc_supp) / (wisc_tot)\n",
        "s_mich = math.sqrt(((mu_mich) * (1 - mu_mich)) / (mich_tot))\n",
        "s_wisc = math.sqrt(((mu_wisc) * (1 - mu_wisc)) / (wisc_tot))\n",
        "\n",
        "mu_diff = mu_mich - mu_wisc\n",
        "s_diff = math.sqrt(s_mich ** 2 + s_wisc ** 2)\n",
        "\n",
        "conf_int = stats.norm.interval(0.95, loc=mu_diff, scale=s_diff)\n",
        "print(conf_int)"
      ],
      "execution_count": null,
      "outputs": []
    },
    {
      "cell_type": "markdown",
      "metadata": {
        "id": "kOrOiVSVwRdr",
        "colab_type": "text"
      },
      "source": [
        "Do a significance test at the $\\alpha = 0.05$ level to determine the $p$-value of Michigan's support equalling that of Wisconsin's. "
      ]
    },
    {
      "cell_type": "code",
      "metadata": {
        "id": "Kjtg2_L5wXCT",
        "colab_type": "code",
        "colab": {
          "base_uri": "https://localhost:8080/",
          "height": 51
        },
        "outputId": "df128998-114b-40bb-d0b8-35e04c0bb5c4"
      },
      "source": [
        "import math\n",
        "from scipy import stats\n",
        "\n",
        "mich_supp = 23\n",
        "mich_tot = 100\n",
        "wisc_supp = 81\n",
        "wisc_tot = 300\n",
        "\n",
        "p_pool = (mich_supp + wisc_supp) / (mich_tot + wisc_tot)\n",
        "mu_mich = (mich_supp) / (mich_tot)\n",
        "mu_wisc = (wisc_supp) / (wisc_tot)\n",
        "s_mich = math.sqrt((p_pool * (1 - p_pool)) / (mich_tot))\n",
        "s_wisc = math.sqrt((p_pool * (1 - p_pool)) / (wisc_tot))\n",
        "\n",
        "mu_diff = mu_mich - mu_wisc\n",
        "s_diff = math.sqrt(s_mich ** 2 + s_wisc ** 2)\n",
        "\n",
        "z_score = (mu_diff) / (s_diff)\n",
        "\n",
        "print(stats.norm.cdf(z_score, loc=0, scale=1))\n",
        "print(stats.norm.cdf(mu_diff, loc=0, scale=s_diff))\n"
      ],
      "execution_count": null,
      "outputs": [
        {
          "output_type": "stream",
          "text": [
            "0.21483771308688576\n",
            "0.21483771308688576\n"
          ],
          "name": "stdout"
        }
      ]
    }
  ]
}