{
  "nbformat": 4,
  "nbformat_minor": 0,
  "metadata": {
    "colab": {
      "name": "Lecture 4.1 [Solutions] Confidence Intervals and the CLT",
      "provenance": [],
      "include_colab_link": true
    },
    "kernelspec": {
      "name": "python3",
      "display_name": "Python 3"
    }
  },
  "cells": [
    {
      "cell_type": "markdown",
      "metadata": {
        "id": "view-in-github",
        "colab_type": "text"
      },
      "source": [
        "<a href=\"https://colab.research.google.com/github/CREVIOS/SSI_2020/blob/master/Lecture_4_1_%5BSolutions%5D_Confidence_Intervals_and_the_CLT.ipynb\" target=\"_parent\"><img src=\"https://colab.research.google.com/assets/colab-badge.svg\" alt=\"Open In Colab\"/></a>"
      ]
    },
    {
      "cell_type": "markdown",
      "metadata": {
        "id": "-LHW2Ltnqo05",
        "colab_type": "text"
      },
      "source": [
        "Find a 95% confidence interval for the proportion of unemployed people in the US, if a simple random sample finds 14 unemployed out of 100. We will simply employ a z-interval for proportions."
      ]
    },
    {
      "cell_type": "code",
      "metadata": {
        "id": "Mk9xZJy5pl9i",
        "colab_type": "code",
        "colab": {
          "base_uri": "https://localhost:8080/",
          "height": 34
        },
        "outputId": "446b038b-2e53-49e8-e38a-1d27043269e5"
      },
      "source": [
        "import math\n",
        "from scipy import stats \n",
        "\n",
        "n_unemployed = 14\n",
        "n_tot = 100\n",
        "p_est = n_unemployed / n_tot\n",
        "sigma_x = math.sqrt(p_est * (1 - p_est))\n",
        "sigma_x_mean = sigma_x / math.sqrt(n_tot)\n",
        "stats.norm.interval(alpha = 0.95, loc = p_est, scale=sigma_x_mean)"
      ],
      "execution_count": null,
      "outputs": [
        {
          "output_type": "execute_result",
          "data": {
            "text/plain": [
              "(0.07199179152399525, 0.20800820847600476)"
            ]
          },
          "metadata": {
            "tags": []
          },
          "execution_count": 3
        }
      ]
    },
    {
      "cell_type": "markdown",
      "metadata": {
        "id": "k1Nk01SDrRGK",
        "colab_type": "text"
      },
      "source": [
        "In this problem, we'll find a 95% confidence interval for the number of baskets that Franklyn can make in 5 minutes. \n",
        "\n",
        "In the first part, we will assume that we know the true standard deviation of Franklyn's basket shooting ability, and that it's equal to the sample standard deviation.\n",
        "\n",
        "In the second part, we will use a t-distribution to model the uncertainty in Franklyn's true standard deviation, with 19 degrees of freedom. \n",
        "\n"
      ]
    },
    {
      "cell_type": "code",
      "metadata": {
        "id": "W-YVUa9Yp04I",
        "colab_type": "code",
        "colab": {
          "base_uri": "https://localhost:8080/",
          "height": 51
        },
        "outputId": "b87ff0be-e323-4c8e-f4c4-3485f32f6b94"
      },
      "source": [
        "n_ints = 20\n",
        "mu_baskets = 1.3\n",
        "S_baskets = 0.46\n",
        "sigma_x_mean = S_baskets / math.sqrt(n_ints)\n",
        "print(stats.norm.interval(alpha = 0.95, loc = mu_baskets, scale=sigma_x_mean))\n",
        "print(stats.t.interval(alpha = 0.95, df = n_ints - 1, loc = mu_baskets, scale=sigma_x_mean))\n"
      ],
      "execution_count": null,
      "outputs": [
        {
          "output_type": "stream",
          "text": [
            "(1.0983998156673862, 1.5016001843326139)\n",
            "(1.0847133730468417, 1.5152866269531584)\n"
          ],
          "name": "stdout"
        }
      ]
    }
  ]
}