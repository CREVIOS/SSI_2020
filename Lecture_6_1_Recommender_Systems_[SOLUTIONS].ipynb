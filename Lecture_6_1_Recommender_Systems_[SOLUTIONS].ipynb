{
  "nbformat": 4,
  "nbformat_minor": 0,
  "metadata": {
    "colab": {
      "name": "Lecture 6.1: Recommender Systems [SOLUTIONS]",
      "provenance": [],
      "collapsed_sections": [],
      "toc_visible": true,
      "include_colab_link": true
    },
    "kernelspec": {
      "name": "python3",
      "display_name": "Python 3"
    }
  },
  "cells": [
    {
      "cell_type": "markdown",
      "metadata": {
        "id": "view-in-github",
        "colab_type": "text"
      },
      "source": [
        "<a href=\"https://colab.research.google.com/github/CREVIOS/SSI_2020/blob/master/Lecture_6_1_Recommender_Systems_%5BSOLUTIONS%5D.ipynb\" target=\"_parent\"><img src=\"https://colab.research.google.com/assets/colab-badge.svg\" alt=\"Open In Colab\"/></a>"
      ]
    },
    {
      "cell_type": "markdown",
      "metadata": {
        "id": "cHJ_57XgC4w5",
        "colab_type": "text"
      },
      "source": [
        "# Codealong - Recommender Systems\n",
        "\n",
        "In this codealong, we will be writing a simplified version of the predict function of a recommender system!"
      ]
    },
    {
      "cell_type": "markdown",
      "metadata": {
        "id": "_sMs8I_HnBQH",
        "colab_type": "text"
      },
      "source": [
        "## 0. Setup\n",
        "\n",
        "Run the following code blocks, each explained above the code, to set up our imports and data set"
      ]
    },
    {
      "cell_type": "markdown",
      "metadata": {
        "id": "eOWQ9YG1nJyW",
        "colab_type": "text"
      },
      "source": [
        "Here, we are doing a lot of the imports that you all are already familiar with."
      ]
    },
    {
      "cell_type": "code",
      "metadata": {
        "id": "IaLQlp7riFLw",
        "colab_type": "code",
        "colab": {}
      },
      "source": [
        "import pandas as pd\n",
        "import numpy as np\n",
        "import matplotlib.pyplot as plt\n",
        "import seaborn as sns"
      ],
      "execution_count": null,
      "outputs": []
    },
    {
      "cell_type": "markdown",
      "metadata": {
        "id": "I4vZMISEnQT5",
        "colab_type": "text"
      },
      "source": [
        "Here, we install a new library called `surprise`! Don't worry about this library too much, we're only using it today for some help with recommender systems.\n",
        "\n",
        "*Note: You might get a prompt asking you to confirm you want to download our dataset. Simply type Y to confirm if this comes up.*"
      ]
    },
    {
      "cell_type": "code",
      "metadata": {
        "id": "Oeoom9jNOmIa",
        "colab_type": "code",
        "colab": {}
      },
      "source": [
        "! pip install surprise\n",
        "from surprise.prediction_algorithms.matrix_factorization import NMF\n",
        "from surprise import Dataset\n",
        "from surprise.model_selection import cross_validate"
      ],
      "execution_count": null,
      "outputs": []
    },
    {
      "cell_type": "markdown",
      "metadata": {
        "id": "CgEjz6G9nbWO",
        "colab_type": "text"
      },
      "source": [
        "Now, we load in the dataset from `surprise` and convert it to a DataFrame, remove the timestamp column that we don't care about, and display it."
      ]
    },
    {
      "cell_type": "code",
      "metadata": {
        "id": "n5UG3UHjO2U4",
        "colab_type": "code",
        "colab": {}
      },
      "source": [
        "data = Dataset.load_builtin('ml-100k')\n",
        "df = pd.DataFrame(data.raw_ratings, columns=['user_id', 'item_id', 'rating', 'timestamp'])\n",
        "df = df.loc[:, df.columns != 'timestamp']\n",
        "display(df)"
      ],
      "execution_count": null,
      "outputs": []
    },
    {
      "cell_type": "markdown",
      "metadata": {
        "id": "QFHIuz1FnxIZ",
        "colab_type": "text"
      },
      "source": [
        "## 1. Create and fit an NMF Recommender\n",
        "\n",
        "Once again, don't worry too much about this part. Since it's incredibly hard to code the predict behavior from scratch, we are using `surprise` to make our lives easier."
      ]
    },
    {
      "cell_type": "code",
      "metadata": {
        "id": "SjvxbDEpSrG6",
        "colab_type": "code",
        "colab": {}
      },
      "source": [
        "trainset = data.build_full_trainset()\n",
        "\n",
        "algo = NMF()\n",
        "algo.fit(trainset)"
      ],
      "execution_count": null,
      "outputs": []
    },
    {
      "cell_type": "markdown",
      "metadata": {
        "id": "2BJ75xrHDkM1",
        "colab_type": "text"
      },
      "source": [
        "This block of code demonstrates getting a prediction from the NMF class for a user_id and an item_id. The `pred` returned is a special tuple that we have to index into (at index 3) to get the predicted rating that we want."
      ]
    },
    {
      "cell_type": "code",
      "metadata": {
        "id": "Sa-k6MDyTVKY",
        "colab_type": "code",
        "colab": {}
      },
      "source": [
        "uid = str(112)  # raw user id (as in the ratings file). They are **strings**!\n",
        "iid = str(13)  # raw item id (as in the ratings file). They are **strings**!\n",
        "\n",
        "# get a prediction for specific users and items.\n",
        "pred = algo.predict(uid, iid)\n",
        "print(pred)\n",
        "print(pred[3])"
      ],
      "execution_count": null,
      "outputs": []
    },
    {
      "cell_type": "markdown",
      "metadata": {
        "id": "OKQoufDhC1Us",
        "colab_type": "text"
      },
      "source": [
        "## Prediction"
      ]
    },
    {
      "cell_type": "markdown",
      "metadata": {
        "id": "REzzo8mchnF-",
        "colab_type": "text"
      },
      "source": [
        "## 2. Predicting with a recommender system!\n",
        "\n",
        "Now, it's finally time for us to write some code! In the following cells, write code to fill out an array with the estimated rating for every user, item pair. This array will be of size (number of users) x (number of items), so first write code to calculate those values!"
      ]
    },
    {
      "cell_type": "code",
      "metadata": {
        "id": "QwpqMOtRhzk6",
        "colab_type": "code",
        "colab": {}
      },
      "source": [
        "NUM_USERS = len(np.unique(df[\"user_id\"])) # TODO: Write code to figure out how many users we have\n",
        "NUM_ITEMS = len(np.unique(df[\"item_id\"])) # TODO: Write code to calculate how many items we have"
      ],
      "execution_count": null,
      "outputs": []
    },
    {
      "cell_type": "code",
      "metadata": {
        "id": "SOHPlO50EiqN",
        "colab_type": "code",
        "colab": {}
      },
      "source": [
        "# TODO: Write code to fill out an array of ratings, and display that array\n",
        "ratings = np.zeros((NUM_USERS, NUM_ITEMS))\n",
        "for uid in range(NUM_USERS):\n",
        "  if (uid % 100 == 0):\n",
        "    print(\"On user_ID {} out of {}\".format(uid, NUM_USERS))\n",
        "  for iid in range(NUM_ITEMS):\n",
        "    ratings[uid, iid] = algo.predict(str(uid), str(iid), verbose=False)[3]\n",
        "\n",
        "display(ratings)"
      ],
      "execution_count": null,
      "outputs": []
    }
  ]
}