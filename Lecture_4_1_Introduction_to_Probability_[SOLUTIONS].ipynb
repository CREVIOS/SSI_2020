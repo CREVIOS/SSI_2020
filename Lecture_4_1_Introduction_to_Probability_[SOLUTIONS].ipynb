{
  "nbformat": 4,
  "nbformat_minor": 0,
  "metadata": {
    "colab": {
      "name": "Lecture 4.1: Introduction to Probability [SOLUTIONS]",
      "provenance": [],
      "collapsed_sections": [],
      "include_colab_link": true
    },
    "kernelspec": {
      "name": "python3",
      "display_name": "Python 3"
    }
  },
  "cells": [
    {
      "cell_type": "markdown",
      "metadata": {
        "id": "view-in-github",
        "colab_type": "text"
      },
      "source": [
        "<a href=\"https://colab.research.google.com/github/CREVIOS/SSI_2020/blob/master/Lecture_4_1_Introduction_to_Probability_%5BSOLUTIONS%5D.ipynb\" target=\"_parent\"><img src=\"https://colab.research.google.com/assets/colab-badge.svg\" alt=\"Open In Colab\"/></a>"
      ]
    },
    {
      "cell_type": "markdown",
      "metadata": {
        "id": "QhWH3hDybSKR",
        "colab_type": "text"
      },
      "source": [
        "# 4.1 Introduction to Probability [SOLUTIONS]\n",
        "Let's practice simulating probability with code!"
      ]
    },
    {
      "cell_type": "markdown",
      "metadata": {
        "id": "M-S6pCACbe_4",
        "colab_type": "text"
      },
      "source": [
        "# Setup\n",
        "Run the below cell to import the libraries we'll need for today's codealongs!"
      ]
    },
    {
      "cell_type": "code",
      "metadata": {
        "id": "C60D3xSMbncA",
        "colab_type": "code",
        "colab": {}
      },
      "source": [
        "import numpy as np\n",
        "import matplotlib.pyplot as plt"
      ],
      "execution_count": null,
      "outputs": []
    },
    {
      "cell_type": "markdown",
      "metadata": {
        "id": "oGsvRJyMbta3",
        "colab_type": "text"
      },
      "source": [
        "# Codealong - Probability Estimation\n",
        "Write a program to estimate the following probability:\n",
        "\n",
        "*You are playing a 7-point ping pong game with your friend. You win a point with probability p = 0.3 (and lose a point with probability 1 - p = 0.7). What’s the probability you win the game (no deuces/no win by 2 needed)?*\n",
        "\n",
        "To do this, do the following:\n",
        "\n",
        "*   Write a function `simulate_ping_pong` (that takes parameters `p` and `max_score`) to simulate one 7-point game, and return whether you won as a boolean.\n",
        "*   Use that function in the main to calculate and print an estimate.\n",
        "\n",
        "As a reminder, here are some of the basic ways to generate randomness in Python:"
      ]
    },
    {
      "cell_type": "code",
      "metadata": {
        "id": "jK8_whm3cHCA",
        "colab_type": "code",
        "colab": {
          "base_uri": "https://localhost:8080/",
          "height": 34
        },
        "outputId": "c9ed7094-88f9-4fa4-a201-191facec4e2f"
      },
      "source": [
        "# Generating a random float from a uniform interval [low, high)\n",
        "# If you don't pass anything in, it defaults to [0,1)\n",
        "x = np.random.uniform()\n",
        "y = np.random.uniform(10, 15)\n",
        "\n",
        "# Generating a random INTEGER from low (inclusive) to high (exclusive)\n",
        "# If you don't pass anything in a parameter for low, it goes from 0 (inclusive)\n",
        "# to high (exclusive)\n",
        "z = np.random.randint(5, 15)\n",
        "a = np.random.randint(8)\n",
        "\n",
        "# Generating a random sample of the amount of \"heads\" when we make\n",
        "# n independent \"coin flips\" where P(head) = p\n",
        "b = np.random.binomial(4, 0.5)\n",
        "\n",
        "print(\"Our outputs from above are {}, {}, {}, {}, {}\".format(x,y,z,a,b))"
      ],
      "execution_count": null,
      "outputs": [
        {
          "output_type": "stream",
          "text": [
            "Our outputs from above are 0.826601025878997, 14.833566848863455, 11, 3, 2\n"
          ],
          "name": "stdout"
        }
      ]
    },
    {
      "cell_type": "markdown",
      "metadata": {
        "id": "gODAujvpcjKR",
        "colab_type": "text"
      },
      "source": [
        "Write your code down here!"
      ]
    },
    {
      "cell_type": "code",
      "metadata": {
        "id": "5yLWu-i_cVxH",
        "colab_type": "code",
        "colab": {
          "base_uri": "https://localhost:8080/",
          "height": 34
        },
        "outputId": "be576698-2872-418a-9a21-c30d3e76253d"
      },
      "source": [
        "def simulate_ping_pong(p, max_score=7):\n",
        "    # TODO: write your code here\n",
        "    # Return True if p1 wins, False if p2 wins\n",
        "    # p1, p2 scores start at 0. until someone has 7 points, randomly give a point to winner\n",
        "\n",
        "    p1_score, p2_score = 0, 0\n",
        "    while p1_score < max_score and p2_score < max_score:\n",
        "      point = np.random.binomial(1, p) # num of heads in 1 coin flip, P(head)=p\n",
        "      if point == 1: # point=1 with probability p, and 0 with probability 1-p\n",
        "        p1_score += 1\n",
        "      else: # point == 0\n",
        "        p2_score += 1\n",
        "    # stop when one person reaches 7. guaranteed that either p1_score == 7 OR p2_score == 7\n",
        "    return p1_score > p2_score # p1_score == 7\n",
        "    # if p1_score == 7:\n",
        "    #   return True\n",
        "    # else:\n",
        "    #   return False\n",
        "\n",
        "def sim_trials(n):\n",
        "    p = 0.5 # the probability I win a point\n",
        "    count = 0\n",
        "    for i in range(n): # repeat the game 100000 times\n",
        "      # if we won the game, add one to count\n",
        "      if simulate_ping_pong(p=p, max_score=7):\n",
        "        count += 1\n",
        "    prob_est = count / n\n",
        "    print(prob_est)\n",
        "\n",
        "if __name__ == \"__main__\":\n",
        "    sim_trials(1000000)"
      ],
      "execution_count": null,
      "outputs": [
        {
          "output_type": "stream",
          "text": [
            "0.49945\n"
          ],
          "name": "stdout"
        }
      ]
    },
    {
      "cell_type": "markdown",
      "metadata": {
        "id": "d8Re8hdUd80q",
        "colab_type": "text"
      },
      "source": [
        "# Codealong - Gotta Catch 'Em All!\n",
        "You are just starting a video game with monsters, and you want to “catch them all”. If there are `n = 50` different monsters and each shows up in the wild grass with equal probability, how many encounters do you have to make until you’ve caught them all? (Assume you always successfully catch the monster on each encounter).\n",
        "\n",
        "Write code to answer this question by doing the following:\n",
        "\n",
        "\n",
        "*   Write a function called `see_all_monsters` that simulates looking in the grass until you find all `n` monsters. (This is akin to simulating one game of ping pong).\n",
        "*   Use that function in the main to calculate and print an estimate.\n",
        "\n",
        "At the end of the main we have some code to print the true average encounters it should take. Compare that value to your experimentally-determined value and see how close we got!"
      ]
    },
    {
      "cell_type": "code",
      "metadata": {
        "id": "-pxKGInteUGz",
        "colab_type": "code",
        "colab": {
          "base_uri": "https://localhost:8080/",
          "height": 51
        },
        "outputId": "637b0531-dcbe-4295-e0e5-2fbb6b0abdbb"
      },
      "source": [
        "def see_all_monsters(n_monsters):\n",
        "    encountered_monsters = set()\n",
        "    num_encounters = 0\n",
        "    # treat each monster as a number 1-50 (1-n_monsters)\n",
        "    while len(encountered_monsters) < n_monsters:\n",
        "      num_encounters += 1\n",
        "      monster = np.random.randint(low=1, high=n_monsters+1) # {1,2,3,....,n_monsters}\n",
        "      encountered_monsters.add(monster)\n",
        "    return num_encounters\n",
        "\n",
        "def sim_trials(n_trials, n_monsters):\n",
        "    total_encounters = 0\n",
        "    for i in range(n_trials):\n",
        "      total_encounters += see_all_monsters(n_monsters)\n",
        "    est_avg_encounters = total_encounters / n_trials\n",
        "    print(\"Estimated Average: {}\".format(est_avg_encounters))\n",
        "\n",
        "if __name__ == \"__main__\":\n",
        "    n = 75\n",
        "    sim_trials(n_trials=5000, n_monsters=n)\n",
        "\n",
        "    # Some code to calculate the theoretical average\n",
        "    print(\"True Average: {}\".format(n * np.sum(1/np.arange(1, n+1))))"
      ],
      "execution_count": null,
      "outputs": [
        {
          "output_type": "stream",
          "text": [
            "Estimated Average: 367.7372\n",
            "True Average: 367.6016722914785\n"
          ],
          "name": "stdout"
        }
      ]
    },
    {
      "cell_type": "markdown",
      "metadata": {
        "id": "q3aTR2KoenjK",
        "colab_type": "text"
      },
      "source": [
        "# Codealong - Plotting Probability\n",
        "Use your code from earlier for ping pong, to make a carefully labelled plot with:\n",
        "\n",
        "  * The x-axis being the probability of winning a point (p)\n",
        "  * The y-axis being the estimated probability of winning the 7-point game as a function of p.\n",
        "\n",
        "Plot for values of p between 0 to 1 in increments of 0.01.\n",
        "\n",
        "Do this by putting your code that was in main before in a function called `sim_trials` and running that function in main within a loop to generate results!\n",
        "\n",
        "Hint: Use `numpy` to store your results!\n",
        "\n",
        "Your final output should look something like:\n",
        "\n",
        "![alt text](data:image/png;base64,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)"
      ]
    },
    {
      "cell_type": "code",
      "metadata": {
        "id": "p6eZ5tL1e7yu",
        "colab_type": "code",
        "colab": {
          "base_uri": "https://localhost:8080/",
          "height": 469
        },
        "outputId": "c2e86df5-625a-40fe-b5b0-e2dc23d07748"
      },
      "source": [
        "def simulate_ping_pong(p, max_score=7):\n",
        "    # TODO: write your code here\n",
        "    # Return True if p1 wins, False if p2 wins\n",
        "    # p1, p2 scores start at 0. until someone has 7 points, randomly give a point to winner\n",
        "\n",
        "    p1_score, p2_score = 0, 0\n",
        "    while p1_score < max_score and p2_score < max_score:\n",
        "      point = np.random.binomial(1, p) # num of heads in 1 coin flip, P(head)=p\n",
        "      if point == 1: # point=1 with probability p, and 0 with probability 1-p\n",
        "        p1_score += 1\n",
        "      else: # point == 0\n",
        "        p2_score += 1\n",
        "    # stop when one person reaches 7. guaranteed that either p1_score == 7 OR p2_score == 7\n",
        "    return p1_score > p2_score # p1_score == 7\n",
        "    # if p1_score == 7:\n",
        "    #   return True\n",
        "    # else:\n",
        "    #   return False\n",
        "\n",
        "def sim_trials(n, p):\n",
        "    count = 0\n",
        "    for i in range(n): # repeat the game 100000 times\n",
        "      # if we won the game, add one to count\n",
        "      if simulate_ping_pong(p=p, max_score=7):\n",
        "        count += 1\n",
        "    prob_est = count / n\n",
        "    return prob_est\n",
        "    # print(prob_est)\n",
        "\n",
        "if __name__ == \"__main__\":\n",
        "    # TODO: Write code to calculate the probabilities\n",
        "    probs = np.arange(0, 1.01, 0.01) # start at 0, end at 1.01 (exclusive), go up by 0.01\n",
        "    results = []\n",
        "    for p in probs:\n",
        "      results.append(sim_trials(n=5000, p=p))\n",
        "    print(probs)\n",
        "    print(results)\n",
        "    plt.xlabel(\"Prob of winning a point\")\n",
        "    plt.ylabel(\"Prob of winning a 7-point game\")\n",
        "    plt.title(\"P(win game) vs P(win point)\")\n",
        "    plt.plot(probs, results)\n",
        "    plt.show()\n",
        "    # TODO: Write code to plot the figure"
      ],
      "execution_count": null,
      "outputs": [
        {
          "output_type": "stream",
          "text": [
            "[0.   0.01 0.02 0.03 0.04 0.05 0.06 0.07 0.08 0.09 0.1  0.11 0.12 0.13\n",
            " 0.14 0.15 0.16 0.17 0.18 0.19 0.2  0.21 0.22 0.23 0.24 0.25 0.26 0.27\n",
            " 0.28 0.29 0.3  0.31 0.32 0.33 0.34 0.35 0.36 0.37 0.38 0.39 0.4  0.41\n",
            " 0.42 0.43 0.44 0.45 0.46 0.47 0.48 0.49 0.5  0.51 0.52 0.53 0.54 0.55\n",
            " 0.56 0.57 0.58 0.59 0.6  0.61 0.62 0.63 0.64 0.65 0.66 0.67 0.68 0.69\n",
            " 0.7  0.71 0.72 0.73 0.74 0.75 0.76 0.77 0.78 0.79 0.8  0.81 0.82 0.83\n",
            " 0.84 0.85 0.86 0.87 0.88 0.89 0.9  0.91 0.92 0.93 0.94 0.95 0.96 0.97\n",
            " 0.98 0.99 1.  ]\n",
            "[0.0, 0.0, 0.0, 0.0, 0.0, 0.0, 0.0, 0.0, 0.0, 0.0, 0.0, 0.0004, 0.0, 0.0002, 0.0004, 0.0016, 0.0016, 0.003, 0.0056, 0.0042, 0.0098, 0.0082, 0.0142, 0.0156, 0.023, 0.0258, 0.0316, 0.037, 0.0424, 0.0506, 0.0636, 0.072, 0.0826, 0.1032, 0.1178, 0.1312, 0.1476, 0.1618, 0.1874, 0.2034, 0.2326, 0.264, 0.2856, 0.2976, 0.3238, 0.3534, 0.3902, 0.402, 0.4428, 0.474, 0.5126, 0.526, 0.565, 0.5808, 0.6192, 0.6384, 0.6768, 0.7, 0.7268, 0.753, 0.7728, 0.7938, 0.8124, 0.8382, 0.8482, 0.874, 0.8846, 0.8996, 0.917, 0.9272, 0.9382, 0.9474, 0.956, 0.9634, 0.9726, 0.977, 0.9808, 0.983, 0.9884, 0.9906, 0.994, 0.9924, 0.9958, 0.998, 0.9978, 0.9984, 0.9994, 0.9998, 0.9998, 0.9998, 1.0, 1.0, 1.0, 1.0, 1.0, 1.0, 1.0, 1.0, 1.0, 1.0, 1.0]\n"
          ],
          "name": "stdout"
        },
        {
          "output_type": "display_data",
          "data": {
            "image/png": "[encoded data removed]",
            "text/plain": [
              "<Figure size 432x288 with 1 Axes>"
            ]
          },
          "metadata": {
            "tags": [],
            "needs_background": "light"
          }
        }
      ]
    }
  ]
}