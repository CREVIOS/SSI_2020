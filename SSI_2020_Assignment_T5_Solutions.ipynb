{
  "nbformat": 4,
  "nbformat_minor": 0,
  "metadata": {
    "colab": {
      "name": "SSI 2020 Assignment T5 Solutions.ipynb",
      "provenance": [],
      "include_colab_link": true
    },
    "kernelspec": {
      "name": "python3",
      "display_name": "Python 3"
    }
  },
  "cells": [
    {
      "cell_type": "markdown",
      "metadata": {
        "id": "view-in-github",
        "colab_type": "text"
      },
      "source": [
        "<a href=\"https://colab.research.google.com/github/CREVIOS/SSI_2020/blob/master/SSI_2020_Assignment_T5_Solutions.ipynb\" target=\"_parent\"><img src=\"https://colab.research.google.com/assets/colab-badge.svg\" alt=\"Open In Colab\"/></a>"
      ]
    },
    {
      "cell_type": "markdown",
      "metadata": {
        "id": "gkF5cmJ0IBbk",
        "colab_type": "text"
      },
      "source": [
        "# **[Optional] Assignment T5 Solutions**\n",
        "\n",
        "*Assignment written by Naveen Durvasula, Franklyn Wang, and Adam Pahlavan*\n",
        "\n",
        "In the following optional assignment, you will get further practice with concepts in \"traditional\" statistics such as survey design, hypothesis testing, confidence intervals, and more. A dual understanding of both useful machine learning tools and core concepts in \"traditional\" statistics is critical to doing rigorous and analytical data science research.\n",
        "\n",
        "We made the following assignment optional because in theory it is possible to do data science research without being too familiar with the tools presented in this assignment. That being said, understanding core concepts in traditional statistics such as understanding sources of biases and determining when relationships are statistically significant are quintessential to developing a more rigorous framework for approaching data science research.\n"
      ]
    },
    {
      "cell_type": "markdown",
      "metadata": {
        "id": "sGXImLQvIQGr",
        "colab_type": "text"
      },
      "source": [
        "## **Problem 1: Survey Design**\n",
        "\n",
        "In this problem, you will be asked to identify biases in two survey designs. Please refer to Research Lecture 3.5 to recall information about various biases including undercoverage, nonresponse, voluntary response, convenience sample, and nonsampling bias (which includes wording bias, questioner bias, and lying bias)."
      ]
    },
    {
      "cell_type": "markdown",
      "metadata": {
        "id": "pzWq6Y2qEVx9",
        "colab_type": "text"
      },
      "source": [
        "## **Save a Copy in Drive**\n",
        "\n",
        "BEFORE YOU DO ANYTHING ELSE, make sure you save a copy of this Colab Notebook in your Google Drive. If you don't, none of your work will be saved!"
      ]
    },
    {
      "cell_type": "markdown",
      "metadata": {
        "id": "cRc8WajdIcqK",
        "colab_type": "text"
      },
      "source": [
        "### **Part (a): Surveying Parents About Distanced Learning**\n",
        "\n",
        "To continue her project after the end of the summer, an eager SSI student aims to understand the attitudes of a typical parent in the United States towards the shift towards distanced learning due to COVID-19. The student gets lucky and finds an online yellowbook of sorts that contains all active landline phone numbers in Maine. The student calls every phone number from a simple random sample of this list at a random time between the hours of 12pm and 4pm on a Monday.\n",
        "\n",
        "Please (1) identify the population, (2) list sources of statistical bias, and (3) for each source of bias, identify a reasonable way the SSI student can mitigate the bias.\n",
        "\n",
        "*Hint: You should be able to identify at least three sources of statistical bias*."
      ]
    },
    {
      "cell_type": "markdown",
      "metadata": {
        "id": "KbcyOlJtI5Er",
        "colab_type": "text"
      },
      "source": [
        "---\n",
        "\n",
        "\n",
        "*Solution:*\n",
        "\n",
        "*   The population consists of all American parents. \n",
        "*   **Undercoverage Bias:** As the sampling frame consists only of Americans that have landline phone numbers, the sampling frame differs significantly from the population. This can be resolved by using emails or also including cell phone numbers in the sampling frame. \n",
        "*   **Nonresponse Bias:** As Monday is a weekday, any working parents will be unable to answer the phone between the hours of 12pm and 4pm. As a reslt, stay-at-home parents will primarily respond. This can be resolved by expanding the calling time window.\n",
        "*   **Convenience Sample:** We only sampled phone numbers from Maine. This is a harder problem to solve, but we can try to see if similar landline directories exist for all 50 states. It is often not easy to fix problems created by a convenience sample."
      ]
    },
    {
      "cell_type": "markdown",
      "metadata": {
        "id": "6kqUpJ4UU2qy",
        "colab_type": "text"
      },
      "source": [
        "### **Part (b): Creating Video Games for Kindergarten Education**\n",
        "\n",
        "After conducting her survey, our eager SSI student found that the biggest pain point for distanced learning were for parents with children in kindergarten. Inspired by Jenny's Masterclass, our student has the idea to develop an educational video game for students in kindergarten.\n",
        "\n",
        "Before embarking on her project, the student wants to perform due diligence to see if parents of American children in kindergarten would be receptive towards letting their kids play video games as a form of education. To do this, our student posts a one-question anonymous poll on a few kindergarten parenting blogs asking one question: \"Do you think playing video games is a waste of time?\"\n",
        "\n",
        "Please (1) identify the population, (2) list sources of statistical bias, and (3) for each source of bias, identify a reasonable way the SSI student can mitigate the bias.\n",
        "\n",
        "*Hint: You should be able to identify at least two sources of statistical bias*"
      ]
    },
    {
      "cell_type": "markdown",
      "metadata": {
        "id": "HWMlpqWiXOOG",
        "colab_type": "text"
      },
      "source": [
        "---\n",
        "\n",
        "\n",
        "*Solution:*\n",
        "*   The population consists of all American parents of children in kindergarten. \n",
        "*   **Wording Bias:** Including the phrase \"is a waste of time\" in the question primes the poll responder to think that games are a waste of time. Also, the question never mentions that the games will be geared towards an educational purpose. A better way to phrase the question is: *On a scale of 1-10, how beneficial do you think video games could be as an alernative educational format for kindergarten students in distanced learning settings?*\n",
        "*   **Undercoverage Bias:** The sampling frame undercovers because we are only hearing from parents that use parenting blogs. A better way to create a sampling frame would be to get a directory of all American parents of kindergarten students and to sample randomly from this frame.\n",
        "*   **Nonresponse Bias:** Those who respond to the survey are more likely to have strong opinions on the topic and are probably more likely to think video games are a waste of time. One way to solve this would be to somehow ensure that all parents chosen to be surveyed complete the survey. One way to do this is to get binding consent from parents to answer the survey before the survey questions are actually released."
      ]
    },
    {
      "cell_type": "markdown",
      "metadata": {
        "id": "EnhXSOaiIo3d",
        "colab_type": "text"
      },
      "source": [
        "## **Problem 2: Confidence Intervals and Hypothesis Testing**\n",
        "\n",
        "In this problem, you will be asked to go through numerous examples of constructing confidence intervals and performing hypothesis tests.\n",
        "\n",
        "*Resources:* You can find a normal chart [here](https://ux1.eiu.edu/~aalvarado2/z_table.pdf), a $t$-distribution calculator [here](https://stattrek.com/online-calculator/t-distribution.aspx), and the $df$ calculator for differences of means [here](https://web.archive.org/web/20190318150148/http://web.utk.edu/~cwiek/TwoSampleDoF).\n",
        "\n",
        "For each of these problems, please (1) make a drawing of the sampling distribution and shade the appropriate regions, and (2) write a sentence interpreting your result. Be sure to check statistical assumptions (both sufficiently large sample size and unbiased sample) and state the consequences of these assumptions being met or not met. Proceed with the analysis even if assumptions are not met. "
      ]
    },
    {
      "cell_type": "markdown",
      "metadata": {
        "id": "9uuVtcLlIwO6",
        "colab_type": "text"
      },
      "source": [
        "### **Part (a): Cafeteria Food at Biomimicra**\n",
        "\n",
        "After listening to Marco's Masterclass, another ambitious SSI student decides that he wants to try working at a startup next summer. After SSI, our student works extremely hard to improve his programming skills and follows Marco's advice on how to reach out to startups starting in October. By March, our student has received internships offers from two different fictional startups in the biotechnology space: Biomimicra and Genefuture. Our student is trying to decide which internship offer to accept. Of course, the most important item to consider for both startups is the quality of the food served by the chefs at the company cafeteria.\n",
        "\n",
        "Our student reaches out to the human resources (HR) department at Biomimicra and obtains a list of all employees. He contacts $100$ employees through a simple random sample and asks members of the sample if they thought the cafeteria food was good or bad. Of the $100$ surveyed, $3$ respondents said that they believed the food was good. Construct a $34\\%$ confidence interval for the proportion of employees at Biomimicra who believe that the dining hall food is good. "
      ]
    },
    {
      "cell_type": "markdown",
      "metadata": {
        "id": "FAO0EIxiIwAb",
        "colab_type": "text"
      },
      "source": [
        "---\n",
        "\n",
        "*Solution:*\n",
        "\n",
        "We first check our assumptions: \n",
        "* As $.03\\cdot100 = 3 < 10$, we might not have convergence of the CLT. We proceed with the analysis anyways.\n",
        "* Since we have taken a simple random sample, the sample is unbiased: the mean of the sampling distribution is equal to the true proportion of people who believe that the dining hall food is good.\n",
        "\n",
        "We have that $\\hat{p} = 0.03$. We therefore approximate the population standard deviation as $\\sigma \\approx S = \\sqrt{\\hat{p}(1-\\hat{p})} \\approx .171$. Thus, we have that\n",
        "    $$\\sigma_{\\hat{p}} \\approx \\frac{S}{\\sqrt{100}} = .0171$$\n",
        "\n",
        "For a $33\\%$ confidence interval, we would need $34\\%$ on each side of the tail. Thus, we find the $z$-score associated to $.66$. Using the chart, we find that this critical $z$-score is $.41$. \n",
        "\n",
        "Thus, our confidence interval is given by\n",
        "\n",
        "$$[.03 - .41(.0171), .03 + .41(.0171)] \\approx [.023, .037]$$\n",
        "\n",
        "![](https://i.ibb.co/HH4MtRD/HW4-Density-Curves.png)\n",
        "\n",
        "We are $33\\%$ confident that between $2.3\\%$ and $3.7\\%$ of students believe that the cafeteria food is good. This means that if we were to take many samples and construct many intervals using this process, approximately $33\\%$ of them would contain the true percentage of employeees that believe that the cafeteria food is good.\n",
        "    \n",
        "   "
      ]
    },
    {
      "cell_type": "markdown",
      "metadata": {
        "id": "0hgznmtElohY",
        "colab_type": "text"
      },
      "source": [
        "### **Part (b): Retraining Chefs at Biomimicra**\n",
        "\n",
        "The chefs at Biomimicra will be forced to go back to cooking school if fewer than $5\\%$ of employees approve of the food. Conduct a $z$-test at the $10\\%$ significance level to determine the fate of the chefs."
      ]
    },
    {
      "cell_type": "markdown",
      "metadata": {
        "id": "dfkfH69WnqKB",
        "colab_type": "text"
      },
      "source": [
        "\n",
        "\n",
        "---\n",
        "*Solution:*\n",
        "\n",
        "We first state the null and alternative hypotheses:\n",
        "    $$[H_0: p = .05]$$\n",
        "    $$[H_A: p < .05]$$\n",
        "    Since we checked statistical assumptions before, we don't have to check them again. Under the null hypothesis, the standard deviation of the sampling distribution is\n",
        "    $$\\sigma_{\\hat{p}} \\approx \\frac{\\sqrt{.05\\cdot.95}}{\\sqrt{100}} \\approx .0218$$\n",
        "    We can now find the $z$-score\n",
        "    $$z = \\frac{.03-.05}{.0218} \\approx -.92$$\n",
        "\n",
        "![alt text](https://i.ibb.co/QQj9YMs/hw4-ztest-1.png)\n",
        "\n",
        "Using the normal chart, we can find that the $p$-value is $.1788$. In other words, if we were to take many samples, approximately $17.88\\%$ of them would have results as or more extreme as these, relative to the alternative hypothesis. As this is greater than our significance level of $10\\%$, we failed to reject the null hypothesis. Thus, the chefs don't have to go back to cooking school.\n",
        "    "
      ]
    },
    {
      "cell_type": "markdown",
      "metadata": {
        "id": "CnntNterpRBU",
        "colab_type": "text"
      },
      "source": [
        "### **Part (c): Cafeteria Food at Genefuture**\n",
        "\n",
        "Meanwhile, our student reaches out to HR at Genefuture to obtain a similar list of all employees. He then contacts $200$ employees through a simple random sample, and finds that $10$ respondents believed that the food was good. Conduct a two-proportion $z$-test at the $5\\%$ significance level to determine if students prefer the food at Genefuture more."
      ]
    },
    {
      "cell_type": "markdown",
      "metadata": {
        "id": "nA0wzM_Zpn4I",
        "colab_type": "text"
      },
      "source": [
        "\n",
        "\n",
        "---\n",
        "\n",
        "*Solution:*\n",
        "\n",
        "We check statistical assumptions:\n",
        "* As before, $.03\\cdot100 = 3 < 10$, so we might not have convergence of the CLT. We proceed with the analysis anyways.\n",
        "* Since the samples for Genefuture are also SRS, the mean of the sampling distribution of the difference of proportions is equal to the true difference of proportions\n",
        "\n",
        "We now state the null and alternative hypotheses:\n",
        "    $$H_0: p_S - p_V = 0$$\n",
        "    $$H_A: p_S - p_V < 0$$\n",
        "\n",
        "We have that $\\hat{p}_S = .03$ and $\\hat{p}_V = .05$. Thus, we have that $\\hat{p} = -.02$. To approximate the standard deviation of the sampling distribution, we find the pooled probability\n",
        "\n",
        "$$\\hat{p}_{pooled} = \\frac{3 + 10}{300} \\approx .0433$$\n",
        "\n",
        "This gives us that $\\sigma_{\\hat{p}_S - \\hat{p}_V} \\approx \\sqrt{\\frac{.0433(1-.0433)}{100} + \\frac{.0433(1-.0433)}{200}} \\approx .0249$. Now we can compute the $z$-score\n",
        "    $$z = \\frac{-.02 - 0}{.0249} \\approx -0.80$$\n",
        "![alt text](https://i.ibb.co/k68RgRv/hw4-pool.png)\n",
        "\n",
        "Using our normal chart, we find that the $p$-value is $0.2119$. This means that if we were to take many samples, approximately $21.19\\%$ of them will have results as or more extreme as these, relative to the alternative hypothesis. As this is more than the significance level of $5\\%$, we fail to reject the null hypothesis and conclude that the cafeteria food at Genefuture is preferred more by students."
      ]
    },
    {
      "cell_type": "markdown",
      "metadata": {
        "colab_type": "text",
        "id": "I-BzMJUsuv0X"
      },
      "source": [
        "### **Part (d): Chef Salary at Biomimicra**\n",
        "\n",
        "Our student now wants to understand the chefs' side of the story at Biomimicra. He walks into one of the cafeterias and talks to the first $50$ chefs encountered, finding that the average salary among those selected was $\\$1,000,000$ per year with a sample standard deviation of $\\$200,000$. Construct a $73\\%$ confidence interval for the mean salary of the chefs."
      ]
    },
    {
      "cell_type": "markdown",
      "metadata": {
        "id": "0YLF3m_Twdoo",
        "colab_type": "text"
      },
      "source": [
        "\n",
        "\n",
        "---\n",
        "*Solution:*\n",
        "\n",
        "We first check statistical assumptions.\n",
        "* Since $n > 40$, we can be pretty sure of CLT convergence. \n",
        "* Since the student took a convenience sample, the mean of the sampling distribution may not be the true average salary of a chef at Biomimicra. \n",
        "\n",
        "Let $\\mu$ denote the average salary of the chefs. The standard deviation of the sampling distribution may be calculated as \n",
        "    $$\\sigma_{\\hat{\\mu}} \\approx \\frac{200000}{\\sqrt{50}} \\approx 28284.27$$\n",
        "    Since we have $50$ samples, we use a $t$-distribution with $49$ degrees of freedom. Furthermore, as we are constructing a $73\\%$ confidence interval, the tail probability is $13.5\\%$. Thus, we find the critical $t$-score by entering $.865$ into the $t$-distribution calculator. We find that the critical $t$-score is $1.116$. Our confidence interval is therefore given by\n",
        "\n",
        "$$[1000000 - 1.116(28284.27), 1000000 + 1.116(28284.27)] \\approx [968434.76, 1031565.25]$$\n",
        "\n",
        "![alt text](https://i.ibb.co/YBdvVrY/hw4-p24.png)  \n",
        "\n",
        "We are $73\\%$ confident that the average salary of a chef at Biomimicra is between $\\$968434.76$ and $\\$1031565.25$. This means that if we were to take many samples and create many intervals, approximately $73\\%$ of them would contain the true average salary. "
      ]
    },
    {
      "cell_type": "markdown",
      "metadata": {
        "colab_type": "text",
        "id": "jeTGS97MxvRM"
      },
      "source": [
        "### **Part (e): Becoming a Chef?**\n",
        "\n",
        "Every since learning about the chef salary at Biomimicra, our student has had thoughts of turning down his engineering internship offer and re-applying to be a chef. He'll apply if he's extremely confident that the average salary is greater than $\\$500,000$ per year. Conduct a $t$-test at the $0.5\\%$ significance level to determine whether he applies to be a chef."
      ]
    },
    {
      "cell_type": "markdown",
      "metadata": {
        "colab_type": "text",
        "id": "AIgdsEH5xvRN"
      },
      "source": [
        "\n",
        "\n",
        "---\n",
        "*Solution:*\n",
        "\n",
        "We state the null and alternative hypotheses:\n",
        "        $$H_0: \\mu = \\$500,000$$\n",
        "        $$H_A: \\mu > \\$500,000$$\n",
        "\n",
        "We already checked the statistical assumptions for this problem in the last problem. Since we have $50$ samples, the sampling distribution is a $t$-distribution with $49$ degrees of freedom. Using the standard error approximation, we find that the standard deviation of the sampling distribution is given by\n",
        "$$\\sigma_{\\hat{\\mu}} \\approx \\frac{\\$200,000}{\\sqrt{50}} = \\$28,284$$\n",
        "\n",
        "Since the sample mean is $1,000,000$,  $t = \\frac{\\$1,000,000 - \\$500,000}{\\$28,284} = 17.7$.\n",
        "\n",
        "Using the $t$-distribution calculator, we compute the $p$-value as $p = 3.14 \\times 10^{-23}$. In other words, if we were to take many samples, nearly none of them will have results as (or more) extreme as these, relative to the alternative hypothesis. As the $p$-value is (far) below the significance threshold of $0.5\\%$, we reject the null hypothesis, concluding that our SSI student should apply to be a chef."
      ]
    },
    {
      "cell_type": "markdown",
      "metadata": {
        "colab_type": "text",
        "id": "NLwyK7ODy2XG"
      },
      "source": [
        "### **Part (f): Chefs vs. Engineers at Biomimicra**\n",
        "\n",
        "Seeing that the chefs are very well-paid, our student decides to interview some of the engineers. The student identifies $100$ engineers from a list he receives from HR through a simple random sample. The student finds that the average salary among those selected was $\\$5,000$ with a sample standard deviation of $\\$50$. Construct a 99.90\\% confidence interval for the average difference between the chefs' pay and the engineers' pay (that is, chefs' salary $-$ engineers' salary)."
      ]
    },
    {
      "cell_type": "markdown",
      "metadata": {
        "id": "v_fqYr9Y0wfC",
        "colab_type": "text"
      },
      "source": [
        "---\n",
        "*Solution:*\n",
        "\n",
        "We first check statistical assumptions:\n",
        "* As $n > 40$, we can assume that the sampling distribution is a $t$-distribution from the CLT.\n",
        "* This sampling process is a simple random sample of all engineers (as HR knows everyone), so it's fine. \n",
        "\n",
        "The mean of the sampling distribution is simply the difference of the means, which is $\\$995,000$. The standard deviation of the sampling distribution can be computed with the Pythagorean theorem of statistics: \n",
        "\n",
        "$$\\sigma_{\\hat{\\mu}} \\approx \\sqrt{\\frac{\\$200,000^2}{50} + \\frac{\\$50^2}{100}} \\approx \\$28,284.27$$\n",
        "\n",
        "It remains to determine the shape of the sampling distribution. The sampling distribution is approximately $t$-distribution with degrees of freedom that we can calculate with the formula. We obtain an answer of $49$ degrees of freedom. The critical $t$-statistic needed to obtain this is given by $-3.500$, which leads to a confidence interval of $$[995000 - 3.5 \\times 28284.27, 995000 + 3.5 \\times 28284.27 ] \\approx [895993, 1094007]$$\n",
        "\n",
        "![alt text](https://i.ibb.co/qdz2pDb/hw4-p26-1.png)\n",
        "\n",
        "We are $99.9\\%$ confident that chefs at Biomimicra are paid between $\\$895,993$ and $\\$1,094,007$ more than the engineers. This means that if we were to take many samples and construct many intervals, approximately $99.9\\%$ of them would contain the true average pay difference. "
      ]
    },
    {
      "cell_type": "markdown",
      "metadata": {
        "id": "p9HaTCRHEKZ9",
        "colab_type": "text"
      },
      "source": [
        "## **[Challenge] Problem 3: Cauchy Distribution**\n",
        "\n",
        "In this problem, we will explore the properties of the Cauchy distribution, a very interesting distribution. *Interesting* is perhaps too kind of a word for it. It has many bizzare properties, but we will only get to a fraction of them here.  We will first explore two parametrizations of the Cauchy distribution. This is a very deep topic but will hopefully achieve two objectives: \n",
        "\n",
        "* Give a glimpse into the power of representations to do statistics. \n",
        "* Show how leveraging computer power can make seemingly impossible problems become very doable. \n",
        "\n",
        "In the course of this assignment, we will recreate many results in statistics. Remarkably, we'll be able to see many things with just simulations. To generate $n$ samples from a standard normal one can use the function `np.random.randn(n)`\n",
        "\n",
        "Let $X$ be a random normal variable with mean $0$ and variance $1$. Let $Y$ be an independent random variable with mean $0$ and variance one. Now, let's do the following exercises, mostly aimed at understanding the mysterious distribution $$C = \\frac{X}{Y}$$\n",
        "which is known as the *Cauchy distribution*."
      ]
    },
    {
      "cell_type": "code",
      "metadata": {
        "id": "Frtjv5pzq2vi",
        "colab_type": "code",
        "colab": {}
      },
      "source": [
        "import numpy as np\n",
        "\n",
        "import sklearn\n",
        "from sklearn.neighbors import KernelDensity\n",
        "import math\n",
        "import matplotlib.pyplot as plt\n",
        "\n",
        "def plot_kde(samp):\n",
        "    #plt.hist(arr, bins = 20)\n",
        "    kde = KernelDensity(kernel='gaussian', bandwidth=0.05).fit(samp.reshape(-1, 1))\n",
        "    X_plot = np.linspace(-5, 5, 300)\n",
        "    log_dens = kde.score_samples(X_plot.reshape(-1, 1))\n",
        "    plt.plot(X_plot, np.exp(log_dens), c = \"red\", linewidth = 1)\n",
        "\n",
        "    "
      ],
      "execution_count": null,
      "outputs": []
    },
    {
      "cell_type": "markdown",
      "metadata": {
        "id": "N1mQltenq5Oy",
        "colab_type": "text"
      },
      "source": [
        "Many times here, we will attempt to get a glimpse into a density curve. In order to compute the density curve given samples, you can simply call the function *plot_kde*. \n",
        "\n",
        "Example usage: *plot_kde([1, 2, 3])*\n",
        "\n",
        "*plot_kde* relies on Kernel Density Estimation, a technique we discussed in Lecture 2.4. "
      ]
    },
    {
      "cell_type": "markdown",
      "metadata": {
        "id": "z_IrP6dHFXxx",
        "colab_type": "text"
      },
      "source": [
        "### **Part (a)**\n",
        "\n",
        "Devise a method to find sample repeatedly from the distribution $X / Y$. For this part, and with subsequent parts, draw 100,000 samples from the distribution. "
      ]
    },
    {
      "cell_type": "markdown",
      "metadata": {
        "id": "RbzfaObls9ko",
        "colab_type": "text"
      },
      "source": [
        "---\n",
        "*Solution:*\n"
      ]
    },
    {
      "cell_type": "code",
      "metadata": {
        "id": "DoddrmkcqzQO",
        "colab_type": "code",
        "colab": {}
      },
      "source": [
        "X = np.random.randn(100000)\n",
        "Y = np.random.randn(100000)\n",
        "C = X / Y"
      ],
      "execution_count": null,
      "outputs": []
    },
    {
      "cell_type": "markdown",
      "metadata": {
        "id": "jh_Y-dwUFgoY",
        "colab_type": "text"
      },
      "source": [
        "### **Part (b)**\n",
        "\n",
        "We are interested in discovering the true distribution of $X / Y$. However, we only have samples. How can we find the distribution? We can use a histogram. Draw a histogram with $30$ bins to show the distribution of $C$. This picture will be useless: explain why."
      ]
    },
    {
      "cell_type": "markdown",
      "metadata": {
        "id": "-6K5KzUwtBNm",
        "colab_type": "text"
      },
      "source": [
        "---\n",
        "*Solution:*"
      ]
    },
    {
      "cell_type": "code",
      "metadata": {
        "id": "VwkjXuXgtCyp",
        "colab_type": "code",
        "colab": {
          "base_uri": "https://localhost:8080/",
          "height": 527
        },
        "outputId": "0326d4ad-6c53-4acd-b861-8dd49060c087"
      },
      "source": [
        "plt.hist(C, bins = 30)"
      ],
      "execution_count": null,
      "outputs": [
        {
          "output_type": "execute_result",
          "data": {
            "text/plain": [
              "(array([1.0000e+00, 0.0000e+00, 0.0000e+00, 0.0000e+00, 0.0000e+00,\n",
              "        3.0000e+00, 1.0000e+00, 2.0000e+00, 8.2000e+01, 9.9896e+04,\n",
              "        6.0000e+00, 4.0000e+00, 2.0000e+00, 0.0000e+00, 1.0000e+00,\n",
              "        0.0000e+00, 0.0000e+00, 0.0000e+00, 0.0000e+00, 1.0000e+00,\n",
              "        0.0000e+00, 0.0000e+00, 0.0000e+00, 0.0000e+00, 0.0000e+00,\n",
              "        0.0000e+00, 0.0000e+00, 0.0000e+00, 0.0000e+00, 1.0000e+00]),\n",
              " array([-30948.67581868, -27557.42137452, -24166.16693035, -20774.91248619,\n",
              "        -17383.65804202, -13992.40359786, -10601.14915369,  -7209.89470953,\n",
              "         -3818.64026536,   -427.3858212 ,   2963.86862297,   6355.12306713,\n",
              "          9746.3775113 ,  13137.63195546,  16528.88639962,  19920.14084379,\n",
              "         23311.39528795,  26702.64973212,  30093.90417628,  33485.15862045,\n",
              "         36876.41306461,  40267.66750878,  43658.92195294,  47050.17639711,\n",
              "         50441.43084127,  53832.68528543,  57223.9397296 ,  60615.19417376,\n",
              "         64006.44861793,  67397.70306209,  70788.95750626]),\n",
              " <a list of 30 Patch objects>)"
            ]
          },
          "metadata": {
            "tags": []
          },
          "execution_count": 19
        },
        {
          "output_type": "display_data",
          "data": {
            "image/png": "[encoded data removed]",
            "text/plain": [
              "<Figure size 432x288 with 1 Axes>"
            ]
          },
          "metadata": {
            "tags": [],
            "needs_background": "light"
          }
        }
      ]
    },
    {
      "cell_type": "markdown",
      "metadata": {
        "id": "rl2iUW8_dcqh",
        "colab_type": "text"
      },
      "source": [
        "The problem with this picture is that the histogram requires all the data to be on the chart. "
      ]
    },
    {
      "cell_type": "markdown",
      "metadata": {
        "id": "-2UPFcn-Fs_A",
        "colab_type": "text"
      },
      "source": [
        "### **Part (c)**\n",
        "\n",
        "Generally speaking, when you get more and more samples from the distribution $X$ and want to estimate the mean of a distribution $X$, you can take averages of the samples, and as you get more and more samples you will get closer and closer to the correct mean (known as the law of large numbers). First, do this with coin flips to get your feet wet. Create a graph where the x-axis shows the number of coin flips, and the y-axis is the average number of heads in n coin flips. "
      ]
    },
    {
      "cell_type": "markdown",
      "metadata": {
        "id": "NXmnLjNBtIXi",
        "colab_type": "text"
      },
      "source": [
        "---\n",
        "*Solution:*"
      ]
    },
    {
      "cell_type": "code",
      "metadata": {
        "id": "jvJCzzWntJhx",
        "colab_type": "code",
        "colab": {
          "base_uri": "https://localhost:8080/",
          "height": 265
        },
        "outputId": "0fa68f73-0933-4701-fda3-abb5b0eee807"
      },
      "source": [
        "import scipy.stats as stats\n",
        "def mean_of_coins(n):\n",
        "    rv = stats.bernoulli(0.5)\n",
        "    a = rv.rvs(n)\n",
        "    return a.astype(float).mean()\n",
        "  \n",
        "xs = np.array([i for i in range(1, 300)])\n",
        "ys = np.zeros_like(xs)\n",
        "ys = ys.astype(float)\n",
        "for i in range(len(xs)):\n",
        "    ys[i] = mean_of_coins(xs[i])\n",
        "plt.plot(xs, ys)\n",
        "plt.show()\n"
      ],
      "execution_count": null,
      "outputs": [
        {
          "output_type": "display_data",
          "data": {
            "image/png": "[encoded data removed]",
            "text/plain": [
              "<Figure size 432x288 with 1 Axes>"
            ]
          },
          "metadata": {
            "tags": [],
            "needs_background": "light"
          }
        }
      ]
    },
    {
      "cell_type": "markdown",
      "metadata": {
        "id": "mEf-r_IxGC0n",
        "colab_type": "text"
      },
      "source": [
        "### **Part (d)**\n",
        "\n",
        "Now, do the same thing, except instead of doing it for coin flips do it for $n$ samples of a Cauchy random variable. "
      ]
    },
    {
      "cell_type": "markdown",
      "metadata": {
        "id": "UPUeFJE8eJ5v",
        "colab_type": "text"
      },
      "source": [
        "---\n",
        "*Solution:*"
      ]
    },
    {
      "cell_type": "code",
      "metadata": {
        "id": "F5QlTR7ceLDA",
        "colab_type": "code",
        "colab": {
          "base_uri": "https://localhost:8080/",
          "height": 265
        },
        "outputId": "b0ae32ca-65f6-4144-d09c-35e42dbe886c"
      },
      "source": [
        "def mean_of_cauchy(n):\n",
        "    X = np.random.randn(n)\n",
        "    Y = np.random.randn(n)\n",
        "    C = X / Y\n",
        "    return C.mean()\n",
        "\n",
        "xs = np.array([i for i in range(1, 300)])\n",
        "ys = np.zeros_like(xs)\n",
        "for i in range(len(xs)):\n",
        "    ys[i] = mean_of_cauchy(xs[i])\n",
        "plt.plot(xs, ys)\n",
        "plt.show()\n"
      ],
      "execution_count": null,
      "outputs": [
        {
          "output_type": "display_data",
          "data": {
            "image/png": "[encoded data removed]",
            "text/plain": [
              "<Figure size 432x288 with 1 Axes>"
            ]
          },
          "metadata": {
            "tags": [],
            "needs_background": "light"
          }
        }
      ]
    },
    {
      "cell_type": "markdown",
      "metadata": {
        "id": "x-Mj7zEEJThx",
        "colab_type": "text"
      },
      "source": [
        "### **Part (e)**\n",
        "\n",
        "Now, plot the function $y = \\frac{1}{\\pi (1 + x^2)}$ on top of the kernel density estimate of the Cauchy distribution. How does it compare? \n",
        "\n",
        "*Hint: To do this problem, you only need to fill in the y parameter for the graph. The red curve shows the kernel density of estimate of $X / Y$, and the second plot (in a semi-transparent blue color) should show the function.*"
      ]
    },
    {
      "cell_type": "markdown",
      "metadata": {
        "id": "IY40uL23eZsn",
        "colab_type": "text"
      },
      "source": [
        "---\n",
        "*Solution:*"
      ]
    },
    {
      "cell_type": "code",
      "metadata": {
        "id": "mrfomT0jtcB-",
        "colab_type": "code",
        "colab": {
          "base_uri": "https://localhost:8080/",
          "height": 282
        },
        "outputId": "a77771c3-3fc9-4a2e-c176-293eb210d4d3"
      },
      "source": [
        "plot_kde(C)\n",
        "X_plot = np.linspace(-5, 5, 300)\n",
        "\n",
        "plt.plot(X_plot, 1 / (np.pi * (1 + X_plot ** 2)), c = \"b\", linewidth=5, alpha=0.3)"
      ],
      "execution_count": null,
      "outputs": [
        {
          "output_type": "execute_result",
          "data": {
            "text/plain": [
              "[<matplotlib.lines.Line2D at 0x7fd8c3d16518>]"
            ]
          },
          "metadata": {
            "tags": []
          },
          "execution_count": 20
        },
        {
          "output_type": "display_data",
          "data": {
            "image/png": "[encoded data removed]",
            "text/plain": [
              "<Figure size 432x288 with 1 Axes>"
            ]
          },
          "metadata": {
            "tags": [],
            "needs_background": "light"
          }
        }
      ]
    },
    {
      "cell_type": "markdown",
      "metadata": {
        "id": "QIEhqxNUKACL",
        "colab_type": "text"
      },
      "source": [
        "### **Part (f)**\n",
        "\n",
        "At this stage, construct a distribution $A = \\frac{1}{3}X + \\frac{2\\sqrt{2}}{3}Z$ where $Z$ is a standard normal random variable that is independently generated from X. Also consider a variable $B = \\frac{1}{3}Y + \\frac{2\\sqrt{2}}{3}W$, where $W$ is a standard normal random variable that is independently generated from $X$. Compare the kernel density estimates of $A$ and $B$ with $X$ and $Y$. What do you notice? What could be an explanation for this phenomenon?"
      ]
    },
    {
      "cell_type": "markdown",
      "metadata": {
        "id": "0FOCWmmwfxW1",
        "colab_type": "text"
      },
      "source": [
        "---\n",
        "*Solution:*"
      ]
    },
    {
      "cell_type": "code",
      "metadata": {
        "id": "DdfFGZ-AthP8",
        "colab_type": "code",
        "colab": {
          "base_uri": "https://localhost:8080/",
          "height": 530
        },
        "outputId": "f218978d-2703-448c-8c4e-2d196df49849"
      },
      "source": [
        "Z = np.random.randn(100000)\n",
        "W = np.random.randn(100000)\n",
        "A = X / 3 + 2 * np.sqrt(2) / 3 * Z\n",
        "B = Y / 3 + 2 * np.sqrt(2) / 3 * W\n",
        "\n",
        "plot_kde(A)\n",
        "X_plot = np.linspace(-5, 5, 300)\n",
        "plt.plot(X_plot, 1 / np.sqrt(2 * np.pi) * np.exp(-X_plot ** 2 / 2), c = \"b\", linewidth=5, alpha=0.3)\n",
        "plt.show()\n",
        "\n",
        "plot_kde(B)\n",
        "X_plot = np.linspace(-5, 5, 300)\n",
        "plt.plot(X_plot, 1 / np.sqrt(2 * np.pi) * np.exp(-X_plot ** 2 / 2), c = \"b\", linewidth=5, alpha=0.3)"
      ],
      "execution_count": null,
      "outputs": [
        {
          "output_type": "display_data",
          "data": {
            "image/png": "[encoded data removed]",
            "text/plain": [
              "<Figure size 432x288 with 1 Axes>"
            ]
          },
          "metadata": {
            "tags": [],
            "needs_background": "light"
          }
        },
        {
          "output_type": "execute_result",
          "data": {
            "text/plain": [
              "[<matplotlib.lines.Line2D at 0x7fd8c3a16550>]"
            ]
          },
          "metadata": {
            "tags": []
          },
          "execution_count": 21
        },
        {
          "output_type": "display_data",
          "data": {
            "image/png": "[encoded data removed]",
            "text/plain": [
              "<Figure size 432x288 with 1 Axes>"
            ]
          },
          "metadata": {
            "tags": [],
            "needs_background": "light"
          }
        }
      ]
    },
    {
      "cell_type": "markdown",
      "metadata": {
        "id": "9k7T92dRgNp7",
        "colab_type": "text"
      },
      "source": [
        "It appears that the kernel density estimate closely approximates the function. "
      ]
    },
    {
      "cell_type": "markdown",
      "metadata": {
        "id": "avPdn2VeKal7",
        "colab_type": "text"
      },
      "source": [
        "### **Part (g)**\n",
        "\n",
        "Based on what I've just said, what should $A / B$ look like? Confirm your guess by plotting it"
      ]
    },
    {
      "cell_type": "markdown",
      "metadata": {
        "id": "-URlJj8OfyXU",
        "colab_type": "text"
      },
      "source": [
        "---\n",
        "*Solution:*\n",
        "\n",
        "I bet it's Cauchy! "
      ]
    },
    {
      "cell_type": "code",
      "metadata": {
        "id": "KsDbry49tlhi",
        "colab_type": "code",
        "colab": {
          "base_uri": "https://localhost:8080/",
          "height": 282
        },
        "outputId": "bbb624c4-acde-4316-9452-bc05e1348b9e"
      },
      "source": [
        "plot_kde(A / B)\n",
        "X_plot = np.linspace(-5, 5, 300)\n",
        "plt.plot(X_plot, 1 / (np.pi * (1 + X_plot ** 2)), c = \"b\", linewidth=5, alpha=0.3)"
      ],
      "execution_count": null,
      "outputs": [
        {
          "output_type": "execute_result",
          "data": {
            "text/plain": [
              "[<matplotlib.lines.Line2D at 0x7fd8c3d23d68>]"
            ]
          },
          "metadata": {
            "tags": []
          },
          "execution_count": 23
        },
        {
          "output_type": "display_data",
          "data": {
            "image/png": "[encoded data removed]",
            "text/plain": [
              "<Figure size 432x288 with 1 Axes>"
            ]
          },
          "metadata": {
            "tags": [],
            "needs_background": "light"
          }
        }
      ]
    },
    {
      "cell_type": "markdown",
      "metadata": {
        "id": "bTx7asjILGJ6",
        "colab_type": "text"
      },
      "source": [
        "### **Part (h)**\n",
        "\n",
        "Now, plot the density curves of these variables with kernel density estimation, as mentioned before. \n",
        "    $$\\frac{1}{2} \\cdot \\frac{A}{B} + \\frac{1}{2} \\cdot \\frac{X}{Y}, \\frac{1}{3} \\cdot \\frac{A}{B} + \\frac{2}{3} \\cdot \\frac{X}{Y}, \\frac{2}{3} \\cdot \\frac{A}{B} + \\frac{1}{3} \\cdot \\frac{X}{Y}$$\n",
        "\n",
        "What do you notice?"
      ]
    },
    {
      "cell_type": "markdown",
      "metadata": {
        "id": "nnwDXtMafzdW",
        "colab_type": "text"
      },
      "source": [
        "---\n",
        "*Solution:*"
      ]
    },
    {
      "cell_type": "code",
      "metadata": {
        "id": "CSyeYTWefOh6",
        "colab_type": "code",
        "colab": {
          "base_uri": "https://localhost:8080/",
          "height": 282
        },
        "outputId": "0451d8c5-d687-4708-d15a-9e464bb19248"
      },
      "source": [
        "plot_kde(1/2 * A / B + 1/2 * X / Y)\n",
        "X_plot = np.linspace(-5, 5, 300)\n",
        "plt.plot(X_plot, 1 / (np.pi * (1 + X_plot ** 2)), c = \"b\", linewidth=5, alpha=0.3)"
      ],
      "execution_count": null,
      "outputs": [
        {
          "output_type": "execute_result",
          "data": {
            "text/plain": [
              "[<matplotlib.lines.Line2D at 0x7fd8c3842080>]"
            ]
          },
          "metadata": {
            "tags": []
          },
          "execution_count": 25
        },
        {
          "output_type": "display_data",
          "data": {
            "image/png": "[encoded data removed]",
            "text/plain": [
              "<Figure size 432x288 with 1 Axes>"
            ]
          },
          "metadata": {
            "tags": [],
            "needs_background": "light"
          }
        }
      ]
    },
    {
      "cell_type": "code",
      "metadata": {
        "id": "Kl5HYMYif4GP",
        "colab_type": "code",
        "colab": {
          "base_uri": "https://localhost:8080/",
          "height": 282
        },
        "outputId": "8f04f12c-3dd6-4e22-d3b5-e736cf7afefc"
      },
      "source": [
        "plot_kde(1/3 * A / B + 2/3 * X / Y)\n",
        "X_plot = np.linspace(-5, 5, 300)\n",
        "plt.plot(X_plot, 1 / (np.pi * (1 + X_plot ** 2)), c = \"b\", linewidth=5, alpha=0.3)"
      ],
      "execution_count": null,
      "outputs": [
        {
          "output_type": "execute_result",
          "data": {
            "text/plain": [
              "[<matplotlib.lines.Line2D at 0x7fd8c372ff60>]"
            ]
          },
          "metadata": {
            "tags": []
          },
          "execution_count": 26
        },
        {
          "output_type": "display_data",
          "data": {
            "image/png": "[encoded data removed]",
            "text/plain": [
              "<Figure size 432x288 with 1 Axes>"
            ]
          },
          "metadata": {
            "tags": [],
            "needs_background": "light"
          }
        }
      ]
    },
    {
      "cell_type": "code",
      "metadata": {
        "id": "W2S_MycAf4lT",
        "colab_type": "code",
        "colab": {
          "base_uri": "https://localhost:8080/",
          "height": 282
        },
        "outputId": "1067fc1a-209c-4639-dea3-cd6402cadd7c"
      },
      "source": [
        "plot_kde(2/3 * A / B + 1/3 * X / Y)\n",
        "X_plot = np.linspace(-5, 5, 300)\n",
        "plt.plot(X_plot, 1 / (np.pi * (1 + X_plot ** 2)), c = \"b\", linewidth=5, alpha=0.3)"
      ],
      "execution_count": null,
      "outputs": [
        {
          "output_type": "execute_result",
          "data": {
            "text/plain": [
              "[<matplotlib.lines.Line2D at 0x7fd8c36fba20>]"
            ]
          },
          "metadata": {
            "tags": []
          },
          "execution_count": 27
        },
        {
          "output_type": "display_data",
          "data": {
            "image/png": "[encoded data removed]",
            "text/plain": [
              "<Figure size 432x288 with 1 Axes>"
            ]
          },
          "metadata": {
            "tags": [],
            "needs_background": "light"
          }
        }
      ]
    },
    {
      "cell_type": "markdown",
      "metadata": {
        "id": "Pskd1IUVgXvI",
        "colab_type": "text"
      },
      "source": [
        "They're all Cauchy! "
      ]
    },
    {
      "cell_type": "markdown",
      "metadata": {
        "id": "DfyfkrW0LReo",
        "colab_type": "text"
      },
      "source": [
        "### **Part (i)**\n",
        "\n",
        "Finally, consider a very large example. Forget all definitions introduced in other parts, and let $A, B, C, X, Y, Z$ be random standard normal distributed variables. Now try to sample from \n",
        "    \\begin{align*}\n",
        "     D &= A - 2B + 4C \\\\\n",
        "     E &= 9A + 6B - 3C \\\\\n",
        "     F &= 3A - 4B + 8C \\\\\n",
        "     U &= X - 2Y + 4Z \\\\\n",
        "     V &= 9X + 6Y - 3Z \\\\\n",
        "     W &= 3X - 4Y + 8Z \n",
        "    \\end{align*}\n",
        "    Finally, compute the kernel density estimate of $$R = \\frac{4}{9} \\frac{D}{U} + \\frac{3}{9} \\frac{E}{V} + \\frac{2}{9} \\frac{F}{W}.$$ What do you get?"
      ]
    },
    {
      "cell_type": "markdown",
      "metadata": {
        "id": "EzXcfuOaf0WO",
        "colab_type": "text"
      },
      "source": [
        "---\n",
        "*Solution:*"
      ]
    },
    {
      "cell_type": "code",
      "metadata": {
        "id": "GuA_G31kuCIR",
        "colab_type": "code",
        "colab": {
          "base_uri": "https://localhost:8080/",
          "height": 282
        },
        "outputId": "22357957-2c97-4213-d87d-ce04a7250ff8"
      },
      "source": [
        "X = np.random.randn(100000)\n",
        "Y = np.random.randn(100000)\n",
        "Z = np.random.randn(100000)\n",
        "A = np.random.randn(100000)\n",
        "B = np.random.randn(100000)\n",
        "C = np.random.randn(100000)\n",
        "\n",
        "D = A - 2*B + 4*C\n",
        "E = 9*A + 6*B - 3*C\n",
        "F = 3*A - 4*B + 8*C\n",
        "U = X - 2*Y + 4*Z\n",
        "V = 9*X + 6*Y - 3*Z\n",
        "W = 3*X - 4*Y + 8*Z\n",
        "plot_kde(4/9 * D/U + 3/9 * E/V + 2/9 * F/W)\n",
        "plt.plot(X_plot, 1 / (np.pi * (1 + X_plot ** 2)), c = \"b\", linewidth=5, alpha=0.3)"
      ],
      "execution_count": null,
      "outputs": [
        {
          "output_type": "execute_result",
          "data": {
            "text/plain": [
              "[<matplotlib.lines.Line2D at 0x7fd8c38a3668>]"
            ]
          },
          "metadata": {
            "tags": []
          },
          "execution_count": 24
        },
        {
          "output_type": "display_data",
          "data": {
            "image/png": "[encoded data removed]",
            "text/plain": [
              "<Figure size 432x288 with 1 Axes>"
            ]
          },
          "metadata": {
            "tags": [],
            "needs_background": "light"
          }
        }
      ]
    },
    {
      "cell_type": "markdown",
      "metadata": {
        "id": "nB8wMVMJfUHe",
        "colab_type": "text"
      },
      "source": [
        "It seems that the Cauchy distribution has showed up in all sorts of unexpected ways. As it turns out, this can be proven rigorously: see [this paper](https://dash.harvard.edu/bitstream/handle/1/28702414/AOS1407.pdf?sequence=1)."
      ]
    }
  ]
}