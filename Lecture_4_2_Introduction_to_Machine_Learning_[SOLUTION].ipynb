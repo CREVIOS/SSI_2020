{
  "nbformat": 4,
  "nbformat_minor": 0,
  "metadata": {
    "colab": {
      "name": "Lecture 4.2: Introduction to Machine Learning [SOLUTION]",
      "provenance": [],
      "collapsed_sections": [],
      "include_colab_link": true
    },
    "kernelspec": {
      "name": "python3",
      "display_name": "Python 3"
    }
  },
  "cells": [
    {
      "cell_type": "markdown",
      "metadata": {
        "id": "view-in-github",
        "colab_type": "text"
      },
      "source": [
        "<a href=\"https://colab.research.google.com/github/CREVIOS/SSI_2020/blob/master/Lecture_4_2_Introduction_to_Machine_Learning_%5BSOLUTION%5D.ipynb\" target=\"_parent\"><img src=\"https://colab.research.google.com/assets/colab-badge.svg\" alt=\"Open In Colab\"/></a>"
      ]
    },
    {
      "cell_type": "markdown",
      "metadata": {
        "id": "Vr9xC9RGZ5st",
        "colab_type": "text"
      },
      "source": [
        "# Codealong - Linear Regression"
      ]
    },
    {
      "cell_type": "markdown",
      "metadata": {
        "id": "yISutp7S_2gX",
        "colab_type": "text"
      },
      "source": [
        "## 1. Import the scikit-learn library\n",
        "\n",
        "Here you can call all the necessary imports for this and the other codealong"
      ]
    },
    {
      "cell_type": "code",
      "metadata": {
        "id": "ymLBRyvP6YW-",
        "colab_type": "code",
        "colab": {}
      },
      "source": [
        "import numpy as np\n",
        "import pandas as pd\n",
        "import sklearn \n",
        "import sklearn.datasets\n",
        "import sklearn.linear_model\n",
        "import sklearn.metrics\n",
        "import matplotlib.pyplot as plt"
      ],
      "execution_count": null,
      "outputs": []
    },
    {
      "cell_type": "markdown",
      "metadata": {
        "id": "w2PWUpz8_-c0",
        "colab_type": "text"
      },
      "source": [
        "## 2. Load Boston housing data\n",
        "\n",
        "Use the built-in sklearn function `sklearn.datasets.load_boston()` to load in the dataset (originally as a numpy array), convert X to a Pandas DataFrame, and display X."
      ]
    },
    {
      "cell_type": "code",
      "metadata": {
        "id": "oWiTx5u860MC",
        "colab_type": "code",
        "colab": {
          "base_uri": "https://localhost:8080/",
          "height": 414
        },
        "outputId": "23dde187-6e71-4c40-da49-0f84b3c19264"
      },
      "source": [
        "X, y = sklearn.datasets.load_boston(return_X_y=True)\n",
        "X = pd.DataFrame(X)\n",
        "display(X)"
      ],
      "execution_count": null,
      "outputs": [
        {
          "output_type": "display_data",
          "data": {
            "text/html": [
              "<div>\n",
              "<style scoped>\n",
              "    .dataframe tbody tr th:only-of-type {\n",
              "        vertical-align: middle;\n",
              "    }\n",
              "\n",
              "    .dataframe tbody tr th {\n",
              "        vertical-align: top;\n",
              "    }\n",
              "\n",
              "    .dataframe thead th {\n",
              "        text-align: right;\n",
              "    }\n",
              "</style>\n",
              "<table border=\"1\" class=\"dataframe\">\n",
              "  <thead>\n",
              "    <tr style=\"text-align: right;\">\n",
              "      <th></th>\n",
              "      <th>0</th>\n",
              "      <th>1</th>\n",
              "      <th>2</th>\n",
              "      <th>3</th>\n",
              "      <th>4</th>\n",
              "      <th>5</th>\n",
              "      <th>6</th>\n",
              "      <th>7</th>\n",
              "      <th>8</th>\n",
              "      <th>9</th>\n",
              "      <th>10</th>\n",
              "      <th>11</th>\n",
              "      <th>12</th>\n",
              "    </tr>\n",
              "  </thead>\n",
              "  <tbody>\n",
              "    <tr>\n",
              "      <th>0</th>\n",
              "      <td>0.00632</td>\n",
              "      <td>18.0</td>\n",
              "      <td>2.31</td>\n",
              "      <td>0.0</td>\n",
              "      <td>0.538</td>\n",
              "      <td>6.575</td>\n",
              "      <td>65.2</td>\n",
              "      <td>4.0900</td>\n",
              "      <td>1.0</td>\n",
              "      <td>296.0</td>\n",
              "      <td>15.3</td>\n",
              "      <td>396.90</td>\n",
              "      <td>4.98</td>\n",
              "    </tr>\n",
              "    <tr>\n",
              "      <th>1</th>\n",
              "      <td>0.02731</td>\n",
              "      <td>0.0</td>\n",
              "      <td>7.07</td>\n",
              "      <td>0.0</td>\n",
              "      <td>0.469</td>\n",
              "      <td>6.421</td>\n",
              "      <td>78.9</td>\n",
              "      <td>4.9671</td>\n",
              "      <td>2.0</td>\n",
              "      <td>242.0</td>\n",
              "      <td>17.8</td>\n",
              "      <td>396.90</td>\n",
              "      <td>9.14</td>\n",
              "    </tr>\n",
              "    <tr>\n",
              "      <th>2</th>\n",
              "      <td>0.02729</td>\n",
              "      <td>0.0</td>\n",
              "      <td>7.07</td>\n",
              "      <td>0.0</td>\n",
              "      <td>0.469</td>\n",
              "      <td>7.185</td>\n",
              "      <td>61.1</td>\n",
              "      <td>4.9671</td>\n",
              "      <td>2.0</td>\n",
              "      <td>242.0</td>\n",
              "      <td>17.8</td>\n",
              "      <td>392.83</td>\n",
              "      <td>4.03</td>\n",
              "    </tr>\n",
              "    <tr>\n",
              "      <th>3</th>\n",
              "      <td>0.03237</td>\n",
              "      <td>0.0</td>\n",
              "      <td>2.18</td>\n",
              "      <td>0.0</td>\n",
              "      <td>0.458</td>\n",
              "      <td>6.998</td>\n",
              "      <td>45.8</td>\n",
              "      <td>6.0622</td>\n",
              "      <td>3.0</td>\n",
              "      <td>222.0</td>\n",
              "      <td>18.7</td>\n",
              "      <td>394.63</td>\n",
              "      <td>2.94</td>\n",
              "    </tr>\n",
              "    <tr>\n",
              "      <th>4</th>\n",
              "      <td>0.06905</td>\n",
              "      <td>0.0</td>\n",
              "      <td>2.18</td>\n",
              "      <td>0.0</td>\n",
              "      <td>0.458</td>\n",
              "      <td>7.147</td>\n",
              "      <td>54.2</td>\n",
              "      <td>6.0622</td>\n",
              "      <td>3.0</td>\n",
              "      <td>222.0</td>\n",
              "      <td>18.7</td>\n",
              "      <td>396.90</td>\n",
              "      <td>5.33</td>\n",
              "    </tr>\n",
              "    <tr>\n",
              "      <th>...</th>\n",
              "      <td>...</td>\n",
              "      <td>...</td>\n",
              "      <td>...</td>\n",
              "      <td>...</td>\n",
              "      <td>...</td>\n",
              "      <td>...</td>\n",
              "      <td>...</td>\n",
              "      <td>...</td>\n",
              "      <td>...</td>\n",
              "      <td>...</td>\n",
              "      <td>...</td>\n",
              "      <td>...</td>\n",
              "      <td>...</td>\n",
              "    </tr>\n",
              "    <tr>\n",
              "      <th>501</th>\n",
              "      <td>0.06263</td>\n",
              "      <td>0.0</td>\n",
              "      <td>11.93</td>\n",
              "      <td>0.0</td>\n",
              "      <td>0.573</td>\n",
              "      <td>6.593</td>\n",
              "      <td>69.1</td>\n",
              "      <td>2.4786</td>\n",
              "      <td>1.0</td>\n",
              "      <td>273.0</td>\n",
              "      <td>21.0</td>\n",
              "      <td>391.99</td>\n",
              "      <td>9.67</td>\n",
              "    </tr>\n",
              "    <tr>\n",
              "      <th>502</th>\n",
              "      <td>0.04527</td>\n",
              "      <td>0.0</td>\n",
              "      <td>11.93</td>\n",
              "      <td>0.0</td>\n",
              "      <td>0.573</td>\n",
              "      <td>6.120</td>\n",
              "      <td>76.7</td>\n",
              "      <td>2.2875</td>\n",
              "      <td>1.0</td>\n",
              "      <td>273.0</td>\n",
              "      <td>21.0</td>\n",
              "      <td>396.90</td>\n",
              "      <td>9.08</td>\n",
              "    </tr>\n",
              "    <tr>\n",
              "      <th>503</th>\n",
              "      <td>0.06076</td>\n",
              "      <td>0.0</td>\n",
              "      <td>11.93</td>\n",
              "      <td>0.0</td>\n",
              "      <td>0.573</td>\n",
              "      <td>6.976</td>\n",
              "      <td>91.0</td>\n",
              "      <td>2.1675</td>\n",
              "      <td>1.0</td>\n",
              "      <td>273.0</td>\n",
              "      <td>21.0</td>\n",
              "      <td>396.90</td>\n",
              "      <td>5.64</td>\n",
              "    </tr>\n",
              "    <tr>\n",
              "      <th>504</th>\n",
              "      <td>0.10959</td>\n",
              "      <td>0.0</td>\n",
              "      <td>11.93</td>\n",
              "      <td>0.0</td>\n",
              "      <td>0.573</td>\n",
              "      <td>6.794</td>\n",
              "      <td>89.3</td>\n",
              "      <td>2.3889</td>\n",
              "      <td>1.0</td>\n",
              "      <td>273.0</td>\n",
              "      <td>21.0</td>\n",
              "      <td>393.45</td>\n",
              "      <td>6.48</td>\n",
              "    </tr>\n",
              "    <tr>\n",
              "      <th>505</th>\n",
              "      <td>0.04741</td>\n",
              "      <td>0.0</td>\n",
              "      <td>11.93</td>\n",
              "      <td>0.0</td>\n",
              "      <td>0.573</td>\n",
              "      <td>6.030</td>\n",
              "      <td>80.8</td>\n",
              "      <td>2.5050</td>\n",
              "      <td>1.0</td>\n",
              "      <td>273.0</td>\n",
              "      <td>21.0</td>\n",
              "      <td>396.90</td>\n",
              "      <td>7.88</td>\n",
              "    </tr>\n",
              "  </tbody>\n",
              "</table>\n",
              "<p>506 rows × 13 columns</p>\n",
              "</div>"
            ],
            "text/plain": [
              "          0     1      2    3      4   ...   8      9     10      11    12\n",
              "0    0.00632  18.0   2.31  0.0  0.538  ...  1.0  296.0  15.3  396.90  4.98\n",
              "1    0.02731   0.0   7.07  0.0  0.469  ...  2.0  242.0  17.8  396.90  9.14\n",
              "2    0.02729   0.0   7.07  0.0  0.469  ...  2.0  242.0  17.8  392.83  4.03\n",
              "3    0.03237   0.0   2.18  0.0  0.458  ...  3.0  222.0  18.7  394.63  2.94\n",
              "4    0.06905   0.0   2.18  0.0  0.458  ...  3.0  222.0  18.7  396.90  5.33\n",
              "..       ...   ...    ...  ...    ...  ...  ...    ...   ...     ...   ...\n",
              "501  0.06263   0.0  11.93  0.0  0.573  ...  1.0  273.0  21.0  391.99  9.67\n",
              "502  0.04527   0.0  11.93  0.0  0.573  ...  1.0  273.0  21.0  396.90  9.08\n",
              "503  0.06076   0.0  11.93  0.0  0.573  ...  1.0  273.0  21.0  396.90  5.64\n",
              "504  0.10959   0.0  11.93  0.0  0.573  ...  1.0  273.0  21.0  393.45  6.48\n",
              "505  0.04741   0.0  11.93  0.0  0.573  ...  1.0  273.0  21.0  396.90  7.88\n",
              "\n",
              "[506 rows x 13 columns]"
            ]
          },
          "metadata": {
            "tags": []
          }
        }
      ]
    },
    {
      "cell_type": "markdown",
      "metadata": {
        "id": "oRLAur__9IXh",
        "colab_type": "text"
      },
      "source": [
        "## 3. Create and fit a model on the data\n",
        "\n",
        "Use sklearn's `sklearn.linear_model.LinearRegression()` to create a Linear Regression model, fit it to X and y, and extract the weights. Call the constructer passing in `fit_intercept=False`. Don't worry about what this means yet :)"
      ]
    },
    {
      "cell_type": "code",
      "metadata": {
        "id": "Y9a5T0-J7vxR",
        "colab_type": "code",
        "colab": {
          "base_uri": "https://localhost:8080/",
          "height": 85
        },
        "outputId": "b186c76c-aa54-41b5-93bc-18e5250ba2be"
      },
      "source": [
        "model = sklearn.linear_model.LinearRegression(fit_intercept=False)\n",
        "model.fit(X, y)\n",
        "w = model.coef_\n",
        "print(w)"
      ],
      "execution_count": null,
      "outputs": [
        {
          "output_type": "stream",
          "text": [
            "[-9.28965170e-02  4.87149552e-02 -4.05997958e-03  2.85399882e+00\n",
            " -2.86843637e+00  5.92814778e+00 -7.26933458e-03 -9.68514157e-01\n",
            "  1.71151128e-01 -9.39621540e-03 -3.92190926e-01  1.49056102e-02\n",
            " -4.16304471e-01]\n"
          ],
          "name": "stdout"
        }
      ]
    },
    {
      "cell_type": "markdown",
      "metadata": {
        "id": "l0XUELnOBRQJ",
        "colab_type": "text"
      },
      "source": [
        "## 4. Predict your labels!\n",
        "\n",
        "Do this two ways:\n",
        "*   Manually, by making a function called `predict` that takes an X and returns a predicted y (called yhat) and calling it.\n",
        "*   With sklearn, by calling the function `predict()` from the model you made.\n",
        "\n",
        "In both cases, print the first 5 rows of the output."
      ]
    },
    {
      "cell_type": "code",
      "metadata": {
        "id": "OZ5Cd8-S-V9J",
        "colab_type": "code",
        "colab": {}
      },
      "source": [
        "def predict(X):\n",
        "  return np.dot(X, w)"
      ],
      "execution_count": null,
      "outputs": []
    },
    {
      "cell_type": "code",
      "metadata": {
        "id": "tmhyMi02-nyb",
        "colab_type": "code",
        "colab": {
          "base_uri": "https://localhost:8080/",
          "height": 34
        },
        "outputId": "908f5636-7b05-41e4-95ec-f595f5debea5"
      },
      "source": [
        "yhat_manual = predict(X)\n",
        "print(yhat_manual[:5])"
      ],
      "execution_count": null,
      "outputs": [
        {
          "output_type": "stream",
          "text": [
            "[29.09826353 24.50227548 31.22742641 29.7071035  29.56479572]\n"
          ],
          "name": "stdout"
        }
      ]
    },
    {
      "cell_type": "code",
      "metadata": {
        "id": "QXXZ849W-wFH",
        "colab_type": "code",
        "colab": {
          "base_uri": "https://localhost:8080/",
          "height": 34
        },
        "outputId": "ad24c0e0-191b-4c0d-d27f-3ca452b56c45"
      },
      "source": [
        "yhat = model.predict(X)\n",
        "print(yhat[:5])"
      ],
      "execution_count": null,
      "outputs": [
        {
          "output_type": "stream",
          "text": [
            "[29.09826353 24.50227548 31.22742641 29.7071035  29.56479572]\n"
          ],
          "name": "stdout"
        }
      ]
    },
    {
      "cell_type": "markdown",
      "metadata": {
        "id": "Pu_7Mt8daBKT",
        "colab_type": "text"
      },
      "source": [
        "# Codealong - Polynomial Regression"
      ]
    },
    {
      "cell_type": "markdown",
      "metadata": {
        "id": "W7KPirAER6fY",
        "colab_type": "text"
      },
      "source": [
        "Up here is some code to load in the dataset as a Pandas DataFrame (we need to pull it from github). Make sure to run it before you write any other code. For this codealong we are going to be using a simulated dataset that we constructed to demonstrate Polynomial Regression."
      ]
    },
    {
      "cell_type": "code",
      "metadata": {
        "id": "gcnkDKKzaKcV",
        "colab_type": "code",
        "colab": {
          "base_uri": "https://localhost:8080/",
          "height": 414
        },
        "outputId": "4c467432-a3ea-4c30-9fca-8751593b0af7"
      },
      "source": [
        "POLY_DATA_URL = \"https://raw.githubusercontent.com/alextsun/ssi-ds-bootcamp-2020/master/Poly_Data.txt\"\n",
        "\n",
        "data = pd.read_csv(POLY_DATA_URL, names=[\"X\", \"y\"], header=0, sep=\" \")\n",
        "\n",
        "display(data)"
      ],
      "execution_count": null,
      "outputs": [
        {
          "output_type": "display_data",
          "data": {
            "text/html": [
              "<div>\n",
              "<style scoped>\n",
              "    .dataframe tbody tr th:only-of-type {\n",
              "        vertical-align: middle;\n",
              "    }\n",
              "\n",
              "    .dataframe tbody tr th {\n",
              "        vertical-align: top;\n",
              "    }\n",
              "\n",
              "    .dataframe thead th {\n",
              "        text-align: right;\n",
              "    }\n",
              "</style>\n",
              "<table border=\"1\" class=\"dataframe\">\n",
              "  <thead>\n",
              "    <tr style=\"text-align: right;\">\n",
              "      <th></th>\n",
              "      <th>X</th>\n",
              "      <th>y</th>\n",
              "    </tr>\n",
              "  </thead>\n",
              "  <tbody>\n",
              "    <tr>\n",
              "      <th>0</th>\n",
              "      <td>9.647828</td>\n",
              "      <td>2320.482368</td>\n",
              "    </tr>\n",
              "    <tr>\n",
              "      <th>1</th>\n",
              "      <td>10.593486</td>\n",
              "      <td>3000.929540</td>\n",
              "    </tr>\n",
              "    <tr>\n",
              "      <th>2</th>\n",
              "      <td>10.568243</td>\n",
              "      <td>2981.291116</td>\n",
              "    </tr>\n",
              "    <tr>\n",
              "      <th>3</th>\n",
              "      <td>8.479791</td>\n",
              "      <td>1634.571093</td>\n",
              "    </tr>\n",
              "    <tr>\n",
              "      <th>4</th>\n",
              "      <td>10.518863</td>\n",
              "      <td>2942.580204</td>\n",
              "    </tr>\n",
              "    <tr>\n",
              "      <th>...</th>\n",
              "      <td>...</td>\n",
              "      <td>...</td>\n",
              "    </tr>\n",
              "    <tr>\n",
              "      <th>99994</th>\n",
              "      <td>8.391738</td>\n",
              "      <td>1589.220359</td>\n",
              "    </tr>\n",
              "    <tr>\n",
              "      <th>99995</th>\n",
              "      <td>10.942225</td>\n",
              "      <td>3281.734852</td>\n",
              "    </tr>\n",
              "    <tr>\n",
              "      <th>99996</th>\n",
              "      <td>9.585394</td>\n",
              "      <td>2279.756629</td>\n",
              "    </tr>\n",
              "    <tr>\n",
              "      <th>99997</th>\n",
              "      <td>8.869900</td>\n",
              "      <td>1845.545010</td>\n",
              "    </tr>\n",
              "    <tr>\n",
              "      <th>99998</th>\n",
              "      <td>10.644271</td>\n",
              "      <td>3040.473700</td>\n",
              "    </tr>\n",
              "  </tbody>\n",
              "</table>\n",
              "<p>99999 rows × 2 columns</p>\n",
              "</div>"
            ],
            "text/plain": [
              "               X            y\n",
              "0       9.647828  2320.482368\n",
              "1      10.593486  3000.929540\n",
              "2      10.568243  2981.291116\n",
              "3       8.479791  1634.571093\n",
              "4      10.518863  2942.580204\n",
              "...          ...          ...\n",
              "99994   8.391738  1589.220359\n",
              "99995  10.942225  3281.734852\n",
              "99996   9.585394  2279.756629\n",
              "99997   8.869900  1845.545010\n",
              "99998  10.644271  3040.473700\n",
              "\n",
              "[99999 rows x 2 columns]"
            ]
          },
          "metadata": {
            "tags": []
          }
        }
      ]
    },
    {
      "cell_type": "markdown",
      "metadata": {
        "id": "k8d7hJVSaGaB",
        "colab_type": "text"
      },
      "source": [
        "## 1. Plot the dataset we provided\n",
        "\n",
        "Use `matplotlib.pyplot` (add it to the imports at the top and re-run that cell) to plot a scatter plot of the single feature X compared to y."
      ]
    },
    {
      "cell_type": "code",
      "metadata": {
        "id": "4WrKgQMHbnC_",
        "colab_type": "code",
        "colab": {
          "base_uri": "https://localhost:8080/",
          "height": 282
        },
        "outputId": "a5eb9a33-36a8-474f-9d80-a51e7e2a9ed8"
      },
      "source": [
        "X = data.loc[:, \"X\"]\n",
        "y = data.loc[:, \"y\"]\n",
        "X = pd.DataFrame(X)\n",
        "\n",
        "plt.scatter(X, y)"
      ],
      "execution_count": null,
      "outputs": [
        {
          "output_type": "execute_result",
          "data": {
            "text/plain": [
              "<matplotlib.collections.PathCollection at 0x7fd972e234e0>"
            ]
          },
          "metadata": {
            "tags": []
          },
          "execution_count": 29
        },
        {
          "output_type": "display_data",
          "data": {
            "image/png": "[encoded data removed]",
            "text/plain": [
              "<Figure size 432x288 with 1 Axes>"
            ]
          },
          "metadata": {
            "tags": [],
            "needs_background": "light"
          }
        }
      ]
    },
    {
      "cell_type": "markdown",
      "metadata": {
        "id": "3CzYtdWNSiTk",
        "colab_type": "text"
      },
      "source": [
        "You'll see that X and y don't seem to have a linear relationship!"
      ]
    },
    {
      "cell_type": "markdown",
      "metadata": {
        "id": "5vt69fa-cEmm",
        "colab_type": "text"
      },
      "source": [
        "## 2. Run a linear regressor again (and see that it has bad accuracy!)\n",
        "\n",
        "Copy your code from running a linear regression as before, but make sure to NOT set `fit_intercept=False` this time! We want to have a bias term this time (and make sure to print it as well, in addition to the weights!)"
      ]
    },
    {
      "cell_type": "code",
      "metadata": {
        "id": "W74qM8BicH6_",
        "colab_type": "code",
        "colab": {
          "base_uri": "https://localhost:8080/",
          "height": 51
        },
        "outputId": "23275906-95bc-4903-8be8-e3256c5ce314"
      },
      "source": [
        "model = sklearn.linear_model.LinearRegression()\n",
        "model.fit(X, y)\n",
        "w = model.coef_\n",
        "b = model.intercept_\n",
        "print(w)\n",
        "print(b)"
      ],
      "execution_count": null,
      "outputs": [
        {
          "output_type": "stream",
          "text": [
            "[708.54144174]\n",
            "-4460.226721171146\n"
          ],
          "name": "stdout"
        }
      ]
    },
    {
      "cell_type": "markdown",
      "metadata": {
        "id": "vEFKUVKCS8Tr",
        "colab_type": "text"
      },
      "source": [
        "Call your model's predict function down here..."
      ]
    },
    {
      "cell_type": "code",
      "metadata": {
        "id": "Ov4KcuBXdTn9",
        "colab_type": "code",
        "colab": {}
      },
      "source": [
        "yhat = model.predict(X)"
      ],
      "execution_count": null,
      "outputs": []
    },
    {
      "cell_type": "markdown",
      "metadata": {
        "id": "gpHimud9TAJ4",
        "colab_type": "text"
      },
      "source": [
        "..and then write code to check the RSS!"
      ]
    },
    {
      "cell_type": "code",
      "metadata": {
        "id": "lf7PYWVvOcEI",
        "colab_type": "code",
        "colab": {
          "base_uri": "https://localhost:8080/",
          "height": 34
        },
        "outputId": "92001200-cd88-4b5a-f14e-3cfa132db2ee"
      },
      "source": [
        "np.sum((yhat - y) ** 2)\n",
        "sklearn.metrics.mean_squared_error(y, yhat)"
      ],
      "execution_count": null,
      "outputs": [
        {
          "output_type": "execute_result",
          "data": {
            "text/plain": [
              "8483.978302342699"
            ]
          },
          "metadata": {
            "tags": []
          },
          "execution_count": 32
        }
      ]
    },
    {
      "cell_type": "markdown",
      "metadata": {
        "id": "JtGMj2rZTFI2",
        "colab_type": "text"
      },
      "source": [
        "Yikes! That RSS doesn't look great..."
      ]
    },
    {
      "cell_type": "markdown",
      "metadata": {
        "id": "qZ5CcUcAMQae",
        "colab_type": "text"
      },
      "source": [
        "## 3. Create two new columns: $X^2$ and $X^3$.\n",
        "\n",
        "Create a new array called `trans_X` that features three columns ($X^3$, $X^2$, and $X$)."
      ]
    },
    {
      "cell_type": "code",
      "metadata": {
        "id": "sDEYLoJDMY1n",
        "colab_type": "code",
        "colab": {}
      },
      "source": [
        "X2 = X ** 2\n",
        "X3 = X ** 3\n",
        "\n",
        "trans_X = np.hstack((X3, X2, X))"
      ],
      "execution_count": null,
      "outputs": []
    },
    {
      "cell_type": "markdown",
      "metadata": {
        "id": "8D3IRaofOniM",
        "colab_type": "text"
      },
      "source": [
        "## 4. Run linear regression again!\n",
        "\n",
        "Copy your code from before **once** more to fit your model on trans_X and y. Print the weights and the bias!"
      ]
    },
    {
      "cell_type": "code",
      "metadata": {
        "id": "4jxgU4GPM5NU",
        "colab_type": "code",
        "colab": {
          "base_uri": "https://localhost:8080/",
          "height": 51
        },
        "outputId": "08bb569d-93e1-4d4a-fbd4-cc4b7bc67613"
      },
      "source": [
        "model.fit(trans_X, y)\n",
        "w = model.coef_\n",
        "b = model.intercept_\n",
        "print(w)\n",
        "print(b)"
      ],
      "execution_count": null,
      "outputs": [
        {
          "output_type": "stream",
          "text": [
            "[2.00030739 4.99065374 3.09319302]\n",
            "29.695922417102338\n"
          ],
          "name": "stdout"
        }
      ]
    },
    {
      "cell_type": "markdown",
      "metadata": {
        "id": "aebVXPXRT2rD",
        "colab_type": "text"
      },
      "source": [
        "The weights should be around [2, 5, 3] and the bias should be about 30!"
      ]
    },
    {
      "cell_type": "markdown",
      "metadata": {
        "id": "heK7my7sT-2u",
        "colab_type": "text"
      },
      "source": [
        "Finally, predict yhat one final time..."
      ]
    },
    {
      "cell_type": "code",
      "metadata": {
        "id": "RoIe1NyiNC3d",
        "colab_type": "code",
        "colab": {}
      },
      "source": [
        "yhat = model.predict(trans_X)"
      ],
      "execution_count": null,
      "outputs": []
    },
    {
      "cell_type": "markdown",
      "metadata": {
        "id": "La8ov5uOUC7v",
        "colab_type": "text"
      },
      "source": [
        "...and print the RSS!"
      ]
    },
    {
      "cell_type": "code",
      "metadata": {
        "id": "GQClg1faOfQ2",
        "colab_type": "code",
        "colab": {
          "base_uri": "https://localhost:8080/",
          "height": 34
        },
        "outputId": "6947e7ac-715f-4f1e-c7df-d630b3a75ffa"
      },
      "source": [
        "((yhat - y) ** 2).sum()\n",
        "import sklearn.metrics\n",
        "\n",
        "sklearn.metrics.mean_squared_error(y, yhat)"
      ],
      "execution_count": null,
      "outputs": [
        {
          "output_type": "execute_result",
          "data": {
            "text/plain": [
              "0.06242462179158131"
            ]
          },
          "metadata": {
            "tags": []
          },
          "execution_count": 36
        }
      ]
    },
    {
      "cell_type": "markdown",
      "metadata": {
        "id": "XnRoQmWoUGT3",
        "colab_type": "text"
      },
      "source": [
        "It should look **much** better!"
      ]
    }
  ]
}