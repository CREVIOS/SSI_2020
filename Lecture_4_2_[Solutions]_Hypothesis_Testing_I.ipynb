{
  "nbformat": 4,
  "nbformat_minor": 0,
  "metadata": {
    "colab": {
      "name": "Lecture 4.2 [Solutions] Hypothesis Testing I",
      "provenance": [],
      "include_colab_link": true
    },
    "kernelspec": {
      "name": "python3",
      "display_name": "Python 3"
    }
  },
  "cells": [
    {
      "cell_type": "markdown",
      "metadata": {
        "id": "view-in-github",
        "colab_type": "text"
      },
      "source": [
        "<a href=\"https://colab.research.google.com/github/CREVIOS/SSI_2020/blob/master/Lecture_4_2_%5BSolutions%5D_Hypothesis_Testing_I.ipynb\" target=\"_parent\"><img src=\"https://colab.research.google.com/assets/colab-badge.svg\" alt=\"Open In Colab\"/></a>"
      ]
    },
    {
      "cell_type": "markdown",
      "metadata": {
        "id": "-LHW2Ltnqo05",
        "colab_type": "text"
      },
      "source": [
        "Do a hypothesis test to determine if Naveen should back out of the bet, given that Franklyn flipped 20 heads out of 30 flips. \n",
        "\n",
        "First, plot the sampling distribution of the means given the null hypothesis where the coin is fair. "
      ]
    },
    {
      "cell_type": "code",
      "metadata": {
        "id": "Mk9xZJy5pl9i",
        "colab_type": "code",
        "colab": {
          "base_uri": "https://localhost:8080/",
          "height": 282
        },
        "outputId": "53fdb7de-349f-422f-eca6-6643842db888"
      },
      "source": [
        "import matplotlib.pyplot as plt\n",
        "import numpy as np\n",
        "import scipy.stats as stats\n",
        "import math\n",
        "\n",
        "n_heads = 20\n",
        "n_tot = 30\n",
        "p_pred = n_heads / n_tot\n",
        "s_pop = math.sqrt(1/2 * (1 - 1/2))\n",
        "s_mean = s_pop / math.sqrt(n_tot)\n",
        "\n",
        "x = np.linspace(0, 1, 10000)\n",
        "fig, ax = plt.subplots()\n",
        "ax.plot(x, stats.norm.pdf(x, 1/2, s_mean))\n",
        "ax.fill_between(x, 0, stats.norm.pdf(x, 1/2, s_mean), where=(x>p_pred), facecolor='blue', interpolate=True)\n",
        "ax.plot(p_pred * np.ones(100), np.linspace(0, 4.5, 100), label=f\"p={p_pred:.2f}\")\n",
        "ax.legend()\n",
        "\n"
      ],
      "execution_count": null,
      "outputs": [
        {
          "output_type": "execute_result",
          "data": {
            "text/plain": [
              "<matplotlib.legend.Legend at 0x7f798c2e14a8>"
            ]
          },
          "metadata": {
            "tags": []
          },
          "execution_count": 11
        },
        {
          "output_type": "display_data",
          "data": {
            "image/png": "[encoded data removed]",
            "text/plain": [
              "<Figure size 432x288 with 1 Axes>"
            ]
          },
          "metadata": {
            "tags": [],
            "needs_background": "light"
          }
        }
      ]
    },
    {
      "cell_type": "markdown",
      "metadata": {
        "id": "4NgzBULVxyfw",
        "colab_type": "text"
      },
      "source": [
        "Now, use stats.norm.cdf to find the area of the region shown. "
      ]
    },
    {
      "cell_type": "code",
      "metadata": {
        "id": "Kjtg2_L5wXCT",
        "colab_type": "code",
        "colab": {
          "base_uri": "https://localhost:8080/",
          "height": 34
        },
        "outputId": "db6f0514-e24f-4697-af45-c82edc9142f9"
      },
      "source": [
        "1 - stats.norm.cdf(p_pred, loc=1/2, scale=s_mean)"
      ],
      "execution_count": null,
      "outputs": [
        {
          "output_type": "execute_result",
          "data": {
            "text/plain": [
              "0.0339445774309145"
            ]
          },
          "metadata": {
            "tags": []
          },
          "execution_count": 9
        }
      ]
    },
    {
      "cell_type": "code",
      "metadata": {
        "id": "pDrrUiSGwb24",
        "colab_type": "code",
        "colab": {
          "base_uri": "https://localhost:8080/",
          "height": 34
        },
        "outputId": "bfefb456-ac5a-43cd-8243-b6b726bc8fa1"
      },
      "source": [
        "2 * (1 - stats.norm.cdf(p_pred, loc=1/2, scale=s_mean))"
      ],
      "execution_count": null,
      "outputs": [
        {
          "output_type": "execute_result",
          "data": {
            "text/plain": [
              "0.067889154861829"
            ]
          },
          "metadata": {
            "tags": []
          },
          "execution_count": 10
        }
      ]
    }
  ]
}