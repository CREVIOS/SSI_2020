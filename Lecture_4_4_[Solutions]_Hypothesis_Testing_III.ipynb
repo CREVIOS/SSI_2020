{
  "nbformat": 4,
  "nbformat_minor": 0,
  "metadata": {
    "colab": {
      "name": "Lecture 4.4 [Solutions] Hypothesis Testing III",
      "provenance": [],
      "include_colab_link": true
    },
    "kernelspec": {
      "name": "python3",
      "display_name": "Python 3"
    }
  },
  "cells": [
    {
      "cell_type": "markdown",
      "metadata": {
        "id": "view-in-github",
        "colab_type": "text"
      },
      "source": [
        "<a href=\"https://colab.research.google.com/github/CREVIOS/SSI_2020/blob/master/Lecture_4_4_%5BSolutions%5D_Hypothesis_Testing_III.ipynb\" target=\"_parent\"><img src=\"https://colab.research.google.com/assets/colab-badge.svg\" alt=\"Open In Colab\"/></a>"
      ]
    },
    {
      "cell_type": "markdown",
      "metadata": {
        "id": "rtPYVXYgxV49",
        "colab_type": "text"
      },
      "source": [
        "Find a confidence interval for difference in sales from brick-and-mortar customers and online customers. "
      ]
    },
    {
      "cell_type": "code",
      "metadata": {
        "id": "QjoaWo2J34jq",
        "colab_type": "code",
        "colab": {
          "base_uri": "https://localhost:8080/",
          "height": 51
        },
        "outputId": "fae9009b-b544-42bd-a007-2c109a0c107e"
      },
      "source": [
        "import math \n",
        "from scipy import stats\n",
        "mu_B = 75\n",
        "S_B = 22\n",
        "n_B = 50\n",
        "n_O = 100\n",
        "mu_O = 115 \n",
        "S_O = 40\n",
        "\n",
        "mu_diff = mu_B - mu_O\n",
        "S_diff = math.sqrt(S_B ** 2 / n_B + S_O ** 2 / n_O)\n",
        "def find_df_diff(S_B, n_B, S_O, n_O):\n",
        "  return (S_B ** 2 / (n_B) + S_O ** 2 / (n_O)) ** 2 / (1 / (n_B - 1) * (S_B ** 2 / n_B) ** 2 + 1 / (n_O - 1) * (S_O ** 2 / n_O) ** 2) \n",
        "\n",
        "df_diff = (S_B ** 2 / (n_B) + S_O ** 2 / (n_O)) ** 2 / (1 / (n_B - 1) * (S_B ** 2 / n_B) ** 2 + 1 / (n_O - 1) * (S_O ** 2 / n_O) ** 2)\n",
        "print(df_diff)\n",
        "print(stats.t.interval(alpha=0.95,df = df_diff, loc = mu_diff, scale=S_diff))"
      ],
      "execution_count": null,
      "outputs": [
        {
          "output_type": "stream",
          "text": [
            "146.60739167122998\n",
            "(-50.01487140456455, -29.985128595435448)\n"
          ],
          "name": "stdout"
        }
      ]
    },
    {
      "cell_type": "markdown",
      "metadata": {
        "id": "KWxsyCGHxXis",
        "colab_type": "text"
      },
      "source": [
        "Now, do a significance test on the null hypothesis that the brick and mortar sales are equal to online sales. "
      ]
    },
    {
      "cell_type": "code",
      "metadata": {
        "id": "deIWtSuB4FAp",
        "colab_type": "code",
        "colab": {
          "base_uri": "https://localhost:8080/",
          "height": 51
        },
        "outputId": "d5a003df-bdcf-4086-e74e-d8b8676cd4ef"
      },
      "source": [
        "t_stat = (mu_B - mu_O) / (S_diff)\n",
        "print(stats.t.cdf(t_stat, df = df_diff, loc=0, scale=1))\n",
        "print(stats.t.cdf(mu_B - mu_O, df = df_diff, loc=0, scale=S_diff))\n"
      ],
      "execution_count": null,
      "outputs": [
        {
          "output_type": "stream",
          "text": [
            "3.1507935962031796e-13\n",
            "3.1507935962031796e-13\n"
          ],
          "name": "stdout"
        }
      ]
    }
  ]
}